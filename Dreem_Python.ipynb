{
  "nbformat": 4,
  "nbformat_minor": 0,
  "metadata": {
    "colab": {
      "name": "Dreem Python",
      "version": "0.3.2",
      "provenance": [],
      "collapsed_sections": []
    },
    "kernelspec": {
      "name": "python3",
      "display_name": "Python 3"
    }
  },
  "cells": [
    {
      "metadata": {
        "id": "jPid_3mQOWZ1",
        "colab_type": "text"
      },
      "cell_type": "markdown",
      "source": [
        "#  Initialisation et importation des données"
      ]
    },
    {
      "metadata": {
        "id": "iGk-o7yko5E-",
        "colab_type": "code",
        "outputId": "7b56444a-0e35-4b4c-e8e7-cbaeece15742",
        "colab": {
          "base_uri": "https://localhost:8080/",
          "height": 129
        }
      },
      "cell_type": "code",
      "source": [
        "from google.colab import drive\n",
        "drive.mount(\"/content/drive\", force_remount=True)"
      ],
      "execution_count": 0,
      "outputs": [
        {
          "output_type": "stream",
          "text": [
            "Go to this URL in a browser: https://accounts.google.com/o/oauth2/auth?client_id=947318989803-6bn6qk8qdgf4n4g3pfee6491hc0brc4i.apps.googleusercontent.com&redirect_uri=urn%3Aietf%3Awg%3Aoauth%3A2.0%3Aoob&scope=email%20https%3A%2F%2Fwww.googleapis.com%2Fauth%2Fdocs.test%20https%3A%2F%2Fwww.googleapis.com%2Fauth%2Fdrive%20https%3A%2F%2Fwww.googleapis.com%2Fauth%2Fdrive.photos.readonly%20https%3A%2F%2Fwww.googleapis.com%2Fauth%2Fpeopleapi.readonly&response_type=code\n",
            "\n",
            "Enter your authorization code:\n",
            "··········\n",
            "Mounted at /content/drive\n"
          ],
          "name": "stdout"
        }
      ]
    },
    {
      "metadata": {
        "id": "J8e6Ql5RpFBr",
        "colab_type": "code",
        "colab": {}
      },
      "cell_type": "code",
      "source": [
        "import pandas as pd\n",
        "import h5py \n",
        "import numpy as np"
      ],
      "execution_count": 0,
      "outputs": []
    },
    {
      "metadata": {
        "id": "qlVe8oFMpJRi",
        "colab_type": "code",
        "outputId": "b0206d3a-27bb-4e9e-cc17-645405d0be27",
        "colab": {
          "base_uri": "https://localhost:8080/",
          "height": 220
        }
      },
      "cell_type": "code",
      "source": [
        "f = h5py.File('drive/My Drive/PLP project/Dreem/train.h5','r')\n",
        "list(f)"
      ],
      "execution_count": 0,
      "outputs": [
        {
          "output_type": "execute_result",
          "data": {
            "text/plain": [
              "['accelerometer_x',\n",
              " 'accelerometer_y',\n",
              " 'accelerometer_z',\n",
              " 'eeg_1',\n",
              " 'eeg_2',\n",
              " 'eeg_3',\n",
              " 'eeg_4',\n",
              " 'eeg_5',\n",
              " 'eeg_6',\n",
              " 'eeg_7',\n",
              " 'pulse_oximeter_infrared']"
            ]
          },
          "metadata": {
            "tags": []
          },
          "execution_count": 3
        }
      ]
    },
    {
      "metadata": {
        "id": "qk1CHrFJpRRQ",
        "colab_type": "text"
      },
      "cell_type": "markdown",
      "source": [
        "## Filtrage"
      ]
    },
    {
      "metadata": {
        "id": "SuvczB2KoIA8",
        "colab_type": "text"
      },
      "cell_type": "markdown",
      "source": [
        "Pour le prétraitement des données, nous avons choisi de prendre 4 versions filtrées de chaque signal "
      ]
    },
    {
      "metadata": {
        "id": "jjOj5R3wpNHn",
        "colab_type": "code",
        "colab": {}
      },
      "cell_type": "code",
      "source": [
        "from scipy.signal import butter, lfilter\n",
        "def butter_bandpass(lowcut, highcut, fs, order=5):\n",
        "    nyq = 0.5 * fs\n",
        "    low = lowcut / nyq\n",
        "    high = highcut / nyq\n",
        "    b, a = butter(order, [low, high], btype='band')\n",
        "    return b, a\n",
        "  \n",
        "BDelta=butter_bandpass(0.01,4,50,order=3)\n",
        "BTheta=butter_bandpass(4,6.5,50,order=3)\n",
        "BAlpha=butter_bandpass(6.5,11,50,order=3)\n",
        "BBeta=butter_bandpass(11,20,50,order=3)\n",
        "BGamma=butter_bandpass(20,24,50,order=3)\n"
      ],
      "execution_count": 0,
      "outputs": []
    },
    {
      "metadata": {
        "id": "yODUq2P-pXJy",
        "colab_type": "text"
      },
      "cell_type": "markdown",
      "source": [
        "## Extraction de  features"
      ]
    },
    {
      "metadata": {
        "id": "v4TzLBl5Rrjx",
        "colab_type": "text"
      },
      "cell_type": "markdown",
      "source": [
        "Dans cette partie, l'extraction se fait avec des fonction numpy se basant sur le parallélisme, elle se fait rapidement comparant avec le \"slow extraction\" juste au dessous qui fait l'extraction avec une boucle sur toutes les lignes"
      ]
    },
    {
      "metadata": {
        "id": "lLI9R03cPqQb",
        "colab_type": "text"
      },
      "cell_type": "markdown",
      "source": [
        "### Fast extraction (parallélisme)"
      ]
    },
    {
      "metadata": {
        "id": "GpdxiaIrpc91",
        "colab_type": "code",
        "outputId": "a91fa84b-2c23-4722-ae2a-663ee03ece15",
        "colab": {
          "base_uri": "https://localhost:8080/",
          "height": 35
        }
      },
      "cell_type": "code",
      "source": [
        "def extract_features(f,eeg,acc):\n",
        "  df = pd.DataFrame()\n",
        "  for label in eeg:\n",
        "    # variance of each signal\n",
        "    d1 = lfilter(BDelta[0], BDelta[1],f[label][:],axis=1)\n",
        "    t1=  lfilter(BTheta[0], BTheta[1],f[label][:],axis=1)\n",
        "    a1 = lfilter(BAlpha[0], BAlpha[1],f[label][:],axis=1)\n",
        "    g1 = lfilter(BGamma[0], BGamma[1],f[label][:],axis=1)\n",
        "    # d\n",
        "    column_var = pd.Series(np.var(f[label][:], axis = 1))\n",
        "    df['VarianceD'+label] = column_var\n",
        "    # energy of each signal\n",
        "    column_ener =pd.Series(np.sum(np.sqrt(d1*d1),axis = 1))\n",
        "    df[\"EnergyD\"+label]=column_ener\n",
        "    #Entropy\n",
        "    column_entr =pd.Series(np.sum(d1*d1*np.log(abs(d1)),axis = 1))\n",
        "    df[\"EntropyD\"+label]=column_entr\n",
        "    \n",
        "    column_var = pd.Series(np.var(t1, axis = 1))\n",
        "    df['VarianceT'+label] = column_var\n",
        "    # energy of each signal\n",
        "    column_ener =pd.Series(np.sum(np.sqrt(t1*t1),axis = 1))\n",
        "    df[\"EnergyT\"+label]=column_ener\n",
        "    #Entropy\n",
        "    column_entr =pd.Series(np.sum(t1*t1*np.log(abs(t1)),axis = 1))\n",
        "    df[\"EntropyT\"+label]=column_entr\n",
        "    column_var = pd.Series(np.var(a1, axis = 1))\n",
        "    df['VarianceA'+label] = column_var\n",
        "    # energy of each signal\n",
        "    column_ener =pd.Series(np.sum(np.sqrt(a1*a1),axis = 1))\n",
        "    df[\"EnergyA\"+label]=column_ener\n",
        "    #Entropy\n",
        "    column_entr =pd.Series(np.sum(g1*g1*np.log(abs(g1)),axis = 1))\n",
        "    df[\"EntropyA\"+label]=column_entr\n",
        "    df['VarianceG'+label] = column_var\n",
        "    # energy of each signal\n",
        "    column_ener =pd.Series(np.sum(np.sqrt(g1*g1),axis = 1))\n",
        "    df[\"EnergyG\"+label]=column_ener\n",
        "    #Entropy\n",
        "    column_entr =pd.Series(np.sum(g1*g1*np.log(abs(g1)),axis = 1))\n",
        "    df[\"EntropyG\"+label]=column_entr\n",
        "  for label in acc:\n",
        "    # variance of each signal\n",
        "    column_var = pd.Series(np.var(f[label][:], axis = 1))\n",
        "    df[label+\"_\"+\"var\"] = column_var\n",
        "    # variance of each signal\n",
        "    column_mean = pd.Series(np.mean(f[label][:], axis = 1))\n",
        "    df[label+\"_\"+\"mean\"] = column_mean\n",
        "    \n",
        "  return(df)\n",
        "l=['eeg_1','eeg_2','eeg_3','eeg_4','eeg_5','eeg_6','eeg_7']\n",
        "acc=['accelerometer_x',\n",
        " 'accelerometer_y','accelerometer_z']\n",
        "import time\n",
        "tmps1=time.clock()\n",
        "df=extract_features(f,l,acc)\n",
        "tmps2=time.clock()\n",
        "print(tmps2-tmps1)"
      ],
      "execution_count": 0,
      "outputs": [
        {
          "output_type": "stream",
          "text": [
            "3.7876309999999993\n"
          ],
          "name": "stdout"
        }
      ]
    },
    {
      "metadata": {
        "id": "5Sg-HlLgPvVN",
        "colab_type": "text"
      },
      "cell_type": "markdown",
      "source": [
        "### Slow extraction"
      ]
    },
    {
      "metadata": {
        "id": "HB2JVcJ-V0KV",
        "colab_type": "code",
        "colab": {}
      },
      "cell_type": "code",
      "source": [
        "def Entropy(x):\n",
        "  return(np.sum(x*x*np.log(abs(x))).astype(type('float', (float,), {})))\n",
        "def Energy(x):\n",
        "  return(np.sum(np.sqrt(x*x)).astype(type('float', (float,), {})))\n",
        "def Ecart_type(x):\n",
        "  return(np.var(x).astype(type('float', (float,), {})))"
      ],
      "execution_count": 0,
      "outputs": []
    },
    {
      "metadata": {
        "id": "EWrUAYmK6WSg",
        "colab_type": "code",
        "outputId": "50c70086-f662-42dc-9fb3-fcea52ee6da1",
        "colab": {
          "base_uri": "https://localhost:8080/",
          "height": 220
        }
      },
      "cell_type": "code",
      "source": [
        "import time\n",
        "EntropyD1=[]\n",
        "EntropyT1=[]\n",
        "EntropyA1=[]\n",
        "EntropyG1=[]\n",
        "EnergyD1=[]\n",
        "EnergyT1=[]\n",
        "EnergyA1=[]\n",
        "EnergyG1=[]\n",
        "ECD1=[]\n",
        "ECT1=[]\n",
        "ECA1=[]\n",
        "ECG1=[]\n",
        "Mx=[]\n",
        "My=[]\n",
        "Mz=[]\n",
        "Sx=[]\n",
        "Sy=[]\n",
        "Sz=[]\n",
        "dfu=pd.DataFrame(np.zeros((200,18)), columns=[\"EntropyD1\", \"EntropyT1\",\"EntropyA1\",\"EntropyG1\",\"EnergyD1\",\"EnergyT1\",\"EnergyA1\",\"EnergyG1\",\"ECD1\",\"ECT1\",\"ECA1\",\"ECG1\",\"Mx\",\"My\",\"Mz\",\"Sx\",\"Sy\",\"Sz\"])\n",
        "tmps1=time.clock()\n",
        "\n",
        "for i in range(100):\n",
        "  if i%10==0:\n",
        "    print(i)\n",
        "  v1=f[\"eeg_1\"][:][i]\n",
        "  vx=f[\"accelerometer_x\"][:][i]\n",
        "  vy=f[\"accelerometer_y\"][:][i]\n",
        "  vz=f[\"accelerometer_z\"][:][i]\n",
        "  d1 = lfilter(BDelta[0], BDelta[1],v1)\n",
        "  t1=  lfilter(BTheta[0], BTheta[1],v1)\n",
        "  a1 = lfilter(BAlpha[0], BAlpha[1],v1)\n",
        "  g1 = lfilter(BGamma[0], BGamma[1],v1)\n",
        "  \n",
        "  EntropyD1.append(Entropy(d1))\n",
        "  EntropyT1.append(Entropy(t1))\n",
        "  EntropyA1.append(Entropy(a1))\n",
        "  EntropyG1.append(Entropy(g1))\n",
        "  EnergyD1.append(Energy(d1))\n",
        "  EnergyT1.append(Energy(t1))\n",
        "  EnergyA1.append(Energy(a1))\n",
        "  EnergyG1.append(Energy(g1))\n",
        "  ECD1.append(Ecart_type(d1))\n",
        "  ECT1.append(Ecart_type(t1))\n",
        "  ECA1.append(Ecart_type(a1))\n",
        "  ECG1.append(Ecart_type(g1))\n",
        "  Mx.append(np.mean(vx))\n",
        "  My.append(np.mean(vy))\n",
        "  Mz.append(np.mean(vz))\n",
        "  Sx.append(Ecart_type(vx))\n",
        "  Sy.append(Ecart_type(vy))\n",
        "  Sz.append(Ecart_type(vz))\n",
        "tmps2=time.clock()\n",
        "print(tmps2-tmps1)"
      ],
      "execution_count": 0,
      "outputs": [
        {
          "output_type": "stream",
          "text": [
            "0\n",
            "10\n",
            "20\n",
            "30\n",
            "40\n",
            "50\n",
            "60\n",
            "70\n",
            "80\n",
            "90\n",
            "533.8514660000001\n"
          ],
          "name": "stdout"
        }
      ]
    },
    {
      "metadata": {
        "id": "ZCFBn9XFtXgD",
        "colab_type": "code",
        "outputId": "524c51fd-6aee-4924-a293-9c1bdf0e5560",
        "colab": {
          "base_uri": "https://localhost:8080/",
          "height": 256
        }
      },
      "cell_type": "code",
      "source": [
        "df.head()"
      ],
      "execution_count": 0,
      "outputs": [
        {
          "output_type": "execute_result",
          "data": {
            "text/html": [
              "<div>\n",
              "<style scoped>\n",
              "    .dataframe tbody tr th:only-of-type {\n",
              "        vertical-align: middle;\n",
              "    }\n",
              "\n",
              "    .dataframe tbody tr th {\n",
              "        vertical-align: top;\n",
              "    }\n",
              "\n",
              "    .dataframe thead th {\n",
              "        text-align: right;\n",
              "    }\n",
              "</style>\n",
              "<table border=\"1\" class=\"dataframe\">\n",
              "  <thead>\n",
              "    <tr style=\"text-align: right;\">\n",
              "      <th></th>\n",
              "      <th>VarianceDeeg_1</th>\n",
              "      <th>EnergyDeeg_1</th>\n",
              "      <th>EntropyDeeg_1</th>\n",
              "      <th>VarianceTeeg_1</th>\n",
              "      <th>EnergyTeeg_1</th>\n",
              "      <th>EntropyTeeg_1</th>\n",
              "      <th>VarianceAeeg_1</th>\n",
              "      <th>EnergyAeeg_1</th>\n",
              "      <th>EntropyAeeg_1</th>\n",
              "      <th>VarianceGeeg_1</th>\n",
              "      <th>...</th>\n",
              "      <th>EntropyAeeg_7</th>\n",
              "      <th>VarianceGeeg_7</th>\n",
              "      <th>EnergyGeeg_7</th>\n",
              "      <th>EntropyGeeg_7</th>\n",
              "      <th>accelerometer_x_var</th>\n",
              "      <th>accelerometer_x_mean</th>\n",
              "      <th>accelerometer_y_var</th>\n",
              "      <th>accelerometer_y_mean</th>\n",
              "      <th>accelerometer_z_var</th>\n",
              "      <th>accelerometer_z_mean</th>\n",
              "    </tr>\n",
              "  </thead>\n",
              "  <tbody>\n",
              "    <tr>\n",
              "      <th>0</th>\n",
              "      <td>327.913418</td>\n",
              "      <td>18186.310000</td>\n",
              "      <td>1.608893e+06</td>\n",
              "      <td>7.965741</td>\n",
              "      <td>3162.483238</td>\n",
              "      <td>1.831332e+04</td>\n",
              "      <td>6.649141</td>\n",
              "      <td>2857.110683</td>\n",
              "      <td>3680.011188</td>\n",
              "      <td>6.649141</td>\n",
              "      <td>...</td>\n",
              "      <td>41200.781411</td>\n",
              "      <td>46.508059</td>\n",
              "      <td>3318.484794</td>\n",
              "      <td>41200.781411</td>\n",
              "      <td>1.621020e-06</td>\n",
              "      <td>-0.000025</td>\n",
              "      <td>4.314815e-06</td>\n",
              "      <td>0.000122</td>\n",
              "      <td>3.293953e-06</td>\n",
              "      <td>-0.000053</td>\n",
              "    </tr>\n",
              "    <tr>\n",
              "      <th>1</th>\n",
              "      <td>634.051694</td>\n",
              "      <td>27976.473886</td>\n",
              "      <td>3.214697e+06</td>\n",
              "      <td>21.404189</td>\n",
              "      <td>4917.403356</td>\n",
              "      <td>6.934785e+04</td>\n",
              "      <td>10.770712</td>\n",
              "      <td>3508.849069</td>\n",
              "      <td>1436.798840</td>\n",
              "      <td>10.770712</td>\n",
              "      <td>...</td>\n",
              "      <td>2331.562705</td>\n",
              "      <td>28.048525</td>\n",
              "      <td>1761.036826</td>\n",
              "      <td>2331.562705</td>\n",
              "      <td>1.057023e-07</td>\n",
              "      <td>-0.000005</td>\n",
              "      <td>1.425968e-07</td>\n",
              "      <td>-0.000014</td>\n",
              "      <td>5.060436e-07</td>\n",
              "      <td>0.000001</td>\n",
              "    </tr>\n",
              "    <tr>\n",
              "      <th>2</th>\n",
              "      <td>237110.757336</td>\n",
              "      <td>174067.128941</td>\n",
              "      <td>2.778797e+09</td>\n",
              "      <td>1251.247284</td>\n",
              "      <td>10187.244955</td>\n",
              "      <td>1.071720e+07</td>\n",
              "      <td>169.636602</td>\n",
              "      <td>4600.565238</td>\n",
              "      <td>1826.260440</td>\n",
              "      <td>169.636602</td>\n",
              "      <td>...</td>\n",
              "      <td>2479.713219</td>\n",
              "      <td>17.301207</td>\n",
              "      <td>1789.749083</td>\n",
              "      <td>2479.713219</td>\n",
              "      <td>1.670079e-06</td>\n",
              "      <td>0.000034</td>\n",
              "      <td>1.077994e-06</td>\n",
              "      <td>0.000029</td>\n",
              "      <td>6.769185e-07</td>\n",
              "      <td>0.000042</td>\n",
              "    </tr>\n",
              "    <tr>\n",
              "      <th>3</th>\n",
              "      <td>38.693771</td>\n",
              "      <td>6057.099030</td>\n",
              "      <td>1.014804e+05</td>\n",
              "      <td>2.303627</td>\n",
              "      <td>1784.041496</td>\n",
              "      <td>2.891541e+03</td>\n",
              "      <td>2.218116</td>\n",
              "      <td>1770.207043</td>\n",
              "      <td>203.685148</td>\n",
              "      <td>2.218116</td>\n",
              "      <td>...</td>\n",
              "      <td>3055.283146</td>\n",
              "      <td>10.127654</td>\n",
              "      <td>1887.772473</td>\n",
              "      <td>3055.283146</td>\n",
              "      <td>2.508012e-07</td>\n",
              "      <td>0.000019</td>\n",
              "      <td>1.430208e-07</td>\n",
              "      <td>0.000009</td>\n",
              "      <td>3.258193e-07</td>\n",
              "      <td>-0.000027</td>\n",
              "    </tr>\n",
              "    <tr>\n",
              "      <th>4</th>\n",
              "      <td>59.230668</td>\n",
              "      <td>8145.364406</td>\n",
              "      <td>1.637927e+05</td>\n",
              "      <td>3.728306</td>\n",
              "      <td>2321.140006</td>\n",
              "      <td>5.688684e+03</td>\n",
              "      <td>4.868073</td>\n",
              "      <td>2623.657942</td>\n",
              "      <td>141.207608</td>\n",
              "      <td>4.868073</td>\n",
              "      <td>...</td>\n",
              "      <td>108401.406766</td>\n",
              "      <td>12399.198136</td>\n",
              "      <td>5033.912627</td>\n",
              "      <td>108401.406766</td>\n",
              "      <td>2.567212e-07</td>\n",
              "      <td>0.000008</td>\n",
              "      <td>1.990289e-07</td>\n",
              "      <td>0.000037</td>\n",
              "      <td>3.972578e-07</td>\n",
              "      <td>0.000003</td>\n",
              "    </tr>\n",
              "  </tbody>\n",
              "</table>\n",
              "<p>5 rows × 90 columns</p>\n",
              "</div>"
            ],
            "text/plain": [
              "   VarianceDeeg_1   EnergyDeeg_1  EntropyDeeg_1  VarianceTeeg_1  EnergyTeeg_1  \\\n",
              "0      327.913418   18186.310000   1.608893e+06        7.965741   3162.483238   \n",
              "1      634.051694   27976.473886   3.214697e+06       21.404189   4917.403356   \n",
              "2   237110.757336  174067.128941   2.778797e+09     1251.247284  10187.244955   \n",
              "3       38.693771    6057.099030   1.014804e+05        2.303627   1784.041496   \n",
              "4       59.230668    8145.364406   1.637927e+05        3.728306   2321.140006   \n",
              "\n",
              "   EntropyTeeg_1  VarianceAeeg_1  EnergyAeeg_1  EntropyAeeg_1  VarianceGeeg_1  \\\n",
              "0   1.831332e+04        6.649141   2857.110683    3680.011188        6.649141   \n",
              "1   6.934785e+04       10.770712   3508.849069    1436.798840       10.770712   \n",
              "2   1.071720e+07      169.636602   4600.565238    1826.260440      169.636602   \n",
              "3   2.891541e+03        2.218116   1770.207043     203.685148        2.218116   \n",
              "4   5.688684e+03        4.868073   2623.657942     141.207608        4.868073   \n",
              "\n",
              "           ...           EntropyAeeg_7  VarianceGeeg_7  EnergyGeeg_7  \\\n",
              "0          ...            41200.781411       46.508059   3318.484794   \n",
              "1          ...             2331.562705       28.048525   1761.036826   \n",
              "2          ...             2479.713219       17.301207   1789.749083   \n",
              "3          ...             3055.283146       10.127654   1887.772473   \n",
              "4          ...           108401.406766    12399.198136   5033.912627   \n",
              "\n",
              "   EntropyGeeg_7  accelerometer_x_var  accelerometer_x_mean  \\\n",
              "0   41200.781411         1.621020e-06             -0.000025   \n",
              "1    2331.562705         1.057023e-07             -0.000005   \n",
              "2    2479.713219         1.670079e-06              0.000034   \n",
              "3    3055.283146         2.508012e-07              0.000019   \n",
              "4  108401.406766         2.567212e-07              0.000008   \n",
              "\n",
              "   accelerometer_y_var  accelerometer_y_mean  accelerometer_z_var  \\\n",
              "0         4.314815e-06              0.000122         3.293953e-06   \n",
              "1         1.425968e-07             -0.000014         5.060436e-07   \n",
              "2         1.077994e-06              0.000029         6.769185e-07   \n",
              "3         1.430208e-07              0.000009         3.258193e-07   \n",
              "4         1.990289e-07              0.000037         3.972578e-07   \n",
              "\n",
              "   accelerometer_z_mean  \n",
              "0             -0.000053  \n",
              "1              0.000001  \n",
              "2              0.000042  \n",
              "3             -0.000027  \n",
              "4              0.000003  \n",
              "\n",
              "[5 rows x 90 columns]"
            ]
          },
          "metadata": {
            "tags": []
          },
          "execution_count": 6
        }
      ]
    },
    {
      "metadata": {
        "id": "pGqLPeYEpw96",
        "colab_type": "code",
        "colab": {}
      },
      "cell_type": "code",
      "source": [
        "file='drive/My Drive/PLP project/Dreem/train_y.csv'\n",
        "labels=pd.read_csv(file)\n",
        "df[\"labels\"]=labels[\"sleep_stage\"]"
      ],
      "execution_count": 0,
      "outputs": []
    },
    {
      "metadata": {
        "id": "EECaNStItCTS",
        "colab_type": "code",
        "outputId": "a6e8c265-7e83-4b94-acff-5dce27026c7a",
        "colab": {
          "base_uri": "https://localhost:8080/",
          "height": 256
        }
      },
      "cell_type": "code",
      "source": [
        "df.head()"
      ],
      "execution_count": 0,
      "outputs": [
        {
          "output_type": "execute_result",
          "data": {
            "text/html": [
              "<div>\n",
              "<style scoped>\n",
              "    .dataframe tbody tr th:only-of-type {\n",
              "        vertical-align: middle;\n",
              "    }\n",
              "\n",
              "    .dataframe tbody tr th {\n",
              "        vertical-align: top;\n",
              "    }\n",
              "\n",
              "    .dataframe thead th {\n",
              "        text-align: right;\n",
              "    }\n",
              "</style>\n",
              "<table border=\"1\" class=\"dataframe\">\n",
              "  <thead>\n",
              "    <tr style=\"text-align: right;\">\n",
              "      <th></th>\n",
              "      <th>VarianceDeeg_1</th>\n",
              "      <th>EnergyDeeg_1</th>\n",
              "      <th>EntropyDeeg_1</th>\n",
              "      <th>VarianceTeeg_1</th>\n",
              "      <th>EnergyTeeg_1</th>\n",
              "      <th>EntropyTeeg_1</th>\n",
              "      <th>VarianceAeeg_1</th>\n",
              "      <th>EnergyAeeg_1</th>\n",
              "      <th>EntropyAeeg_1</th>\n",
              "      <th>VarianceGeeg_1</th>\n",
              "      <th>...</th>\n",
              "      <th>VarianceGeeg_7</th>\n",
              "      <th>EnergyGeeg_7</th>\n",
              "      <th>EntropyGeeg_7</th>\n",
              "      <th>accelerometer_x_var</th>\n",
              "      <th>accelerometer_x_mean</th>\n",
              "      <th>accelerometer_y_var</th>\n",
              "      <th>accelerometer_y_mean</th>\n",
              "      <th>accelerometer_z_var</th>\n",
              "      <th>accelerometer_z_mean</th>\n",
              "      <th>labels</th>\n",
              "    </tr>\n",
              "  </thead>\n",
              "  <tbody>\n",
              "    <tr>\n",
              "      <th>0</th>\n",
              "      <td>327.913418</td>\n",
              "      <td>18186.310000</td>\n",
              "      <td>1.608893e+06</td>\n",
              "      <td>7.965741</td>\n",
              "      <td>3162.483238</td>\n",
              "      <td>1.831332e+04</td>\n",
              "      <td>6.649141</td>\n",
              "      <td>2857.110683</td>\n",
              "      <td>3680.011188</td>\n",
              "      <td>6.649141</td>\n",
              "      <td>...</td>\n",
              "      <td>46.508059</td>\n",
              "      <td>3318.484794</td>\n",
              "      <td>41200.781411</td>\n",
              "      <td>1.621020e-06</td>\n",
              "      <td>-0.000025</td>\n",
              "      <td>4.314815e-06</td>\n",
              "      <td>0.000122</td>\n",
              "      <td>3.293953e-06</td>\n",
              "      <td>-0.000053</td>\n",
              "      <td>3</td>\n",
              "    </tr>\n",
              "    <tr>\n",
              "      <th>1</th>\n",
              "      <td>634.051694</td>\n",
              "      <td>27976.473886</td>\n",
              "      <td>3.214697e+06</td>\n",
              "      <td>21.404189</td>\n",
              "      <td>4917.403356</td>\n",
              "      <td>6.934785e+04</td>\n",
              "      <td>10.770712</td>\n",
              "      <td>3508.849069</td>\n",
              "      <td>1436.798840</td>\n",
              "      <td>10.770712</td>\n",
              "      <td>...</td>\n",
              "      <td>28.048525</td>\n",
              "      <td>1761.036826</td>\n",
              "      <td>2331.562705</td>\n",
              "      <td>1.057023e-07</td>\n",
              "      <td>-0.000005</td>\n",
              "      <td>1.425968e-07</td>\n",
              "      <td>-0.000014</td>\n",
              "      <td>5.060436e-07</td>\n",
              "      <td>0.000001</td>\n",
              "      <td>3</td>\n",
              "    </tr>\n",
              "    <tr>\n",
              "      <th>2</th>\n",
              "      <td>237110.757336</td>\n",
              "      <td>174067.128941</td>\n",
              "      <td>2.778797e+09</td>\n",
              "      <td>1251.247284</td>\n",
              "      <td>10187.244955</td>\n",
              "      <td>1.071720e+07</td>\n",
              "      <td>169.636602</td>\n",
              "      <td>4600.565238</td>\n",
              "      <td>1826.260440</td>\n",
              "      <td>169.636602</td>\n",
              "      <td>...</td>\n",
              "      <td>17.301207</td>\n",
              "      <td>1789.749083</td>\n",
              "      <td>2479.713219</td>\n",
              "      <td>1.670079e-06</td>\n",
              "      <td>0.000034</td>\n",
              "      <td>1.077994e-06</td>\n",
              "      <td>0.000029</td>\n",
              "      <td>6.769185e-07</td>\n",
              "      <td>0.000042</td>\n",
              "      <td>3</td>\n",
              "    </tr>\n",
              "    <tr>\n",
              "      <th>3</th>\n",
              "      <td>38.693771</td>\n",
              "      <td>6057.099030</td>\n",
              "      <td>1.014804e+05</td>\n",
              "      <td>2.303627</td>\n",
              "      <td>1784.041496</td>\n",
              "      <td>2.891541e+03</td>\n",
              "      <td>2.218116</td>\n",
              "      <td>1770.207043</td>\n",
              "      <td>203.685148</td>\n",
              "      <td>2.218116</td>\n",
              "      <td>...</td>\n",
              "      <td>10.127654</td>\n",
              "      <td>1887.772473</td>\n",
              "      <td>3055.283146</td>\n",
              "      <td>2.508012e-07</td>\n",
              "      <td>0.000019</td>\n",
              "      <td>1.430208e-07</td>\n",
              "      <td>0.000009</td>\n",
              "      <td>3.258193e-07</td>\n",
              "      <td>-0.000027</td>\n",
              "      <td>2</td>\n",
              "    </tr>\n",
              "    <tr>\n",
              "      <th>4</th>\n",
              "      <td>59.230668</td>\n",
              "      <td>8145.364406</td>\n",
              "      <td>1.637927e+05</td>\n",
              "      <td>3.728306</td>\n",
              "      <td>2321.140006</td>\n",
              "      <td>5.688684e+03</td>\n",
              "      <td>4.868073</td>\n",
              "      <td>2623.657942</td>\n",
              "      <td>141.207608</td>\n",
              "      <td>4.868073</td>\n",
              "      <td>...</td>\n",
              "      <td>12399.198136</td>\n",
              "      <td>5033.912627</td>\n",
              "      <td>108401.406766</td>\n",
              "      <td>2.567212e-07</td>\n",
              "      <td>0.000008</td>\n",
              "      <td>1.990289e-07</td>\n",
              "      <td>0.000037</td>\n",
              "      <td>3.972578e-07</td>\n",
              "      <td>0.000003</td>\n",
              "      <td>2</td>\n",
              "    </tr>\n",
              "  </tbody>\n",
              "</table>\n",
              "<p>5 rows × 91 columns</p>\n",
              "</div>"
            ],
            "text/plain": [
              "   VarianceDeeg_1   EnergyDeeg_1  EntropyDeeg_1  VarianceTeeg_1  EnergyTeeg_1  \\\n",
              "0      327.913418   18186.310000   1.608893e+06        7.965741   3162.483238   \n",
              "1      634.051694   27976.473886   3.214697e+06       21.404189   4917.403356   \n",
              "2   237110.757336  174067.128941   2.778797e+09     1251.247284  10187.244955   \n",
              "3       38.693771    6057.099030   1.014804e+05        2.303627   1784.041496   \n",
              "4       59.230668    8145.364406   1.637927e+05        3.728306   2321.140006   \n",
              "\n",
              "   EntropyTeeg_1  VarianceAeeg_1  EnergyAeeg_1  EntropyAeeg_1  VarianceGeeg_1  \\\n",
              "0   1.831332e+04        6.649141   2857.110683    3680.011188        6.649141   \n",
              "1   6.934785e+04       10.770712   3508.849069    1436.798840       10.770712   \n",
              "2   1.071720e+07      169.636602   4600.565238    1826.260440      169.636602   \n",
              "3   2.891541e+03        2.218116   1770.207043     203.685148        2.218116   \n",
              "4   5.688684e+03        4.868073   2623.657942     141.207608        4.868073   \n",
              "\n",
              "    ...    VarianceGeeg_7  EnergyGeeg_7  EntropyGeeg_7  accelerometer_x_var  \\\n",
              "0   ...         46.508059   3318.484794   41200.781411         1.621020e-06   \n",
              "1   ...         28.048525   1761.036826    2331.562705         1.057023e-07   \n",
              "2   ...         17.301207   1789.749083    2479.713219         1.670079e-06   \n",
              "3   ...         10.127654   1887.772473    3055.283146         2.508012e-07   \n",
              "4   ...      12399.198136   5033.912627  108401.406766         2.567212e-07   \n",
              "\n",
              "   accelerometer_x_mean  accelerometer_y_var  accelerometer_y_mean  \\\n",
              "0             -0.000025         4.314815e-06              0.000122   \n",
              "1             -0.000005         1.425968e-07             -0.000014   \n",
              "2              0.000034         1.077994e-06              0.000029   \n",
              "3              0.000019         1.430208e-07              0.000009   \n",
              "4              0.000008         1.990289e-07              0.000037   \n",
              "\n",
              "   accelerometer_z_var  accelerometer_z_mean  labels  \n",
              "0         3.293953e-06             -0.000053       3  \n",
              "1         5.060436e-07              0.000001       3  \n",
              "2         6.769185e-07              0.000042       3  \n",
              "3         3.258193e-07             -0.000027       2  \n",
              "4         3.972578e-07              0.000003       2  \n",
              "\n",
              "[5 rows x 91 columns]"
            ]
          },
          "metadata": {
            "tags": []
          },
          "execution_count": 24
        }
      ]
    },
    {
      "metadata": {
        "id": "C0DT8dlkm4-x",
        "colab_type": "text"
      },
      "cell_type": "markdown",
      "source": [
        "Ci-dessous, nous comparons le temps d'apprentissage et la précision en termes de validation du modèle avec Scikit learn en fonction de la taille de l'échantillon. Pour ce faire, nous choisissons aléatoirement 20% des échantillons. Cette partie de la donnée constituera la donnée de la validation. Par la suite nous varions à chaque itération la taille de la deuxième partie pour effectuer le training."
      ]
    },
    {
      "metadata": {
        "id": "dq30F-uvp5EH",
        "colab_type": "code",
        "outputId": "25eac89f-e44a-4108-e5a1-3da0669384c2",
        "colab": {
          "base_uri": "https://localhost:8080/",
          "height": 183
        }
      },
      "cell_type": "code",
      "source": [
        "from sklearn.metrics import f1_score, accuracy_score\n",
        "from sklearn.metrics import confusion_matrix\n",
        "from sklearn.ensemble import RandomForestClassifier\n",
        "from sklearn.feature_selection import SelectKBest, f_classif,chi2\n",
        "from sklearn.model_selection import train_test_split\n",
        "import time\n",
        "temps=[]\n",
        "test_err=[]\n",
        "taille=[]\n",
        "y=df.iloc[:,-1]\n",
        "X=df.iloc[:,:-1]\n",
        "N=len(y)\n",
        "c=0.1\n",
        "X1,X_test, y1, y_test = train_test_split(X, y, test_size=0.2)\n",
        "y=df.iloc[:,-1]\n",
        "X=df.iloc[:,:-1]\n",
        "for i in range(9):\n",
        "  X_train, _, y_train, _ = train_test_split(X1, y1, test_size=c)\n",
        "  clf=RandomForestClassifier(n_estimators=100)\n",
        "  taille.append(len(y_train))\n",
        "  tmps1=time.clock()\n",
        "  clf.fit(X_train,y_train)\n",
        "  tmps2=time.clock()\n",
        "  temps.append(tmps2-tmps1)\n",
        "  y_pred_test=clf.predict(X_test)\n",
        "  test_err.append(accuracy_score(y_test, y_pred_test))\n",
        "  c=c+0.1\n",
        "  print(i)"
      ],
      "execution_count": 0,
      "outputs": [
        {
          "output_type": "stream",
          "text": [
            "0\n",
            "1\n",
            "2\n",
            "3\n",
            "4\n",
            "5\n",
            "6\n",
            "7\n",
            "8\n"
          ],
          "name": "stdout"
        }
      ]
    },
    {
      "metadata": {
        "id": "J007SFxR1vK-",
        "colab_type": "code",
        "outputId": "1bbe9560-b02a-4811-c2c8-ec1f50f02eaa",
        "colab": {
          "base_uri": "https://localhost:8080/",
          "height": 35
        }
      },
      "cell_type": "code",
      "source": [
        "print(taille)"
      ],
      "execution_count": 0,
      "outputs": [
        {
          "output_type": "stream",
          "text": [
            "[27567, 24504, 21441, 18378, 15315, 12252, 9189, 6126, 3063]\n"
          ],
          "name": "stdout"
        }
      ]
    },
    {
      "metadata": {
        "id": "MDVy2HRS1btH",
        "colab_type": "code",
        "outputId": "a27d6a5e-c49f-4922-c220-8acdca6e6cf6",
        "colab": {
          "base_uri": "https://localhost:8080/",
          "height": 55
        }
      },
      "cell_type": "code",
      "source": [
        "print(test_err)"
      ],
      "execution_count": 0,
      "outputs": [
        {
          "output_type": "stream",
          "text": [
            "[0.7320449203447376, 0.7222512405327762, 0.7246017236876469, 0.7200313397753982, 0.714416296683207, 0.6991381561765474, 0.6864716636197441, 0.6726299294855054, 0.6493862627317838]\n"
          ],
          "name": "stdout"
        }
      ]
    },
    {
      "metadata": {
        "id": "DWNe669d1joI",
        "colab_type": "code",
        "outputId": "9bf930e9-8b3a-438b-8ed2-a8972e611208",
        "colab": {
          "base_uri": "https://localhost:8080/",
          "height": 55
        }
      },
      "cell_type": "code",
      "source": [
        "print(temps)"
      ],
      "execution_count": 0,
      "outputs": [
        {
          "output_type": "stream",
          "text": [
            "[32.19396800000004, 27.947626000000014, 23.943944999999985, 19.720287999999982, 15.627562999999952, 11.863446000000067, 8.585178000000042, 5.3029829999999265, 2.3182520000000295]\n"
          ],
          "name": "stdout"
        }
      ]
    },
    {
      "metadata": {
        "id": "Q2rBSNXgnwXc",
        "colab_type": "text"
      },
      "cell_type": "markdown",
      "source": [
        "Ci-dessous je présentons les résultats"
      ]
    },
    {
      "metadata": {
        "id": "EAt1-QSCnARZ",
        "colab_type": "code",
        "outputId": "f76b8e0e-263b-40ef-a468-146f0ae3c6a6",
        "colab": {
          "base_uri": "https://localhost:8080/",
          "height": 394
        }
      },
      "cell_type": "code",
      "source": [
        "\n",
        "import matplotlib.pyplot as plt\n",
        "plt.plot(taille,temps)\n",
        "plt.title(\"Le temps d'apprentissage en fonction de la taille d'échantillon\")\n",
        "plt.ylabel('Les temps')\n",
        "plt.xlabel(\"La taille de l'échantillon\")\n"
      ],
      "execution_count": 0,
      "outputs": [
        {
          "output_type": "execute_result",
          "data": {
            "text/plain": [
              "Text(0.5, 0, \"La taille de l'échantillon\")"
            ]
          },
          "metadata": {
            "tags": []
          },
          "execution_count": 58
        },
        {
          "output_type": "display_data",
          "data": {
            "image/png": "[encoded data removed]",
            "text/plain": [
              "<Figure size 576x396 with 1 Axes>"
            ]
          },
          "metadata": {
            "tags": []
          }
        }
      ]
    },
    {
      "metadata": {
        "id": "cdeC_9A2vn6V",
        "colab_type": "code",
        "outputId": "182f4b85-942e-4ae0-cda3-793efbb08ed5",
        "colab": {
          "base_uri": "https://localhost:8080/",
          "height": 394
        }
      },
      "cell_type": "code",
      "source": [
        "import matplotlib.pyplot as plt\n",
        "plt.plot(taille,test_err)\n",
        "plt.title(\"La précision en fonction de la taille d'échantillon\")\n",
        "plt.ylabel('La précision')\n",
        "plt.xlabel(\"La taille de l'échantillon\")"
      ],
      "execution_count": 0,
      "outputs": [
        {
          "output_type": "execute_result",
          "data": {
            "text/plain": [
              "Text(0.5, 0, \"La taille de l'échantillon\")"
            ]
          },
          "metadata": {
            "tags": []
          },
          "execution_count": 59
        },
        {
          "output_type": "display_data",
          "data": {
            "image/png": "[encoded data removed]",
            "text/plain": [
              "<Figure size 576x396 with 1 Axes>"
            ]
          },
          "metadata": {
            "tags": []
          }
        }
      ]
    },
    {
      "metadata": {
        "id": "hSk8r0irybJu",
        "colab_type": "code",
        "colab": {}
      },
      "cell_type": "code",
      "source": [
        "df.to_csv(\"drive/My Drive/PLP project/data_dreem.csv\")"
      ],
      "execution_count": 0,
      "outputs": []
    }
  ]
}