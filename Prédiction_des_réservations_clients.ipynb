{
  "nbformat": 4,
  "nbformat_minor": 0,
  "metadata": {
    "colab": {
      "name": "Prédiction des réservations clients",
      "version": "0.3.2",
      "provenance": [],
      "collapsed_sections": []
    },
    "kernelspec": {
      "name": "python3",
      "display_name": "Python 3"
    },
    "accelerator": "GPU"
  },
  "cells": [
    {
      "metadata": {
        "id": "UzGU8vzyKmjU",
        "colab_type": "text"
      },
      "cell_type": "markdown",
      "source": [
        "# Prédiction des réservation clients"
      ]
    },
    {
      "metadata": {
        "id": "_X3VkeiwOzms",
        "colab_type": "text"
      },
      "cell_type": "markdown",
      "source": [
        "On commence par initialiser les environnements d'exécution et importer les modules nécessaires de Pyspark.!"
      ]
    },
    {
      "metadata": {
        "id": "kvD4HBMi0ohY",
        "colab_type": "text"
      },
      "cell_type": "markdown",
      "source": [
        "###  Install Java, Spark, and Findspark\n",
        "This installs Apache Spark 2.2.1, Java 8, and [Findspark](https://github.com/minrk/findspark), a library that makes it easy for Python to find Spark."
      ]
    },
    {
      "metadata": {
        "id": "-VUprzM2LvED",
        "colab_type": "code",
        "colab": {
          "base_uri": "https://localhost:8080/",
          "height": 91
        },
        "outputId": "9e9bb682-3314-473e-acd1-ab701adeb530"
      },
      "cell_type": "code",
      "source": [
        "import tensorflow as tf\n",
        "\n",
        "\n",
        "from google.colab import drive\n",
        "drive.mount(\"/content/drive\", force_remount=True)\n",
        "\n",
        "!apt-get install openjdk-8-jdk-headless -qq > /dev/null\n",
        "!wget -q http://www-us.apache.org/dist/spark/spark-2.3.2/spark-2.3.2-bin-hadoop2.7.tgz\n",
        "!tar xf spark-2.3.2-bin-hadoop2.7.tgz\n",
        "!pip install -q findspark\n",
        "!pip install h5py\n",
        "import os\n",
        "os.environ[\"JAVA_HOME\"] = \"/usr/lib/jvm/java-8-openjdk-amd64\"\n",
        "os.environ[\"SPARK_HOME\"] = \"/content/spark-2.3.2-bin-hadoop2.7\"\n",
        "import findspark\n",
        "findspark.init()\n",
        "from pyspark.sql import SparkSession\n",
        "import pyspark\n",
        "##Liste\n",
        "from numpy import array\n",
        "##Temps\n",
        "import time\n",
        "##Row and Vector\n",
        "from pyspark.sql import Row\n",
        "from pyspark.ml.linalg import Vectors\n",
        "##Hachage et vectorisation\n",
        "from pyspark.ml.feature import HashingTF\n",
        "from pyspark.ml.feature import IDF\n",
        "##Regression logistique\n",
        "from pyspark.ml.classification import LogisticRegression\n",
        "##Decision Tree\n",
        "from pyspark.ml.classification import DecisionTreeClassifier\n",
        "##Random Forest\n",
        "from pyspark.ml.classification import RandomForestClassifier \n",
        "##Pour la création des DataFrames\n",
        "from pyspark.sql import SQLContext\n",
        "from pyspark.sql.types import *"
      ],
      "execution_count": 13,
      "outputs": [
        {
          "output_type": "stream",
          "text": [
            "Mounted at /content/drive\n",
            "Requirement already satisfied: h5py in /usr/local/lib/python3.6/dist-packages (2.8.0)\n",
            "Requirement already satisfied: six in /usr/local/lib/python3.6/dist-packages (from h5py) (1.11.0)\n",
            "Requirement already satisfied: numpy>=1.7 in /usr/local/lib/python3.6/dist-packages (from h5py) (1.14.6)\n"
          ],
          "name": "stdout"
        }
      ]
    },
    {
      "metadata": {
        "id": "pYl3Y3yaL4yB",
        "colab_type": "code",
        "colab": {}
      },
      "cell_type": "code",
      "source": [
        "from pyspark.sql import SparkSession\n",
        "from pyspark import SparkContext\n",
        "conf1 = pyspark.SparkConf().setAll([('spark.executor.cores', '3'), ('spark.cores.max', '6'),('spark.driver.memory','1g')])\n",
        "spark = SparkSession.builder.config(conf=conf1).config('yarn-client','pyspark').getOrCreate()"
      ],
      "execution_count": 0,
      "outputs": []
    },
    {
      "metadata": {
        "id": "T3ULPx4Y1LiR",
        "colab_type": "text"
      },
      "cell_type": "markdown",
      "source": [
        "### Début du projet!\n"
      ]
    },
    {
      "metadata": {
        "id": "PZkw_gPEQvId",
        "colab_type": "code",
        "colab": {}
      },
      "cell_type": "code",
      "source": [
        "##Liste\n",
        "from numpy import array\n",
        "##Temps\n",
        "import time\n",
        "##Row and Vector\n",
        "from pyspark.sql import Row\n",
        "from pyspark.ml.linalg import Vectors\n",
        "##Hachage et vectorisation\n",
        "from pyspark.ml.feature import HashingTF\n",
        "from pyspark.ml.feature import IDF\n",
        "##Regression logistique\n",
        "from pyspark.ml.classification import LogisticRegression\n",
        "##Decision Tree\n",
        "from pyspark.ml.classification import DecisionTreeClassifier\n",
        "##Random Forest\n",
        "from pyspark.ml.classification import RandomForestClassifier \n",
        "##Pour la création des DataFrames\n",
        "from pyspark.sql import SQLContext\n",
        "from pyspark.sql.types import *"
      ],
      "execution_count": 0,
      "outputs": []
    },
    {
      "metadata": {
        "id": "WzyVpn6Z3--C",
        "colab_type": "code",
        "colab": {}
      },
      "cell_type": "code",
      "source": [
        "# TO DO\n",
        "from pyspark.sql import SparkSession\n",
        "spark = SparkSession \\\n",
        "    .builder \\\n",
        "    .appName(\"Python Spark SQL basic example\") \\\n",
        "    .config(\"spark.some.config.option\", \"some-value\") \\\n",
        "    .getOrCreate()\n"
      ],
      "execution_count": 0,
      "outputs": []
    },
    {
      "metadata": {
        "id": "QLDbcLkX4Iqr",
        "colab_type": "code",
        "colab": {}
      },
      "cell_type": "code",
      "source": [
        "file=\"drive/My Drive/PLP project/Dreem/train.csv\"\n",
        "\n",
        "sqlContext=SQLContext(spark)\n",
        "tmps1=time.clock()\n",
        "train=sqlContext.read.format('com.databricks.spark.csv').options(delimiter=\",\").load(file, header = True)\n",
        "tmps2=time.clock()"
      ],
      "execution_count": 0,
      "outputs": []
    },
    {
      "metadata": {
        "id": "mHDiJpk0O-7v",
        "colab_type": "text"
      },
      "cell_type": "markdown",
      "source": [
        "# Exploration et analyse des données"
      ]
    },
    {
      "metadata": {
        "id": "rrEXFlp5PWTl",
        "colab_type": "text"
      },
      "cell_type": "markdown",
      "source": [
        "Dans cette partie, nous explorons les données pour comprendre la structure de l'échantillon"
      ]
    },
    {
      "metadata": {
        "id": "6SoY3Rzv63D4",
        "colab_type": "code",
        "outputId": "c33620b3-813d-4474-dd14-0d0eee499312",
        "colab": {
          "base_uri": "https://localhost:8080/",
          "height": 35
        }
      },
      "cell_type": "code",
      "source": [
        "print(\"########### Chargement des données train avec Spark en \", tmps2-tmps1,\" ############\")"
      ],
      "execution_count": 20,
      "outputs": [
        {
          "output_type": "stream",
          "text": [
            "########### Chargement des données train avec Spark en  0.0019759999999999778  ############\n"
          ],
          "name": "stdout"
        }
      ]
    },
    {
      "metadata": {
        "id": "eS3dApVv2VRQ",
        "colab_type": "code",
        "outputId": "1ebb4c01-2580-425c-e162-588630938c44",
        "colab": {
          "base_uri": "https://localhost:8080/",
          "height": 518
        }
      },
      "cell_type": "code",
      "source": [
        "train.show()"
      ],
      "execution_count": 21,
      "outputs": [
        {
          "output_type": "stream",
          "text": [
            "+-------------------+---------+--------------+---------------------+--------------------+------------------+-------------------------+-------+---------+----------+-------+----------+----------+---------------+-----------------+-----------+-------------------+------------------------+----------+---+---------------+-------------+------------+-------------+\n",
            "|          date_time|site_name|posa_continent|user_location_country|user_location_region|user_location_city|orig_destination_distance|user_id|is_mobile|is_package|channel|   srch_ci|   srch_co|srch_adults_cnt|srch_children_cnt|srch_rm_cnt|srch_destination_id|srch_destination_type_id|is_booking|cnt|hotel_continent|hotel_country|hotel_market|hotel_cluster|\n",
            "+-------------------+---------+--------------+---------------------+--------------------+------------------+-------------------------+-------+---------+----------+-------+----------+----------+---------------+-----------------+-----------+-------------------+------------------------+----------+---+---------------+-------------+------------+-------------+\n",
            "|2014-08-11 07:46:59|        2|             3|                   66|                 348|             48862|                2234.2641|     12|        0|         1|      9|2014-08-27|2014-08-31|              2|                0|          1|               8250|                       1|         0|  3|              2|           50|         628|            1|\n",
            "|2014-08-11 08:22:12|        2|             3|                   66|                 348|             48862|                2234.2641|     12|        0|         1|      9|2014-08-29|2014-09-02|              2|                0|          1|               8250|                       1|         1|  1|              2|           50|         628|            1|\n",
            "|2014-08-11 08:24:33|        2|             3|                   66|                 348|             48862|                2234.2641|     12|        0|         0|      9|2014-08-29|2014-09-02|              2|                0|          1|               8250|                       1|         0|  1|              2|           50|         628|            1|\n",
            "|2014-08-09 18:05:16|        2|             3|                   66|                 442|             35390|                 913.1932|     93|        0|         0|      3|2014-11-23|2014-11-28|              2|                0|          1|              14984|                       1|         0|  1|              2|           50|        1457|           80|\n",
            "|2014-08-09 18:08:18|        2|             3|                   66|                 442|             35390|                 913.6259|     93|        0|         0|      3|2014-11-23|2014-11-28|              2|                0|          1|              14984|                       1|         0|  1|              2|           50|        1457|           21|\n",
            "|2014-08-09 18:13:12|        2|             3|                   66|                 442|             35390|                 911.5142|     93|        0|         0|      3|2014-11-23|2014-11-28|              2|                0|          1|              14984|                       1|         0|  1|              2|           50|        1457|           92|\n",
            "|2014-07-16 09:42:23|        2|             3|                   66|                 189|             10067|                     null|    501|        0|         0|      2|2014-08-01|2014-08-02|              2|                0|          1|               8267|                       1|         0|  2|              2|           50|         675|           41|\n",
            "|2014-07-16 09:45:48|        2|             3|                   66|                 189|             10067|                     null|    501|        0|         1|      2|2014-08-01|2014-08-02|              2|                0|          1|               8267|                       1|         0|  1|              2|           50|         675|           41|\n",
            "|2014-07-16 09:52:11|        2|             3|                   66|                 189|             10067|                     null|    501|        0|         0|      2|2014-08-01|2014-08-02|              2|                0|          1|               8267|                       1|         0|  1|              2|           50|         675|           69|\n",
            "|2014-07-16 09:55:24|        2|             3|                   66|                 189|             10067|                     null|    501|        0|         0|      2|2014-08-01|2014-08-02|              2|                0|          1|               8267|                       1|         0|  1|              2|           50|         675|           70|\n",
            "|2014-07-16 10:00:06|        2|             3|                   66|                 189|             10067|                     null|    501|        0|         0|      2|2014-08-01|2014-08-02|              2|                0|          1|               8267|                       1|         0|  1|              2|           50|         675|           98|\n",
            "|2014-07-16 10:02:58|        2|             3|                   66|                 189|             10067|                     null|    501|        0|         0|      2|2014-08-01|2014-08-02|              2|                0|          1|               8267|                       1|         0|  1|              2|           50|         675|           10|\n",
            "|2014-01-17 06:24:56|        2|             3|                   66|                 318|             22418|                 420.6642|    756|        0|         1|      9|2014-04-17|2014-04-20|              2|                0|          1|               8291|                       1|         0|  5|              2|           50|         191|           18|\n",
            "|2014-01-18 14:33:31|        2|             3|                   66|                 318|             52078|                     null|    756|        0|         1|      9|2014-04-16|2014-04-19|              2|                0|          1|               8291|                       1|         0|  1|              2|           50|         191|           28|\n",
            "|2014-01-21 06:39:08|        2|             3|                   66|                 318|             22418|                 421.8551|    756|        0|         1|      2|2014-04-17|2014-04-20|              2|                0|          1|               8291|                       1|         0|  1|              2|           50|         191|           25|\n",
            "|2014-01-21 06:40:18|        2|             3|                   66|                 318|             22418|                 421.8551|    756|        0|         1|      2|2014-04-18|2014-04-20|              2|                0|          1|               8291|                       1|         0|  1|              2|           50|         191|           25|\n",
            "|2014-01-22 06:10:02|        2|             3|                   66|                 318|             22418|                 421.8551|    756|        0|         1|      2|2014-04-18|2014-04-20|              2|                0|          1|               8291|                       1|         0|  1|              2|           50|         191|           25|\n",
            "|2014-01-24 11:52:04|        2|             3|                   66|                 318|             22418|                 421.8551|    756|        0|         1|      9|2014-04-17|2014-04-19|              2|                0|          1|               8291|                       1|         0|  1|              2|           50|         191|           25|\n",
            "|2014-01-24 17:26:24|        2|             3|                   66|                 318|             52078|                     null|    756|        0|         1|      9|2014-04-17|2014-04-19|              2|                0|          1|               8291|                       1|         0|  1|              2|           50|         191|           25|\n",
            "|2014-02-27 17:44:23|        2|             3|                   66|                 318|             52078|                     null|    756|        0|         1|      4|2014-04-17|2014-04-19|              2|                0|          1|               8291|                       1|         0|  1|              2|           50|         191|            2|\n",
            "+-------------------+---------+--------------+---------------------+--------------------+------------------+-------------------------+-------+---------+----------+-------+----------+----------+---------------+-----------------+-----------+-------------------+------------------------+----------+---+---------------+-------------+------------+-------------+\n",
            "only showing top 20 rows\n",
            "\n"
          ],
          "name": "stdout"
        }
      ]
    },
    {
      "metadata": {
        "id": "EGREX40U6U5C",
        "colab_type": "code",
        "outputId": "850cb1fd-8a54-4882-9ea5-f08ef9e4e785",
        "colab": {
          "base_uri": "https://localhost:8080/",
          "height": 35
        }
      },
      "cell_type": "code",
      "source": [
        "tmps3=time.clock()\n",
        "l= train.count()\n",
        "tmps4=time.clock()\n",
        "print(\"Le calcul de\", l, \" lignes a pris \", tmps4-tmps3)"
      ],
      "execution_count": 22,
      "outputs": [
        {
          "output_type": "stream",
          "text": [
            "Le calcul de 37670293  lignes a pris  0.020807000000000464\n"
          ],
          "name": "stdout"
        }
      ]
    },
    {
      "metadata": {
        "id": "95jbUuk4-mVl",
        "colab_type": "code",
        "outputId": "f90d4f82-c78b-4200-9408-845ca7f81ab3",
        "colab": {
          "base_uri": "https://localhost:8080/",
          "height": 479
        }
      },
      "cell_type": "code",
      "source": [
        "len(train.columns), train.columns"
      ],
      "execution_count": 23,
      "outputs": [
        {
          "output_type": "execute_result",
          "data": {
            "text/plain": [
              "(24,\n",
              " ['date_time',\n",
              "  'site_name',\n",
              "  'posa_continent',\n",
              "  'user_location_country',\n",
              "  'user_location_region',\n",
              "  'user_location_city',\n",
              "  'orig_destination_distance',\n",
              "  'user_id',\n",
              "  'is_mobile',\n",
              "  'is_package',\n",
              "  'channel',\n",
              "  'srch_ci',\n",
              "  'srch_co',\n",
              "  'srch_adults_cnt',\n",
              "  'srch_children_cnt',\n",
              "  'srch_rm_cnt',\n",
              "  'srch_destination_id',\n",
              "  'srch_destination_type_id',\n",
              "  'is_booking',\n",
              "  'cnt',\n",
              "  'hotel_continent',\n",
              "  'hotel_country',\n",
              "  'hotel_market',\n",
              "  'hotel_cluster'])"
            ]
          },
          "metadata": {
            "tags": []
          },
          "execution_count": 23
        }
      ]
    },
    {
      "metadata": {
        "id": "Z_Highmd_S0n",
        "colab_type": "code",
        "colab": {}
      },
      "cell_type": "code",
      "source": [
        "from functools import reduce\n",
        "train_nonan=train.na.drop()"
      ],
      "execution_count": 0,
      "outputs": []
    },
    {
      "metadata": {
        "id": "CVEApkq5Aro3",
        "colab_type": "code",
        "outputId": "07b40db9-e344-4a82-d5d1-b589c5945da0",
        "colab": {
          "base_uri": "https://localhost:8080/",
          "height": 35
        }
      },
      "cell_type": "code",
      "source": [
        "train_nonan.count()"
      ],
      "execution_count": 25,
      "outputs": [
        {
          "output_type": "execute_result",
          "data": {
            "text/plain": [
              "24117894"
            ]
          },
          "metadata": {
            "tags": []
          },
          "execution_count": 25
        }
      ]
    },
    {
      "metadata": {
        "id": "pKnljniH5-Jv",
        "colab_type": "code",
        "outputId": "ff068952-2662-4db4-e61d-db6c90670428",
        "colab": {
          "base_uri": "https://localhost:8080/",
          "height": 498
        }
      },
      "cell_type": "code",
      "source": [
        "train_nonan.printSchema()"
      ],
      "execution_count": 26,
      "outputs": [
        {
          "output_type": "stream",
          "text": [
            "root\n",
            " |-- date_time: string (nullable = true)\n",
            " |-- site_name: string (nullable = true)\n",
            " |-- posa_continent: string (nullable = true)\n",
            " |-- user_location_country: string (nullable = true)\n",
            " |-- user_location_region: string (nullable = true)\n",
            " |-- user_location_city: string (nullable = true)\n",
            " |-- orig_destination_distance: string (nullable = true)\n",
            " |-- user_id: string (nullable = true)\n",
            " |-- is_mobile: string (nullable = true)\n",
            " |-- is_package: string (nullable = true)\n",
            " |-- channel: string (nullable = true)\n",
            " |-- srch_ci: string (nullable = true)\n",
            " |-- srch_co: string (nullable = true)\n",
            " |-- srch_adults_cnt: string (nullable = true)\n",
            " |-- srch_children_cnt: string (nullable = true)\n",
            " |-- srch_rm_cnt: string (nullable = true)\n",
            " |-- srch_destination_id: string (nullable = true)\n",
            " |-- srch_destination_type_id: string (nullable = true)\n",
            " |-- is_booking: string (nullable = true)\n",
            " |-- cnt: string (nullable = true)\n",
            " |-- hotel_continent: string (nullable = true)\n",
            " |-- hotel_country: string (nullable = true)\n",
            " |-- hotel_market: string (nullable = true)\n",
            " |-- hotel_cluster: string (nullable = true)\n",
            "\n"
          ],
          "name": "stdout"
        }
      ]
    },
    {
      "metadata": {
        "id": "eQ-p5c5WQEVA",
        "colab_type": "text"
      },
      "cell_type": "markdown",
      "source": [
        "Nous remarquons que toutes les colonnes ont été lues comme étant de types String, il faut donc changer le type de certaines"
      ]
    },
    {
      "metadata": {
        "id": "fZsEU1ZDxmmX",
        "colab_type": "text"
      },
      "cell_type": "markdown",
      "source": [
        "# Changement du type des colonnes"
      ]
    },
    {
      "metadata": {
        "id": "RLiQI1N-jVr7",
        "colab_type": "code",
        "colab": {}
      },
      "cell_type": "code",
      "source": [
        "from pyspark.sql.functions import col , column\n",
        "train_nonan = train_nonan.withColumn(\"site_name\", col(\"site_name\").cast(\"int\"))\n",
        "train_nonan = train_nonan.withColumn(\"posa_continent\", col(\"posa_continent\").cast(\"int\"))\n",
        "train_nonan = train_nonan.withColumn(\"user_location_country\", col(\"user_location_country\").cast(\"int\"))\n",
        "train_nonan = train_nonan.withColumn(\"user_location_region\", col(\"user_location_region\").cast(\"int\"))\n",
        "train_nonan = train_nonan.withColumn(\"user_location_city\", col(\"user_location_city\").cast(\"int\"))\n",
        "train_nonan = train_nonan.withColumn(\"orig_destination_distance\", col(\"orig_destination_distance\").cast(\"double\"))\n",
        "train_nonan = train_nonan.withColumn(\"user_id\", col(\"user_id\").cast(\"int\"))\n",
        "train_nonan = train_nonan.withColumn(\"is_mobile\", col(\"is_mobile\").cast(\"tinyint\"))\n",
        "train_nonan = train_nonan.withColumn(\"is_package\", col(\"is_package\").cast(\"int\"))\n",
        "train_nonan = train_nonan.withColumn(\"channel\", col(\"channel\").cast(\"int\"))\n",
        "train_nonan = train_nonan.withColumn(\"srch_adults_cnt\", col(\"srch_adults_cnt\").cast(\"int\"))\n",
        "train_nonan = train_nonan.withColumn(\"srch_children_cnt\", col(\"srch_children_cnt\").cast(\"int\"))\n",
        "train_nonan = train_nonan.withColumn(\"srch_rm_cnt\", col(\"srch_rm_cnt\").cast(\"int\"))\n",
        "train_nonan = train_nonan.withColumn(\"srch_destination_id\", col(\"srch_destination_id\").cast(\"int\"))\n",
        "train_nonan = train_nonan.withColumn(\"srch_destination_type_id\", col(\"srch_destination_type_id\").cast(\"int\"))\n",
        "train_nonan = train_nonan.withColumn(\"hotel_continent\", col(\"hotel_continent\").cast(\"int\"))\n",
        "train_nonan = train_nonan.withColumn(\"hotel_country\", col(\"hotel_country\").cast(\"int\"))\n",
        "train_nonan = train_nonan.withColumn(\"hotel_market\", col(\"hotel_market\").cast(\"int\"))\n",
        "train_nonan = train_nonan.withColumn(\"is_booking\", col(\"is_booking\").cast(\"tinyint\"))\n",
        "train_nonan = train_nonan.withColumn(\"cnt\", col(\"cnt\").cast(\"bigint\"))\n",
        "train_nonan = train_nonan.withColumn(\"hotel_cluster\", col(\"hotel_cluster\").cast(\"int\"))"
      ],
      "execution_count": 0,
      "outputs": []
    },
    {
      "metadata": {
        "id": "Bg-14xojx4oA",
        "colab_type": "text"
      },
      "cell_type": "markdown",
      "source": [
        "## Nouveau Schéma (Les types ont bien été changés)"
      ]
    },
    {
      "metadata": {
        "id": "D6XVDtWqnnTN",
        "colab_type": "code",
        "outputId": "a28cb277-5843-4c28-f7c9-c5d9306a3ba6",
        "colab": {
          "base_uri": "https://localhost:8080/",
          "height": 498
        }
      },
      "cell_type": "code",
      "source": [
        "train_nonan.printSchema()"
      ],
      "execution_count": 28,
      "outputs": [
        {
          "output_type": "stream",
          "text": [
            "root\n",
            " |-- date_time: string (nullable = true)\n",
            " |-- site_name: integer (nullable = true)\n",
            " |-- posa_continent: integer (nullable = true)\n",
            " |-- user_location_country: integer (nullable = true)\n",
            " |-- user_location_region: integer (nullable = true)\n",
            " |-- user_location_city: integer (nullable = true)\n",
            " |-- orig_destination_distance: double (nullable = true)\n",
            " |-- user_id: integer (nullable = true)\n",
            " |-- is_mobile: byte (nullable = true)\n",
            " |-- is_package: integer (nullable = true)\n",
            " |-- channel: integer (nullable = true)\n",
            " |-- srch_ci: string (nullable = true)\n",
            " |-- srch_co: string (nullable = true)\n",
            " |-- srch_adults_cnt: integer (nullable = true)\n",
            " |-- srch_children_cnt: integer (nullable = true)\n",
            " |-- srch_rm_cnt: integer (nullable = true)\n",
            " |-- srch_destination_id: integer (nullable = true)\n",
            " |-- srch_destination_type_id: integer (nullable = true)\n",
            " |-- is_booking: byte (nullable = true)\n",
            " |-- cnt: long (nullable = true)\n",
            " |-- hotel_continent: integer (nullable = true)\n",
            " |-- hotel_country: integer (nullable = true)\n",
            " |-- hotel_market: integer (nullable = true)\n",
            " |-- hotel_cluster: integer (nullable = true)\n",
            "\n"
          ],
          "name": "stdout"
        }
      ]
    },
    {
      "metadata": {
        "id": "TdU3iNxHEt8i",
        "colab_type": "code",
        "outputId": "4a4cabc2-31d2-4d9b-c4a9-118186fa7d3b",
        "colab": {
          "base_uri": "https://localhost:8080/",
          "height": 518
        }
      },
      "cell_type": "code",
      "source": [
        "train_nonan.show()"
      ],
      "execution_count": 29,
      "outputs": [
        {
          "output_type": "stream",
          "text": [
            "+-------------------+---------+--------------+---------------------+--------------------+------------------+-------------------------+-------+---------+----------+-------+----------+----------+---------------+-----------------+-----------+-------------------+------------------------+----------+---+---------------+-------------+------------+-------------+\n",
            "|          date_time|site_name|posa_continent|user_location_country|user_location_region|user_location_city|orig_destination_distance|user_id|is_mobile|is_package|channel|   srch_ci|   srch_co|srch_adults_cnt|srch_children_cnt|srch_rm_cnt|srch_destination_id|srch_destination_type_id|is_booking|cnt|hotel_continent|hotel_country|hotel_market|hotel_cluster|\n",
            "+-------------------+---------+--------------+---------------------+--------------------+------------------+-------------------------+-------+---------+----------+-------+----------+----------+---------------+-----------------+-----------+-------------------+------------------------+----------+---+---------------+-------------+------------+-------------+\n",
            "|2014-08-11 07:46:59|        2|             3|                   66|                 348|             48862|                2234.2641|     12|        0|         1|      9|2014-08-27|2014-08-31|              2|                0|          1|               8250|                       1|         0|  3|              2|           50|         628|            1|\n",
            "|2014-08-11 08:22:12|        2|             3|                   66|                 348|             48862|                2234.2641|     12|        0|         1|      9|2014-08-29|2014-09-02|              2|                0|          1|               8250|                       1|         1|  1|              2|           50|         628|            1|\n",
            "|2014-08-11 08:24:33|        2|             3|                   66|                 348|             48862|                2234.2641|     12|        0|         0|      9|2014-08-29|2014-09-02|              2|                0|          1|               8250|                       1|         0|  1|              2|           50|         628|            1|\n",
            "|2014-08-09 18:05:16|        2|             3|                   66|                 442|             35390|                 913.1932|     93|        0|         0|      3|2014-11-23|2014-11-28|              2|                0|          1|              14984|                       1|         0|  1|              2|           50|        1457|           80|\n",
            "|2014-08-09 18:08:18|        2|             3|                   66|                 442|             35390|                 913.6259|     93|        0|         0|      3|2014-11-23|2014-11-28|              2|                0|          1|              14984|                       1|         0|  1|              2|           50|        1457|           21|\n",
            "|2014-08-09 18:13:12|        2|             3|                   66|                 442|             35390|                 911.5142|     93|        0|         0|      3|2014-11-23|2014-11-28|              2|                0|          1|              14984|                       1|         0|  1|              2|           50|        1457|           92|\n",
            "|2014-01-17 06:24:56|        2|             3|                   66|                 318|             22418|                 420.6642|    756|        0|         1|      9|2014-04-17|2014-04-20|              2|                0|          1|               8291|                       1|         0|  5|              2|           50|         191|           18|\n",
            "|2014-01-21 06:39:08|        2|             3|                   66|                 318|             22418|                 421.8551|    756|        0|         1|      2|2014-04-17|2014-04-20|              2|                0|          1|               8291|                       1|         0|  1|              2|           50|         191|           25|\n",
            "|2014-01-21 06:40:18|        2|             3|                   66|                 318|             22418|                 421.8551|    756|        0|         1|      2|2014-04-18|2014-04-20|              2|                0|          1|               8291|                       1|         0|  1|              2|           50|         191|           25|\n",
            "|2014-01-22 06:10:02|        2|             3|                   66|                 318|             22418|                 421.8551|    756|        0|         1|      2|2014-04-18|2014-04-20|              2|                0|          1|               8291|                       1|         0|  1|              2|           50|         191|           25|\n",
            "|2014-01-24 11:52:04|        2|             3|                   66|                 318|             22418|                 421.8551|    756|        0|         1|      9|2014-04-17|2014-04-19|              2|                0|          1|               8291|                       1|         0|  1|              2|           50|         191|           25|\n",
            "|2014-10-22 12:20:56|        2|             3|                   66|                 318|             52997|                  47.7027|    776|        0|         0|      9|2014-10-25|2014-10-26|              2|                0|          1|              27082|                       6|         0|  2|              2|           50|         641|           77|\n",
            "|2014-11-10 12:38:02|        2|             3|                   66|                 318|             48382|                1753.2617|    776|        0|         1|      9|2015-01-22|2015-01-24|              1|                0|          1|               8250|                       1|         0|  1|              2|           50|         628|           24|\n",
            "|2013-02-15 13:18:43|        2|             3|                   66|                 462|             41898|                2716.6746|   1482|        0|         0|      1|2013-02-24|2013-03-01|              2|                0|          1|               8857|                       1|         0|  1|              2|           50|         214|           28|\n",
            "|2013-02-16 11:57:50|        2|             3|                   66|                 462|             41898|                2716.5257|   1482|        0|         0|      0|2013-02-24|2013-03-01|              2|                0|          1|               8857|                       1|         0|  1|              2|           50|         214|           73|\n",
            "|2013-02-16 12:03:45|        2|             3|                   66|                 462|             41898|                2722.4856|   1482|        0|         0|      0|2013-02-24|2013-03-01|              2|                0|          1|               8857|                       1|         0|  1|              2|           50|         214|           26|\n",
            "|2013-02-16 12:23:57|        2|             3|                   66|                 462|             41898|                2716.6746|   1482|        0|         0|      0|2013-03-01|2013-03-06|              2|                0|          1|               8857|                       1|         0|  1|              2|           50|         214|           28|\n",
            "|2014-01-03 16:19:15|        2|             3|                   66|                 462|             41898|                2454.8588|   1482|        0|         1|      1|2014-02-21|2014-02-26|              3|                0|          2|              12009|                       1|         0|  1|              2|           50|         680|           95|\n",
            "|2014-01-03 16:30:17|        2|             3|                   66|                 462|             41898|                2454.8588|   1482|        0|         1|      1|2014-02-22|2014-02-27|              3|                0|          2|              12009|                       1|         1|  1|              2|           50|         680|           95|\n",
            "|2014-01-03 16:34:26|        2|             3|                   66|                 462|             41898|                2454.8588|   1482|        0|         1|      1|2014-02-21|2014-02-26|              2|                0|          1|              12009|                       1|         0|  1|              2|           50|         680|           95|\n",
            "+-------------------+---------+--------------+---------------------+--------------------+------------------+-------------------------+-------+---------+----------+-------+----------+----------+---------------+-----------------+-----------+-------------------+------------------------+----------+---+---------------+-------------+------------+-------------+\n",
            "only showing top 20 rows\n",
            "\n"
          ],
          "name": "stdout"
        }
      ]
    },
    {
      "metadata": {
        "id": "PJ0HWF0aG0NR",
        "colab_type": "code",
        "outputId": "124d7b02-9b8a-43d8-ccad-105f38cdddbb",
        "colab": {
          "base_uri": "https://localhost:8080/",
          "height": 35
        }
      },
      "cell_type": "code",
      "source": [
        " print(\"nombre de site_names \", train_nonan.select(\"site_name\").distinct().count()) "
      ],
      "execution_count": 30,
      "outputs": [
        {
          "output_type": "stream",
          "text": [
            "nombre de site_names  42\n"
          ],
          "name": "stdout"
        }
      ]
    },
    {
      "metadata": {
        "id": "_YamkVN9JA-h",
        "colab_type": "code",
        "outputId": "23769184-cdf8-4acd-b5d0-d9d18a54399d",
        "colab": {
          "base_uri": "https://localhost:8080/",
          "height": 35
        }
      },
      "cell_type": "code",
      "source": [
        " print(\"Nombre de continents pris en compte dans la data \", train_nonan.select(\"posa_continent\").distinct().count()) "
      ],
      "execution_count": 31,
      "outputs": [
        {
          "output_type": "stream",
          "text": [
            "Nombre de continents pris en compte dans la data  5\n"
          ],
          "name": "stdout"
        }
      ]
    },
    {
      "metadata": {
        "id": "LO6E9sVyJRew",
        "colab_type": "code",
        "outputId": "b5254721-b32b-479e-9953-856906d7cc32",
        "colab": {
          "base_uri": "https://localhost:8080/",
          "height": 35
        }
      },
      "cell_type": "code",
      "source": [
        "print(\"Nombre des chaines de marketing \", train_nonan.select(\"channel\").distinct().count()) "
      ],
      "execution_count": 32,
      "outputs": [
        {
          "output_type": "stream",
          "text": [
            "Nombre des chaines de marketing  11\n"
          ],
          "name": "stdout"
        }
      ]
    },
    {
      "metadata": {
        "id": "EulrwNTsNNNZ",
        "colab_type": "code",
        "outputId": "3ee259a9-9720-4ce7-9b85-b610171d2e29",
        "colab": {
          "base_uri": "https://localhost:8080/",
          "height": 35
        }
      },
      "cell_type": "code",
      "source": [
        "print(\"Nombre d'utilisateurs \", train_nonan.select(\"user_id\").distinct().count()) "
      ],
      "execution_count": 33,
      "outputs": [
        {
          "output_type": "stream",
          "text": [
            "Nombre d'utilisateurs  916154\n"
          ],
          "name": "stdout"
        }
      ]
    },
    {
      "metadata": {
        "id": "1fSFQP3BQUsQ",
        "colab_type": "code",
        "colab": {}
      },
      "cell_type": "code",
      "source": [
        "freq_clusters=train_nonan.select(\"hotel_cluster\").groupBy(\"hotel_cluster\").count()"
      ],
      "execution_count": 0,
      "outputs": []
    },
    {
      "metadata": {
        "id": "fukCrZU2y97T",
        "colab_type": "code",
        "colab": {
          "base_uri": "https://localhost:8080/",
          "height": 498
        },
        "outputId": "aaeb343e-7929-4e73-9d63-db14c974135b"
      },
      "cell_type": "code",
      "source": [
        "freq_clusters.show()"
      ],
      "execution_count": 35,
      "outputs": [
        {
          "output_type": "stream",
          "text": [
            "+-------------+------+\n",
            "|hotel_cluster| count|\n",
            "+-------------+------+\n",
            "|           31|195728|\n",
            "|           85|146323|\n",
            "|           65|534791|\n",
            "|           53| 67739|\n",
            "|           78|171256|\n",
            "|           34|244538|\n",
            "|           81|129252|\n",
            "|           28|373678|\n",
            "|           76|199903|\n",
            "|           26|282553|\n",
            "|           27| 46267|\n",
            "|           44|163845|\n",
            "|           12| 77696|\n",
            "|           91|829368|\n",
            "|           22|170328|\n",
            "|           93|144393|\n",
            "|           47|322099|\n",
            "|            1|352267|\n",
            "|           52|262201|\n",
            "|           13|253986|\n",
            "+-------------+------+\n",
            "only showing top 20 rows\n",
            "\n"
          ],
          "name": "stdout"
        }
      ]
    },
    {
      "metadata": {
        "id": "m0qjadPL0bEL",
        "colab_type": "text"
      },
      "cell_type": "markdown",
      "source": [
        "La répartition des échantillons sur les clusters est plus ou moins équilibrée"
      ]
    },
    {
      "metadata": {
        "id": "jhBMDYr0cziU",
        "colab_type": "code",
        "colab": {}
      },
      "cell_type": "code",
      "source": [
        "import pyspark.sql.functions as F\n",
        "import pyspark.sql as SQL\n",
        "win = SQL.Window.partitionBy(\"hotel_cluster\")"
      ],
      "execution_count": 0,
      "outputs": []
    },
    {
      "metadata": {
        "id": "H4L2EkSUdNeK",
        "colab_type": "code",
        "colab": {
          "base_uri": "https://localhost:8080/",
          "height": 35
        },
        "outputId": "af99d3c4-65a5-4692-99c4-298a15214a24"
      },
      "cell_type": "code",
      "source": [
        "train_nonan.select(F.count(\"hotel_cluster\").over(win).alias('histogram'))\n"
      ],
      "execution_count": 38,
      "outputs": [
        {
          "output_type": "execute_result",
          "data": {
            "text/plain": [
              "DataFrame[histogram: bigint]"
            ]
          },
          "metadata": {
            "tags": []
          },
          "execution_count": 38
        }
      ]
    },
    {
      "metadata": {
        "id": "J9Vowe7YweHo",
        "colab_type": "code",
        "colab": {
          "base_uri": "https://localhost:8080/",
          "height": 2147
        },
        "outputId": "33335f4e-5448-4bf7-ea20-df2d2a007b66"
      },
      "cell_type": "code",
      "source": [
        "import numpy as np\n",
        "from matplotlib import pyplot as plt\n",
        "%matplotlib inline\n",
        " \n",
        "repartition_classes = train_nonan.select(\"hotel_cluster\").groupBy(\"hotel_cluster\").count().collect()\n",
        "categories = [i[0] for i in repartition_classes]\n",
        "counts = [i[1] for i in repartition_classes]\n",
        " \n",
        "ind = np.array(range(len(categories)))\n",
        "width = 0.35\n",
        "plt.bar(ind, counts, width=width, color='r')\n",
        " \n",
        "plt.ylabel('counts')\n",
        "plt.title('Hotel cluster')\n",
        "plt.xticks(ind + width/2., categories)"
      ],
      "execution_count": 39,
      "outputs": [
        {
          "output_type": "execute_result",
          "data": {
            "text/plain": [
              "([<matplotlib.axis.XTick at 0x7ff8b473beb8>,\n",
              "  <matplotlib.axis.XTick at 0x7ff8b473b710>,\n",
              "  <matplotlib.axis.XTick at 0x7ff8b464d550>,\n",
              "  <matplotlib.axis.XTick at 0x7ff8b4223ef0>,\n",
              "  <matplotlib.axis.XTick at 0x7ff8b4232400>,\n",
              "  <matplotlib.axis.XTick at 0x7ff8b42328d0>,\n",
              "  <matplotlib.axis.XTick at 0x7ff8b4232e10>,\n",
              "  <matplotlib.axis.XTick at 0x7ff8b423b390>,\n",
              "  <matplotlib.axis.XTick at 0x7ff8b423b8d0>,\n",
              "  <matplotlib.axis.XTick at 0x7ff8b423be10>,\n",
              "  <matplotlib.axis.XTick at 0x7ff8b4240390>,\n",
              "  <matplotlib.axis.XTick at 0x7ff8b42408d0>,\n",
              "  <matplotlib.axis.XTick at 0x7ff8b423b470>,\n",
              "  <matplotlib.axis.XTick at 0x7ff8b42324e0>,\n",
              "  <matplotlib.axis.XTick at 0x7ff8b4240978>,\n",
              "  <matplotlib.axis.XTick at 0x7ff8b41c9240>,\n",
              "  <matplotlib.axis.XTick at 0x7ff8b41c9780>,\n",
              "  <matplotlib.axis.XTick at 0x7ff8b41c9cc0>,\n",
              "  <matplotlib.axis.XTick at 0x7ff8b41d2240>,\n",
              "  <matplotlib.axis.XTick at 0x7ff8b41d2780>,\n",
              "  <matplotlib.axis.XTick at 0x7ff8b41d2cc0>,\n",
              "  <matplotlib.axis.XTick at 0x7ff8b41d2828>,\n",
              "  <matplotlib.axis.XTick at 0x7ff8b41c9860>,\n",
              "  <matplotlib.axis.XTick at 0x7ff8b4240e80>,\n",
              "  <matplotlib.axis.XTick at 0x7ff8b41d9780>,\n",
              "  <matplotlib.axis.XTick at 0x7ff8b41d9cc0>,\n",
              "  <matplotlib.axis.XTick at 0x7ff8b41e1240>,\n",
              "  <matplotlib.axis.XTick at 0x7ff8b41e1780>,\n",
              "  <matplotlib.axis.XTick at 0x7ff8b41e1cc0>,\n",
              "  <matplotlib.axis.XTick at 0x7ff8b41e9240>,\n",
              "  <matplotlib.axis.XTick at 0x7ff8b41e9780>,\n",
              "  <matplotlib.axis.XTick at 0x7ff8b41e1710>,\n",
              "  <matplotlib.axis.XTick at 0x7ff8b41c9390>,\n",
              "  <matplotlib.axis.XTick at 0x7ff8b41e9b70>,\n",
              "  <matplotlib.axis.XTick at 0x7ff8b41e92e8>,\n",
              "  <matplotlib.axis.XTick at 0x7ff8b41f0630>,\n",
              "  <matplotlib.axis.XTick at 0x7ff8b41f0b70>,\n",
              "  <matplotlib.axis.XTick at 0x7ff8b41f09b0>,\n",
              "  <matplotlib.axis.XTick at 0x7ff8b41f7630>,\n",
              "  <matplotlib.axis.XTick at 0x7ff8b41f7b70>,\n",
              "  <matplotlib.axis.XTick at 0x7ff8b41f79b0>,\n",
              "  <matplotlib.axis.XTick at 0x7ff8b41f0780>,\n",
              "  <matplotlib.axis.XTick at 0x7ff8b4240710>,\n",
              "  <matplotlib.axis.XTick at 0x7ff8b41ff550>,\n",
              "  <matplotlib.axis.XTick at 0x7ff8b41ffa90>,\n",
              "  <matplotlib.axis.XTick at 0x7ff8b41ffe80>,\n",
              "  <matplotlib.axis.XTick at 0x7ff8b4207550>,\n",
              "  <matplotlib.axis.XTick at 0x7ff8b4207a90>,\n",
              "  <matplotlib.axis.XTick at 0x7ff8b4207e80>,\n",
              "  <matplotlib.axis.XTick at 0x7ff8b418e550>,\n",
              "  <matplotlib.axis.XTick at 0x7ff8b42075f8>,\n",
              "  <matplotlib.axis.XTick at 0x7ff8b41e9fd0>,\n",
              "  <matplotlib.axis.XTick at 0x7ff8b418e940>,\n",
              "  <matplotlib.axis.XTick at 0x7ff8b418ee80>,\n",
              "  <matplotlib.axis.XTick at 0x7ff8b4193400>,\n",
              "  <matplotlib.axis.XTick at 0x7ff8b4193940>,\n",
              "  <matplotlib.axis.XTick at 0x7ff8b4193e80>,\n",
              "  <matplotlib.axis.XTick at 0x7ff8b419c400>,\n",
              "  <matplotlib.axis.XTick at 0x7ff8b419c940>,\n",
              "  <matplotlib.axis.XTick at 0x7ff8b419ce80>,\n",
              "  <matplotlib.axis.XTick at 0x7ff8b419ccc0>,\n",
              "  <matplotlib.axis.XTick at 0x7ff8b418e710>,\n",
              "  <matplotlib.axis.XTick at 0x7ff8b41a5320>,\n",
              "  <matplotlib.axis.XTick at 0x7ff8b41a5860>,\n",
              "  <matplotlib.axis.XTick at 0x7ff8b41a5da0>,\n",
              "  <matplotlib.axis.XTick at 0x7ff8b41ab320>,\n",
              "  <matplotlib.axis.XTick at 0x7ff8b41ab860>,\n",
              "  <matplotlib.axis.XTick at 0x7ff8b41abda0>,\n",
              "  <matplotlib.axis.XTick at 0x7ff8b41b4320>,\n",
              "  <matplotlib.axis.XTick at 0x7ff8b41ab470>,\n",
              "  <matplotlib.axis.XTick at 0x7ff8b418e9e8>,\n",
              "  <matplotlib.axis.XTick at 0x7ff8b41b4710>,\n",
              "  <matplotlib.axis.XTick at 0x7ff8b41b4c50>,\n",
              "  <matplotlib.axis.XTick at 0x7ff8b41bd208>,\n",
              "  <matplotlib.axis.XTick at 0x7ff8b41bd710>,\n",
              "  <matplotlib.axis.XTick at 0x7ff8b41bdc50>,\n",
              "  <matplotlib.axis.XTick at 0x7ff8b41c4208>,\n",
              "  <matplotlib.axis.XTick at 0x7ff8b41c4710>,\n",
              "  <matplotlib.axis.XTick at 0x7ff8b41bd518>,\n",
              "  <matplotlib.axis.XTick at 0x7ff8b41b4400>,\n",
              "  <matplotlib.axis.XTick at 0x7ff8b41c4da0>,\n",
              "  <matplotlib.axis.XTick at 0x7ff8b41c4b00>,\n",
              "  <matplotlib.axis.XTick at 0x7ff8b414c630>,\n",
              "  <matplotlib.axis.XTick at 0x7ff8b414cb70>,\n",
              "  <matplotlib.axis.XTick at 0x7ff8b414c9b0>,\n",
              "  <matplotlib.axis.XTick at 0x7ff8b4155630>,\n",
              "  <matplotlib.axis.XTick at 0x7ff8b4155b70>,\n",
              "  <matplotlib.axis.XTick at 0x7ff8b41559b0>,\n",
              "  <matplotlib.axis.XTick at 0x7ff8b414c780>,\n",
              "  <matplotlib.axis.XTick at 0x7ff8b41b47f0>,\n",
              "  <matplotlib.axis.XTick at 0x7ff8b415c630>,\n",
              "  <matplotlib.axis.XTick at 0x7ff8b415cb70>,\n",
              "  <matplotlib.axis.XTick at 0x7ff8b415c9b0>,\n",
              "  <matplotlib.axis.XTick at 0x7ff8b4164630>,\n",
              "  <matplotlib.axis.XTick at 0x7ff8b4164b70>,\n",
              "  <matplotlib.axis.XTick at 0x7ff8b41649b0>,\n",
              "  <matplotlib.axis.XTick at 0x7ff8b416c630>,\n",
              "  <matplotlib.axis.XTick at 0x7ff8b4164710>,\n",
              "  <matplotlib.axis.XTick at 0x7ff8b414c550>,\n",
              "  <matplotlib.axis.XTick at 0x7ff8b416ca20>],\n",
              " <a list of 100 Text xticklabel objects>)"
            ]
          },
          "metadata": {
            "tags": []
          },
          "execution_count": 39
        },
        {
          "output_type": "display_data",
          "data": {
            "image/png": "[encoded data removed]",
            "text/plain": [
              "<Figure size 432x288 with 1 Axes>"
            ]
          },
          "metadata": {
            "tags": []
          }
        }
      ]
    },
    {
      "metadata": {
        "id": "XJGYpUznRojS",
        "colab_type": "text"
      },
      "cell_type": "markdown",
      "source": [
        "Le fichier destination contient plus d'informations sur les destinations, sauf qu'il contient 147 colonnes, d'où la nécessité de réduire le nombre de features. L'objectif étant d'ajouter des features supplimentaire à la donnée principale"
      ]
    },
    {
      "metadata": {
        "id": "-AQKQo8aSDlT",
        "colab_type": "code",
        "colab": {
          "base_uri": "https://localhost:8080/",
          "height": 518
        },
        "outputId": "d14978a9-0ae3-4246-a99c-2aa2842db304"
      },
      "cell_type": "code",
      "source": [
        "file=\"drive/My Drive/PLP project/Dreem/destinations.csv\"\n",
        "\n",
        "sqlContext=SQLContext(spark)\n",
        "tmps1=time.clock()\n",
        "destinations=sqlContext.read.format('com.databricks.spark.csv').options(delimiter=\",\").load(file, header = True)\n",
        "tmps2=time.clock()\n",
        "destinations.show()"
      ],
      "execution_count": 41,
      "outputs": [
        {
          "output_type": "stream",
          "text": [
            "+-------------------+--------------+--------------+--------------+--------------+--------------+--------------+--------------+--------------+--------------+--------------+--------------+--------------+--------------+--------------+--------------+--------------+--------------+--------------+--------------+--------------+--------------+--------------+--------------+--------------+--------------+--------------+--------------+--------------+--------------+--------------+--------------+--------------+--------------+--------------+--------------+--------------+--------------+--------------+--------------+--------------+--------------+--------------+--------------+--------------+--------------+--------------+--------------+--------------+--------------+--------------+--------------+--------------+--------------+--------------+--------------+--------------+--------------+--------------+--------------+--------------+--------------+--------------+--------------+--------------+--------------+--------------+--------------+--------------+--------------+--------------+--------------+--------------+--------------+--------------+--------------+--------------+--------------+--------------+--------------+--------------+--------------+--------------+--------------+--------------+--------------+--------------+--------------+--------------+--------------+--------------+--------------+--------------+--------------+--------------+--------------+--------------+--------------+--------------+--------------+--------------+--------------+--------------+--------------+--------------+--------------+--------------+--------------+--------------+--------------+--------------+--------------+--------------+--------------+--------------+--------------+--------------+--------------+--------------+--------------+--------------+--------------+--------------+--------------+--------------+--------------+--------------+--------------+--------------+--------------+--------------+--------------+--------------+--------------+--------------+--------------+--------------+--------------+--------------+--------------+--------------+--------------+--------------+--------------+--------------+--------------+--------------+--------------+--------------+--------------+\n",
            "|srch_destination_id|            d1|            d2|            d3|            d4|            d5|            d6|            d7|            d8|            d9|           d10|           d11|           d12|           d13|           d14|           d15|           d16|           d17|           d18|           d19|           d20|           d21|           d22|           d23|           d24|           d25|           d26|           d27|           d28|           d29|           d30|           d31|           d32|           d33|           d34|           d35|           d36|           d37|           d38|           d39|           d40|           d41|           d42|           d43|           d44|           d45|           d46|           d47|           d48|           d49|           d50|           d51|           d52|           d53|           d54|           d55|           d56|           d57|           d58|           d59|           d60|           d61|           d62|           d63|           d64|           d65|           d66|           d67|           d68|           d69|           d70|           d71|           d72|           d73|           d74|           d75|           d76|           d77|           d78|           d79|           d80|           d81|           d82|           d83|           d84|           d85|           d86|           d87|           d88|           d89|           d90|           d91|           d92|           d93|           d94|           d95|           d96|           d97|           d98|           d99|          d100|          d101|          d102|          d103|          d104|          d105|          d106|          d107|          d108|          d109|          d110|          d111|          d112|          d113|          d114|          d115|          d116|          d117|          d118|          d119|          d120|          d121|          d122|          d123|          d124|          d125|          d126|          d127|          d128|          d129|          d130|          d131|          d132|          d133|          d134|          d135|          d136|          d137|          d138|          d139|          d140|          d141|          d142|          d143|          d144|          d145|          d146|          d147|          d148|          d149|\n",
            "+-------------------+--------------+--------------+--------------+--------------+--------------+--------------+--------------+--------------+--------------+--------------+--------------+--------------+--------------+--------------+--------------+--------------+--------------+--------------+--------------+--------------+--------------+--------------+--------------+--------------+--------------+--------------+--------------+--------------+--------------+--------------+--------------+--------------+--------------+--------------+--------------+--------------+--------------+--------------+--------------+--------------+--------------+--------------+--------------+--------------+--------------+--------------+--------------+--------------+--------------+--------------+--------------+--------------+--------------+--------------+--------------+--------------+--------------+--------------+--------------+--------------+--------------+--------------+--------------+--------------+--------------+--------------+--------------+--------------+--------------+--------------+--------------+--------------+--------------+--------------+--------------+--------------+--------------+--------------+--------------+--------------+--------------+--------------+--------------+--------------+--------------+--------------+--------------+--------------+--------------+--------------+--------------+--------------+--------------+--------------+--------------+--------------+--------------+--------------+--------------+--------------+--------------+--------------+--------------+--------------+--------------+--------------+--------------+--------------+--------------+--------------+--------------+--------------+--------------+--------------+--------------+--------------+--------------+--------------+--------------+--------------+--------------+--------------+--------------+--------------+--------------+--------------+--------------+--------------+--------------+--------------+--------------+--------------+--------------+--------------+--------------+--------------+--------------+--------------+--------------+--------------+--------------+--------------+--------------+--------------+--------------+--------------+--------------+--------------+--------------+\n",
            "|                  0|-2.19865708695|-2.19865708695|-2.19865708695|-2.19865708695|-2.19865708695|-1.89762709129|-2.19865708695|-2.19865708695|-1.89762709129|-2.19865708695|-2.19865708695|-2.19865708695|-2.19865708695|-2.19865708695|-2.19865708695|-1.89762709129|-2.19865708695|-2.19865708695|-2.19865708695|-2.19865708695|-2.19865708695|-2.19865708695|-2.19865708695|-2.19865708695|-2.19865708695|-2.19865708695|-2.19865708695|-2.19865708695|-2.19865708695|-2.19865708695|-2.19865708695|-2.19865708695|-2.19865708695|-2.19865708695|-2.19865708695|-2.19865708695|-1.89762709129|-2.19865708695|-2.19865708695|-2.19865708695|-2.19865708695|-2.19865708695|-1.89762709129|-2.19865708695|-2.19865708695|-2.19865708695|-2.19865708695|-2.19865708695|-2.19865708695|-2.19865708695|-2.19865708695|-2.19865708695|-2.19865708695|-2.19865708695|-2.19865708695|-2.19865708695|-2.19865708695|-2.19865708695|-2.19865708695|-2.19865708695|-2.19865708695|-2.19865708695|-2.19865708695|-2.19865708695|-2.19865708695|-2.19865708695|-2.19865708695|-2.19865708695|-2.19865708695|-2.19865708695|-2.19865708695|-2.19865708695|-2.19865708695|-2.19865708695|-2.19865708695|-2.19865708695|-2.19865708695|-2.19865708695|-2.19865708695|-2.19865708695|-2.19865708695|-2.19865708695|-2.19865708695|-2.19865708695|-2.19865708695|-2.19865708695|-2.19865708695|-2.19865708695|-2.19865708695|-2.19865708695|-2.19865708695|-2.19865708695|-1.89762709129|-2.19865708695|-2.19865708695|-2.19865708695|-2.19865708695|-2.19865708695|-2.19865708695|-2.19865708695|-2.19865708695|-2.19865708695|-2.19865708695|-2.19865708695|-2.19865708695|-2.19865708695|-2.19865708695|-2.19865708695|-2.19865708695|-2.19865708695|-2.19865708695|-2.19865708695|-2.19865708695|-2.19865708695|-2.19865708695|-2.19865708695|-2.19865708695|-2.19865708695|-2.19865708695|-2.19865708695|-1.89762709129|-2.19865708695|-2.19865708695|-2.19865708695|-2.19865708695|-2.19865708695|-2.19865708695|-1.89762709129|-2.19865708695|-2.19865708695|-2.19865708695|-1.89762709129|-2.19865708695|-2.19865708695|-2.19865708695|-2.19865708695|-2.19865708695|-2.19865708695|-2.19865708695|-2.19865708695|-2.19865708695|-2.19865708695|-2.19865708695|-2.19865708695|-2.19865708695|-2.19865708695|-2.19865708695|-2.19865708695|-2.19865708695|\n",
            "|                  1|-2.18169033283|-2.18169033283|-2.18169033283| -2.0825639033|-2.18169033283| -2.1650283759|-2.18169033283|-2.18169033283|-2.03159741039|-2.18169033283|-2.18169033283|-2.18169033283|-2.18169033283|-2.18169033283|-2.18169033283|-2.18169033283|-2.18169033283|-2.18169033283|-2.18169033283|-2.18169033283|-2.18169033283|-2.18169033283|-2.18169033283|-2.18169033283|-2.18169033283|-2.18169033283|-2.18169033283|-2.18169033283|-2.18169033283|-2.18169033283|-2.18169033283|-2.18169033283|-2.18169033283|-2.18169033283|-2.18169033283|-2.18169033283|-2.04378933875|-2.18169033283|-2.18169033283|-2.18169033283| -2.1650283759|-2.18169033283|-2.13350766626|-2.18169033283|-2.18169033283|-2.18169033283|-2.18169033283|-2.18169033283|-2.18169033283|-2.18169033283|-2.18169033283|-2.18169033283|-2.13350766626|-2.18169033283|-2.18169033283|-2.18169033283|-2.18169033283| -2.0825639033|-2.18169033283|-2.18169033283|-2.18169033283|-2.18169033283|-2.18169033283|-2.18169033283|-2.18169033283|-2.18169033283|-2.18169033283|-2.18169033283|-2.18169033283|-2.18169033283|-2.18169033283|-2.18169033283|-2.18169033283|-2.18169033283|-2.18169033283|-2.18169033283|-2.18169033283|-2.18169033283|-2.18169033283|-2.18169033283|-2.18169033283|-2.18169033283|-2.18169033283| -2.1650283759| -2.1650283759|-2.18169033283|-2.18169033283|-2.18169033283|-2.18169033283|-2.18169033283| -2.0825639033|-2.18169033283|-2.13350766626|-2.18169033283|-2.18169033283|-2.18169033283|-2.18169033283| -2.0825639033|-2.18169033283|-2.18169033283|-2.18169033283|-2.18169033283| -2.1650283759|-2.18169033283|-2.18169033283|-2.18169033283|-2.18169033283|-2.14898211567|-2.18169033283|-2.18169033283|-2.18169033283|-2.18169033283|-2.18169033283|-2.18169033283|-2.18169033283|-2.18169033283|-2.18169033283|-2.18169033283|-2.18169033283|-2.18169033283|-2.18169033283|-2.13350766626|-2.18169033283|-2.18169033283|-2.18169033283|-2.18169033283|-2.18169033283|-2.13350766626|-2.18169033283|-2.18169033283|-2.18169033283|-2.14898211567|-2.18169033283|-2.18169033283|-2.18169033283|-2.18169033283|-2.14898211567|-2.18169033283|-2.18169033283| -2.1650283759|-2.18169033283| -2.1650283759|-2.18169033283|-2.18169033283| -2.1650283759|-2.18169033283|-2.18169033283|-2.18169033283|-2.18169033283|\n",
            "|                  2|-2.18348974514|-2.22416428244|-2.22416428244|-2.18956204525|  -2.105819191|-2.07540692977|-2.22416428244| -2.1184828527|-2.14039336128|-2.22416428244|-2.20985458626|-2.22416428244|-2.11072292262|-2.18600755691|-2.22416428244|-2.12447442725|-2.22416428244| -2.1564672386|-2.22416428244|-2.22416428244|-2.22416428244|-2.22416428244|-2.22416428244|-2.22416428244|-2.22416428244|-2.22416428244|-2.22416428244|-2.22416428244|-2.15331554028|-2.18600755691|-2.22416428244|-2.22416428244|-2.22416428244|-2.12823724262|-2.15830890286| -2.0597162753|-1.91026994358|-2.22416428244|-2.12305032364|-2.22416428244| -2.1540474649|-2.19732660587|-1.94546101853|-2.22416428244|-2.22416428244|-2.19732660587|-2.16688609291|-2.19200924203|-1.90378214556|-2.22416428244|-2.18956204525|-2.22416428244|-2.08310414373|-2.22416428244|-2.07009632406|-2.15774491839|-2.19637896136|-2.06981267335|-2.22416428244|-2.22416428244|-2.07295283796|-2.22416428244|-2.22416428244|-2.22416428244|-2.22416428244|-2.14039336128|-2.22416428244|-2.22416428244|-2.09655034389|-2.22416428244|-2.18752915304|-2.22416428244|-2.22416428244| -2.0986674195|-2.01637263889|-2.22416428244|-2.12612344339|-2.18956204525|-2.00831702218|-2.08582720782|-2.22416428244|-2.22416428244|-2.22416428244|-2.21836103031|-2.21934180525|-2.22416428244|-2.22416428244|-2.16049199254|-2.22416428244|-2.22416428244|-2.07679567645|-2.22416428244|-1.97508105411|-2.16614898607|-2.22416428244|-2.22416428244|-2.22416428244|-2.22416428244|-2.22416428244|-2.16374764081|-2.22416428244|-2.07235899879|-2.10027718305|-2.22416428244| -2.2035332074|-2.22416428244|-2.22416428244|-2.09436350786|-2.22416428244|-2.14039336128|-2.22416428244| -2.1647220548|-2.22416428244|-2.15499659217|-2.19732660587|-2.22416428244|-2.19732660587|-2.22416428244|-2.22416428244|-2.19732660587|-2.18700547481|-2.02626275007|-2.22416428244|-2.22416428244|-2.22416428244|-2.22381771387|-2.22416428244|-2.04927984782|-2.18956204525| -2.1184828527| -2.1455576526|-2.11781055674|-2.22416428244|-2.18018183988|-2.22416428244|-2.22416428244|-2.21457229008|-2.18600755691|-2.19156886273|-2.22416428244|-2.22416428244|-2.19637896136|-2.22416428244|-2.19200924203|-2.22416428244|-2.22416428244|-2.22416428244|-2.22416428244|-2.05754800359|\n",
            "|                  3|-2.17740922654|-2.17740922654|-2.17740922654|-2.17740922654|-2.17740922654| -2.1154847223|-2.17740922654|-2.17740922654|-2.17740922654|-2.17740922654|-2.16108085508|-2.17740922654|-2.17740922654|-2.17740922654|-2.17740922654|-2.13015789615|-2.17740922654|-2.17740922654|-2.17740922654|-2.17740922654|-2.17740922654|-2.17740922654|-2.17740922654|-2.17740922654|-2.17740922654|-2.17740922654|-2.17740922654|-2.17740922654|-2.17740922654|-2.17740922654|-2.17740922654|-2.17740922654|-2.17740922654|-2.17740922654|-2.17740922654|-2.17740922654|-2.10129114023|-2.17740922654|-2.17740922654|-2.17740922654|-2.17740922654|-2.17740922654|-2.14534420879|-2.17740922654|-2.17740922654|-2.17740922654|-2.14534420879|-2.17740922654|-2.17740922654|-2.17740922654|-2.17740922654|-2.17740922654|-2.17740922654|-2.17740922654|-2.17740922654|-2.17740922654|-2.17740922654|-2.17740922654|-2.17740922654|-2.17740922654|-2.17740922654|-2.17740922654|-2.17740922654|-2.17740922654|-2.17740922654|-2.17740922654|-2.17740922654|-2.17740922654|-2.17740922654|-2.17740922654|-2.17740922654|-2.17740922654|-2.17740922654|-2.17740922654|-2.17740922654|-2.17740922654|-2.17740922654|-2.17740922654|-2.17740922654|-2.17740922654|-2.17740922654|-2.17740922654|-2.17740922654|-2.17740922654|-2.17740922654|-2.17740922654|-2.17740922654|-2.17740922654|-2.17740922654|-2.17740922654|-2.17740922654|-2.17740922654|-2.10129114023|-2.17740922654|-2.17740922654|-2.17740922654|-2.17740922654|-2.17740922654|-2.17740922654|-2.17740922654|-2.17740922654|-2.17740922654|-2.17740922654|-2.17740922654|-2.17740922654|-2.17740922654|-2.17740922654|-2.16108085508|-2.17740922654|-2.17740922654|-2.17740922654|-2.17740922654|-2.17740922654|-2.17740922654|-2.17740922654|-2.17740922654|-2.17740922654|-2.17740922654|-2.17740922654|-2.17740922654| -2.1154847223|-2.17740922654|-2.17740922654|-2.17740922654|-2.17740922654|-2.17740922654|-2.17740922654|-2.16108085508|-2.17740922654|-2.17740922654|-2.16108085508|-2.13015789615|-2.17740922654|-2.17740922654|-2.17740922654|-2.17740922654| -2.1154847223|-2.17740922654|-2.16108085508|-2.16108085508|-2.17740922654|-2.17740922654|-2.17740922654|-2.17740922654|-2.17740922654|-2.17740922654|-2.17740922654|-2.17740922654|-2.17740922654|\n",
            "|                  4|-2.18956170511|-2.18778349507|-2.19400796846|-2.17115341387|-2.15230289154| -2.0566179832|-2.19400796846|-2.19400796846|-2.14591119507|-2.19400796846|-2.08909356547|-2.19400796846|-2.15520530324|-2.07099501364|-2.19400796846|-2.07496431373|-2.18552559667|-2.19400796846|-2.18956170511|-2.19177914676|-2.18503246109|-2.15021531166|-2.19400796846|-2.18923260591|-2.19400796846|-2.19163092499|-2.14602521033|-2.19400796846|-2.13026336385|-2.17781308705|-2.19400796846|-2.15965072358|-2.19400796846|-2.17069951907|-2.19400796846|-2.19400796846|-1.94652341801|-2.19177914676|-2.19400796846|-2.17221833878|-2.18890129195|-2.19400796846|-2.10931673054|-2.18116057282|-2.17559540603|-2.19400796846|-2.18067669051|-2.19400796846|-2.09243455731|-2.19400796846|-2.17254434873|-2.19400796846|-2.14541772618|-2.19400796846|  -2.115699277|-2.12078948829|-2.18803690468|-2.14921087344|-2.19400796846|-2.19400796846|-2.19177914676|-2.19400796846|-2.18503246109|-2.19400796846|-2.19400796846|-2.16987057673|-2.19400796846|-2.19400796846|-2.16798859565|-2.19400796846|-2.15842232231|-2.19400796846|-2.19177914676|-2.17454334144|-2.18071199206|-2.17794413085|-2.18890129195|-2.16548646165|-2.19177914676|-2.14596090725|-2.19400796846|-2.18735552789|-2.16987057673|-2.19171542361|-2.19110965993|-2.19400796846|-2.19400796846|-2.17613389971|-2.19400796846|-2.19400796846|-2.19400796846|-2.19400796846|-1.96428828906|-2.17679093563|-2.19177914676|-2.19177914676|-2.18956170511|-2.19400796846|-2.19400796846|-2.19400796846|-2.16588907255|-2.19400796846|-2.14598808853|-2.19400796846|-2.19400796846|-2.19177914676|-2.19400796846|-2.09742037935|-2.19400796846|-2.18002679447|-2.19400796846|-2.19400796846|-2.19400796846|-2.19400796846|-2.19177914676|-2.19400796846|-2.19400796846|-2.19400796846|-2.19400796846|-2.19400796846|-2.15273950406|-2.13917773593|-2.19400796846|-2.18230496146|-2.19400796846|-2.19400796846|-2.19400796846|-2.15716295446|-2.19400796846|-2.17445446285|-2.13936532716|-2.09930224877|-2.19400796846|-2.19400796846|-2.19400796846|-2.19400796846|-2.15146991676|-2.19400796846| -2.1632422875|-2.18735552789|-2.19400796846|-2.19177914676|-2.19400796846|-2.19400796846|-2.18516050123|-2.19400796846|-2.19400796846|-2.19400796846|-2.18803690468|\n",
            "|                  5|-2.17448889231|-2.17448889231|-2.17448889231|-2.17448889231|-2.17448889231| -2.1554731098|-2.17448889231|-2.17448889231|-2.17448889231|-2.17448889231|-2.17448889231|-2.17448889231|-2.17448889231|-2.17448889231|-2.17448889231| -2.1554731098|-2.17448889231|-2.17448889231|-2.17448889231|-2.17448889231|-2.17448889231|-2.17448889231|-2.17448889231|-2.17448889231|-2.17448889231|-2.17448889231|-2.17448889231|-2.17448889231|-2.17448889231|-2.17448889231|-2.17448889231|-2.17448889231|-2.17448889231|-2.17448889231|-2.17448889231|-2.17448889231| -2.1554731098|-2.17448889231|-2.17448889231|-2.17448889231|-2.17448889231|-2.17448889231|-2.17448889231|-2.17448889231|-2.17448889231|-2.17448889231|-2.17448889231|-2.17448889231|-2.17448889231|-2.17448889231|-2.17448889231|-2.17448889231|-2.17448889231|-2.17448889231|-2.17448889231|-2.17448889231|-2.17448889231|-2.17448889231|-2.17448889231|-2.17448889231|-2.17448889231|-2.17448889231|-2.17448889231|-2.17448889231|-2.17448889231|-2.17448889231|-2.17448889231|-2.17448889231|-2.17448889231|-2.17448889231|-2.17448889231|-2.17448889231|-2.17448889231|-2.17448889231|-2.17448889231|-2.17448889231|-2.17448889231|-2.17448889231|-2.17448889231|-2.17448889231|-2.17448889231|-2.17448889231|-2.17448889231| -2.1554731098| -2.1554731098|-2.17448889231|-2.17448889231|-2.17448889231|-2.17448889231|-2.17448889231|-2.17448889231|-2.17448889231| -2.1554731098|-2.17448889231|-2.17448889231|-2.17448889231|-2.17448889231|-2.17448889231|-2.17448889231|-2.17448889231|-2.17448889231|-2.17448889231|-2.17448889231|-2.17448889231|-2.17448889231|-2.17448889231|-2.17448889231| -2.1554731098|-2.17448889231|-2.17448889231|-2.17448889231|-2.17448889231|-2.17448889231|-2.17448889231|-2.17448889231|-2.17448889231|-2.17448889231|-2.17448889231|-2.17448889231|-2.17448889231| -2.1554731098| -2.1554731098|-2.17448889231|-2.17448889231|-2.17448889231|-2.17448889231|-2.17448889231|-2.17448889231|-2.17448889231|-2.17448889231|-2.17448889231|-2.17448889231|-2.17448889231|-2.17448889231|-2.17448889231|-2.17448889231| -2.1554731098|-2.17448889231|-2.17448889231|-2.17448889231|-2.17448889231|-2.17448889231|-2.17448889231|-2.17448889231|-2.17448889231|-2.17448889231|-2.17448889231|-2.17448889231|-2.17448889231|\n",
            "|                  6|-2.17461039826|-2.17461039826|-2.17461039826|-2.17461039826|-2.17461039826|-2.13758978249|-2.17461039826|-2.17461039826|-2.17461039826|-2.17461039826|-2.17461039826|-2.17461039826|-2.17461039826|-2.17461039826|-2.17461039826|-2.13758978249|-2.17461039826|-2.17461039826|-2.17461039826|-2.17461039826|-2.17461039826|-2.17461039826|-2.17461039826|-2.17461039826|-2.17461039826|-2.17461039826|-2.17461039826|-2.17461039826|-2.17461039826|-2.17461039826|-2.17461039826|-2.17461039826|-2.17461039826|-2.17461039826|-2.17461039826|-2.17461039826|-2.13758978249|-2.17461039826|-2.17461039826|-2.17461039826|-2.17461039826|-2.17461039826|-2.17461039826|-2.17461039826|-2.17461039826|-2.17461039826|-2.17461039826|-2.17461039826|-2.17461039826|-2.17461039826|-2.17461039826|-2.17461039826|-2.17461039826|-2.17461039826|-2.17461039826|-2.17461039826|-2.17461039826|-2.17461039826|-2.17461039826|-2.17461039826|-2.17461039826|-2.17461039826|-2.17461039826|-2.17461039826|-2.17461039826|-2.17461039826|-2.17461039826|-2.17461039826|-2.17461039826|-2.17461039826|-2.17461039826|-2.17461039826|-2.17461039826|-2.17461039826|-2.17461039826|-2.17461039826|-2.17461039826|-2.17461039826|-2.17461039826|-2.17461039826|-2.17461039826|-2.17461039826|-2.17461039826|-2.17461039826|-2.17461039826|-2.17461039826|-2.17461039826|-2.17461039826|-2.17461039826|-2.17461039826|-2.17461039826|-2.17461039826|-2.13758978249|-2.17461039826|-2.17461039826|-2.17461039826|-2.17461039826|-2.17461039826|-2.17461039826|-2.17461039826|-2.17461039826|-2.17461039826|-2.17461039826|-2.17461039826|-2.17461039826|-2.17461039826|-2.17461039826|-2.17461039826|-2.17461039826|-2.17461039826|-2.17461039826|-2.17461039826|-2.17461039826|-2.17461039826|-2.17461039826|-2.17461039826|-2.17461039826|-2.17461039826|-2.17461039826|-2.17461039826|-2.17461039826|-2.17461039826|-2.17461039826|-2.17461039826|-2.17461039826|-2.17461039826|-2.17461039826|-2.17461039826|-2.17461039826|-2.17461039826|-2.17461039826|-2.15570574066|-2.17461039826|-2.17461039826|-2.17461039826|-2.17461039826|-2.13758978249|-2.17461039826|-2.17461039826|-2.17461039826|-2.17461039826|-2.17461039826|-2.17461039826|-2.17461039826|-2.17461039826|-2.17461039826|-2.17461039826|-2.17461039826|-2.17461039826|\n",
            "|                  7|-2.22193170159|-2.22659115339|-2.22659115339|-2.22659115339|-2.09575613377|-2.01933491882|-2.20704528499|-2.21799601197|-2.22479692572|-2.19969217032|-2.19304415817|-2.22659115339|-2.22659115339|-2.09855540094|-2.22659115339|-1.96524232348|-2.22657936591|-2.22658484216|-2.22659115339|-2.15854463643|-2.22659115339|-2.22659115339|-2.22193170159|-2.20853578545|-2.22659115339|-2.22659115339|-2.09586965839|-2.22659115339|-1.92408053401|-2.09587499021|-2.22659115339|-2.22193170159| -2.2127601392|-2.22659115339|-2.22628139526|-2.22659115339|-1.73941882222|-2.22193170159|-2.22659115339|-2.22193170159|-2.22659115339|-2.22659115339|-1.86267265555|-2.22659115339|-2.22291948948|-2.22659017412|-2.22659115339|-2.22659115339|-1.84663301762|-2.09587499021|-2.22659115339|-2.21931635741|-2.22431252018|-2.22659115339|-2.05932074333|-2.19720768766|-2.22659115339|-2.09587478477|-2.09587499021|-2.22659115339|-2.22659115339|-2.22659115339|-2.22659115339|-2.22659115339|-2.22659115339|-2.21966073509|-2.22659115339|-2.22659115339|-2.21732170986|-2.22659115339|-2.22659115339|-2.22659115339|-2.08899581554|-2.16071607824|-2.19871323665|-2.22659115339|-2.22208725482|-2.22659115339|-2.16317855014|-2.22659115339|-2.09587499021|-2.22659115339|-2.22659115339|-2.18367957382|-2.21732051682|-2.22659115339|-2.22659115339|-2.22659115339|-2.21732170986|-2.22659115339|-2.15415808202|-2.22659115339|-1.79399167485|-2.22659115339|-2.22193170159|-2.22658107372|-2.22659115339|-2.22659115339|-2.21749922622|-2.22659115339|-2.22659115339|-2.22659115339|-2.22659115339|-2.22659115339|-2.22659061542|-2.22193170159|-2.22659115339|-1.96979485788|-2.21522828091|   -1.97020778|-2.22659115339|-2.22659115339|-2.22659115339|-2.22659115339|-2.22659115339|-2.22193170159|-2.19324678739|-2.22193170159|-2.22659115339| -2.2143603277|-2.16111893862|-1.90712694044|-2.22659115339|-2.22659115339|-2.22659115339|-2.22659115339|-2.22659115339|-2.07010649447|-2.22659115339|-2.07274894547|-2.06418142847|-2.20834228844|-2.22659115339|-2.22659115339|-2.22659115339|-2.13188510993|-2.20701858714|-2.22659115339|-2.05877592031|-2.22193170159|-2.22659115339|-2.09453695156|-2.22659115339|-2.22659115339|-2.22659115339|-2.22659115339|-2.22659115339|-2.22659115339|-2.22659115339|\n",
            "|                  8|-2.20104721119|-2.20104721119|-2.20104721119|-2.15085810631|-2.15085810631| -2.0307681668|-2.19457455229|-2.19565830568|-2.20104721119|-2.18241057492|-2.20104721119|-2.20104721119|-2.20104721119|-2.10298423433|-2.20104721119|-2.04619204581|-2.19862237184|-2.20104721119|-2.20104721119|-2.20104721119|-2.20104721119|-2.20104721119|-2.20104721119|-2.20104721119|-2.20104721119|-2.20104721119|-2.20104721119| -2.1827943517|-2.02266371346|-2.20099744138|-2.20104721119|-2.19580357531|-2.20104721119|-2.20104721119|-2.19270070972|-2.20104721119|-1.80909530725|-2.20104721119|-2.20104721119|-2.20104721119|-2.19002756541|-2.20104721119|-1.95569009139|-2.20104721119|-2.20104721119|-2.20104721119|-2.19580357531|-2.20104721119|-2.00254152807|-2.19666796281|-2.20104721119|-2.20104721119|-2.18692138111|-2.20104721119|-2.18044215917|-2.15085810631|-2.20104721119|-2.15078077975|-2.20104721119|-2.20104721119|-2.20104721119|-2.20104721119|-2.20104721119|-2.20104721119|-2.20104721119|-2.20104721119|-2.20104721119|-2.20104721119|-2.20104721119|-2.20104721119|-2.19964801479|-2.20104721119|-2.20104721119|-2.20008977292|-2.16377613744|-2.20104721119|-2.20104721119|-2.20104721119|-2.20104721119|-2.15085810631|-2.15085810631|-2.20104721119|-2.20104721119|-2.16822289049|-2.19580357531|-2.20104721119|-2.20104721119|-2.20104721119|-2.20104721119|-2.20104721119|-2.13316661411|-2.20104721119|-1.86749058861|-2.20104721119|-2.20104721119|-2.20104721119|-2.20104721119|-2.20104721119|-2.20104721119|-2.20104721119|-2.20104721119|-2.20104721119|-2.20104721119|-2.20104721119|-2.20104721119|-2.20104721119|-2.20104721119|-1.96955992159|-2.20104721119|-2.20104721119|-2.20104721119|-2.15085810631|-2.20104721119|-2.20104721119|-2.20104721119|-2.20104721119|-2.20104721119|-2.20104721119|-2.20104721119|-2.20104721119|-2.14310398513| -2.0942719556|-2.20104721119|-2.20104721119|-2.20104721119|-2.20104721119|-2.20104721119|-1.99277459026|-2.20104721119|-2.14912931941|-2.20104721119|-2.18550249854|-2.20104721119|-2.20104721119|-2.20104721119|-2.07421007588| -2.1512591565|-2.20104721119|-2.10623467812|-2.20104721119|-2.20104721119|-2.20104721119|-2.20104721119|-2.20104721119|-2.20104721119|-2.20104721119|-2.20104721119|-2.20104721119| -2.1443919575|\n",
            "|                  9|-2.17597860854|-2.17597860854|-2.17597860854|-2.17597860854|-2.17597860854|   -2.14148758|-2.17597860854|-2.17597860854|-2.17597860854|-2.17597860854|-2.17597860854|-2.17597860854|-2.17597860854|-2.17597860854|-2.17597860854|   -2.14148758|-2.17597860854|-2.17597860854|-2.17597860854|-2.17597860854|-2.17597860854|-2.17597860854|-2.17597860854|-2.17597860854|-2.17597860854|-2.17597860854|-2.17597860854|-2.17597860854|-2.17597860854|-2.17597860854|-2.17597860854|-2.17597860854|-2.17597860854|-2.17597860854|-2.17597860854|-2.17597860854|   -2.14148758|-2.17597860854|-2.17597860854|-2.17597860854|-2.17597860854|-2.17597860854|-2.14985694932|-2.17597860854|-2.17597860854|-2.17597860854|-2.17597860854|-2.17597860854|-2.17597860854|-2.17597860854|-2.17597860854|-2.17597860854|-2.15839078088|-2.17597860854|-2.17597860854|-2.17597860854|-2.17597860854|-2.17597860854|-2.17597860854|-2.17597860854|-2.17597860854|-2.17597860854|-2.17597860854|-2.17597860854|-2.17597860854|-2.17597860854|-2.17597860854|-2.17597860854|-2.17597860854|-2.17597860854|-2.17597860854|-2.17597860854|-2.17597860854|-2.17597860854|-2.17597860854|-2.17597860854|-2.17597860854|-2.17597860854|-2.17597860854|-2.17597860854|-2.17597860854|-2.13631712248|-2.17597860854|-2.17597860854|-2.17597860854|-2.17597860854|-2.17597860854|-2.17597860854|-2.17597860854|-2.17597860854|-2.17597860854|-2.17597860854|   -2.14148758|-2.16709566797|-2.17597860854|-2.17597860854|-2.17597860854|-2.17597860854|-2.17597860854|-2.17597860854|-2.17597860854|-2.17597860854|-2.17597860854|-2.17597860854|-2.17597860854|-2.17597860854|-2.17597860854|-2.17597860854|-2.17597860854|-2.17597860854|-2.17597860854|-2.17597860854|-2.17597860854|-2.17597860854|-2.17597860854|-2.17597860854|-2.17597860854|-2.17597860854|-2.17597860854|-2.17597860854|-2.17597860854|-2.16709566797|-2.17597860854|-2.17597860854|-2.17597860854|-2.17597860854|-2.17597860854|-2.11241375623|-2.17597860854|-2.17597860854|-2.17597860854|-2.15839078088|-2.17597860854|-2.13631712248|-2.17597860854|-2.17597860854|-2.17597860854|-2.17597860854|-2.13631712248|-2.17597860854|-2.17597860854|-2.17597860854|-2.17597860854|-2.17597860854|-2.17597860854|-2.17597860854|-2.17597860854|-2.17597860854|-2.17597860854|\n",
            "|                 10|-2.22860590096|-2.23349402766|-2.24190964181|-2.11039100684|-2.07494412657|-1.89960038005|-2.24131665044| -2.2411143074|-2.24190964181|-2.21839980378|-2.07608236935|-2.24190964181|-2.24190964181| -2.0261035752|-2.24190964181|-1.95523783694| -2.1994362031|-2.23882155629|-2.24190964181|-2.09802447087|-2.24190964181|-2.24190964181|-2.24190964181|-2.22469395793|-2.24190964181|-2.23636567511|-2.23921127473|-2.22439117491|-1.94497585361|-2.18359778152|-2.24190964181|-2.23806680671|-2.22673820292|-2.10566149181|-2.10317823093|  -2.235622802|-1.61324920158|-2.24190964181|-2.24190964181|-2.23376364809|-2.22465609322|-2.24190258069|-1.88227569899|-2.24190964181|-2.07033512542|-2.24116512885|-2.24190964181|-2.24117673808|-1.81988527783|-2.22339243726|-2.24190964181|-2.21559357281|-2.21251678913|-2.24190964181|-2.15259593896|-2.19731130404|-2.24190964181|-1.92646051267|-2.24190964181|-2.24190964181|-2.24190964181|-2.24190964181| -2.2419029479|-2.23794181635|-2.24190964181|-2.24032887631|-2.24091436425|-2.24190964181|-2.23806680671|-2.24190964181|-2.23675090233|-2.23998397388|-2.23037034841|-2.06215095638|-2.14021133609|-2.24190964181|-2.23523781022|-2.11300855953|-2.20806798784|-2.09382045325|-2.24190964181|-2.24159869465|-2.24190964181| -2.1641266725|-2.23700098761|-2.24190964181|-2.24190964181|-2.24125817267|-2.23615806558|-2.24190964181|-2.09623119033|-2.24190964181|-1.67550264199|-2.24095520484|-2.23998397388|-2.22260385797|-2.24190964181|-2.24190964181|  -2.239977412|-2.24190964181|-2.24190964181|-2.24166642145|-2.24055961816|-2.24185111132|-2.23590001046|-2.24190964181|-2.24190964181|-2.05087232627|-2.11178274475|-2.20670678787|-2.23425767674|-2.24190964181|-2.23615806558|-2.22981538254|-2.23998397388|-2.23998397388|-2.22118282316|-2.23236556743| -2.2248785026|-2.23938629457|-2.07003562195|-2.02419719672|-2.24190964181|-2.24165638217|-2.23888317184|-2.23011541623| -2.2411514717|-1.99051777264|-2.24190964181|-2.07136993935|-2.23236556743|-2.09390216952|-2.24176260226|-2.24190964181|-2.24190964181| -2.1701813865|-2.18897870433|-2.24190964181|-1.94735050472|-2.24190964181|-2.23799593228|-2.22441417134|-2.24190964181|-2.24190964181|-2.24190964181|-2.23321197923|-2.24190964181|-2.24190964181|-2.21417471119|\n",
            "|                 11|-2.16458487988|-2.21110452282|-2.21110452282|-2.21110452282|-2.09975363649|-2.01426019881|-2.21110452282|-2.21110452282|-2.21110452282|-2.20621741319|-2.16458487988|-2.21110452282|-2.20554794499|-2.18151739986|-2.21110452282|-2.09324869769|-2.21110452282| -2.1356212659|-2.17448364738|-2.15047147073|-2.21110452282|-2.21110452282|-2.21110452282|-2.21110452282|-2.21110452282|-2.21110452282|-2.21110452282|-2.21110452282| -2.1643585686|-2.21110452282|-2.21110452282|-2.21110452282|-2.21110452282|-2.13154609532|-2.21110452282|-2.21110452282|-1.93342465913|-2.21110452282|-2.21110452282|-2.21110452282|-2.21110452282|-2.21110452282|-2.06438909793|-2.21110452282|-2.17898451086|-2.21110452282|-2.17898451086|-2.21110452282|-2.04863216563|-2.21110452282|-2.06332754507|-2.21110452282|-2.21110452282|-2.21110452282|-2.11020891374|-2.01933108745| -2.0521117403|-1.99543153293|-2.21110452282|-2.21110452282|-2.06332754507|-2.21110452282|-2.20763189595|-2.21110452282|-2.21110452282|-2.21110452282|-2.21110452282|-2.21110452282|-2.21110452282|-2.21110452282|-2.21110452282|-2.21110452282|-2.21110452282|-2.21110452282|-2.20180679629|-2.21110452282|-2.21110452282|-2.04131509597|-2.06332754507|-2.04131509597|-2.21110452282|-2.21110452282|-2.04131509597|-2.15063198339|-2.21110452282|-2.21110452282|-2.21110452282|-2.21110452282|-2.21110452282|-2.21110452282|-2.05266055344|-2.21110452282|-1.98682688802|-2.15047147073|-2.21110452282|-2.21110452282|-2.21110452282|-2.21110452282|-2.21110452282|-2.21110452282|-2.20554794499|-2.03695583673|-2.21110452282|-2.21110452282|-2.21110452282|-2.21110452282|-2.21110452282| -2.0388460012|-2.18168490954|-2.14487455124|-2.21110452282|-2.21110452282|-2.20554794499|-2.17898451086|-2.21110452282|-2.21110452282|-2.21110452282|-2.21110452282|-2.21110452282|-2.21110452282|-2.16115356673|-2.12181656937|-2.21110452282|-2.21110452282|-2.21110452282|-2.21110452282|-2.21110452282|-2.13834693492|-2.21110452282|-2.18047819657|-2.20554794499|-2.01525595558|-2.21110452282|-2.21110452282|-2.21110452282|-2.21110452282|-2.20554794499|-2.21110452282|-2.03100102884|-2.20554794499|-2.21110452282|-2.21110452282|-2.21110452282|-2.06332754507|-2.21110452282|-2.21110452282|-2.21110452282|-2.21110452282|-2.21110452282|\n",
            "|                 13|-2.17411524092|-2.17411524092|-2.17411524092|-2.17411524092|-2.17411524092|-2.15475810312|-2.17411524092|-2.17411524092|-2.17411524092|-2.17411524092|-2.17411524092|-2.17411524092|-2.17411524092|-2.17411524092|-2.17411524092|-2.15475810312|-2.17411524092|-2.17411524092|-2.17411524092|-2.17411524092|-2.17411524092|-2.17411524092|-2.17411524092|-2.17411524092|-2.17411524092|-2.17411524092|-2.17411524092|-2.17411524092|-2.17411524092|-2.17411524092|-2.17411524092|-2.17411524092|-2.17411524092|-2.17411524092|-2.17411524092|-2.17411524092|-2.15475810312|-2.17411524092|-2.17411524092|-2.17411524092|-2.17411524092|-2.17411524092|-2.17411524092|-2.17411524092|-2.17411524092|-2.17411524092|-2.17411524092|-2.17411524092|-2.17411524092|-2.17411524092|-2.17411524092|-2.17411524092|-2.17411524092|-2.17411524092|-2.17411524092|-2.17411524092|-2.17411524092|-2.17411524092|-2.17411524092|-2.17411524092|-2.17411524092|-2.17411524092|-2.17411524092|-2.17411524092|-2.17411524092|-2.17411524092|-2.17411524092|-2.17411524092|-2.17411524092|-2.17411524092|-2.17411524092|-2.17411524092|-2.17411524092|-2.17411524092|-2.17411524092|-2.17411524092|-2.17411524092|-2.17411524092|-2.17411524092|-2.17411524092|-2.17411524092|-2.17411524092|-2.17411524092|-2.17411524092|-2.17411524092|-2.17411524092|-2.17411524092|-2.17411524092|-2.17411524092|-2.17411524092|-2.17411524092|-2.17411524092|-2.15475810312|-2.17411524092|-2.17411524092|-2.15475810312|-2.17411524092|-2.17411524092|-2.17411524092|-2.17411524092|-2.17411524092|-2.17411524092|-2.17411524092|-2.17411524092|-2.17411524092|-2.17411524092|-2.17411524092|-2.17411524092|-2.17411524092|-2.17411524092|-2.17411524092|-2.17411524092|-2.17411524092|-2.17411524092|-2.17411524092|-2.17411524092|-2.17411524092|-2.17411524092|-2.17411524092|-2.17411524092|-2.17411524092|-2.17411524092|-2.17411524092|-2.17411524092|-2.17411524092|-2.17411524092|-2.17411524092|-2.15475810312|-2.17411524092|-2.17411524092|-2.17411524092|-2.17411524092|-2.17411524092|-2.17411524092|-2.17411524092|-2.17411524092|-2.15475810312|-2.17411524092|-2.17411524092|-2.17411524092|-2.17411524092|-2.17411524092|-2.17411524092|-2.17411524092|-2.17411524092|-2.17411524092|-2.17411524092|-2.17411524092|-2.17411524092|\n",
            "|                 14|-2.10730356745|-2.20458441644|-2.16302313022|-2.20458441644|-2.11809978697|-2.05657002308|-2.20458441644|-2.20458441644| -2.1147597819|-2.20458441644|-2.20458441644|-2.14364469062|-2.20458441644|-2.20072441363|-2.20458441644|-2.03221222923|-2.17151008221|-2.20458441644|-2.20458441644|-2.14042842679|-2.20458441644|-2.20458441644|-2.20458441644|-2.20458441644|-2.20458441644|-2.20458441644|-2.20458441644|-2.20458441644|-2.20458441644|-2.20458441644|-2.20458441644|-2.20458441644|-2.20458441644|-2.11610775221| -2.1193014513|-2.10730356745|-1.92437221737|-2.20458441644|-2.20458441644| -2.2008857101| -2.1838456198|-2.20458441644|-2.14150210654|-2.20458441644|-2.17151008221|-2.20458441644|-2.20458441644|-2.20458441644| -1.9003784349|-2.20458441644|-2.13634767919|-2.20458441644|-2.18285042686|-2.20458441644| -2.1077367501|-2.20458441644|-2.16302313022|-2.11809978697|-2.20458441644|-2.20458441644|-2.14364469062|-2.20458441644|-2.20458441644|-2.20458441644|-2.20458441644|-2.20458441644|-2.20458441644|-2.17531838308|-2.20458441644|-2.20458441644|-2.08605105708|-2.20458441644| -2.2008857101|-2.15670564022| -2.2008857101|-2.20458441644|-2.08828393299|-2.17151008221|-2.11302965243|-2.17151008221|-2.17151008221| -2.2008857101| -2.0837546715| -2.0854768094|-2.13406648531|-2.20458441644|-2.20458441644|-2.20458441644|-2.20458441644|-2.20458441644|-2.02765719381|-2.20458441644|-2.01230492488|-2.20458441644|-2.20458441644|-2.20458441644|-2.20458441644|-2.20458441644|-2.20458441644|-2.20458441644|-2.20458441644|-2.20458441644|-2.20458441644|-2.20458441644|-2.20458441644|-2.20458441644|-2.20458441644|-2.12967620316|-2.17531838308|-2.20458441644|-2.20458441644|-2.20458441644|-2.20458441644|-2.16542523505|-2.20458441644|-2.20458441644|-2.20458441644|-2.20458441644|-2.20458441644|-2.20458441644| -2.1899749188|-2.08372885335|-2.20458441644|-2.20458441644|-2.20458441644|-2.20458441644|-2.20458441644|-2.05279500956|-2.20458441644|-2.17151008221|-2.19076506652|-2.17584092655|-2.20458441644|-2.13634767919|-2.20458441644|-2.20458441644|-2.13719018329|-2.20458441644|-2.17151008221|-2.20458441644|-2.20458441644|-2.20458441644|-2.20458441644|-2.13634767919|-2.20458441644| -2.2008857101|-2.20458441644|-2.20458441644|-2.14432435539|\n",
            "|                 15|-2.18513746748|-2.18513746748|-2.18513746748|-2.18513746748|-2.18513746748|-2.09485362115|-2.18513746748|-2.18513746748|-2.18513746748|-2.18513746748|-2.17689653551|-2.18513746748|-2.18513746748|-2.15114880485|-2.18513746748|-2.03332154545|-2.18133669637|-2.18513746748|-2.18513746748|-2.18513746748|-2.18513746748|-2.18513746748|-2.18513746748|-2.18513746748|-2.18513746748|-2.18513746748|-2.18513746748|-2.18513746748|-2.18513746748|-2.18513746748|-2.18513746748|-2.18513746748|-2.18513746748|-2.18513746748|-2.18513746748|-2.18513746748|-1.87365112595|-2.18513746748|-2.18513746748|-2.18513746748|-2.18513746748|-2.18513746748|-2.03470902411|-2.18513746748|-2.18513746748|-2.18513746748|-2.18513746748|-2.18513746748|-2.13890977163|-2.18513746748|-2.18513746748|-2.18513746748|-2.13533573687|-2.18513746748|-2.16880907131|-2.17689653551|-2.18513746748|-2.18513746748|-2.18513746748|-2.18513746748|-2.17689653551|-2.18513746748|-2.18513746748|-2.18513746748|-2.18513746748|-2.18513746748|-2.18513746748|-2.18513746748|-2.17689653551|-2.18513746748|-2.18513746748|-2.18513746748|-2.18513746748|-2.18513746748|-2.17689653551|-2.18513746748|-2.18513746748|-2.18513746748|-2.18513746748|-2.18513746748|-2.18513746748|-2.18513746748|-2.18513746748|-2.18513746748|-2.18513746748|-2.18513746748|-2.18513746748|-2.18513746748|-2.18513746748|-2.18513746748|-2.18513746748|-2.18513746748|-1.91686265944|-2.18513746748|-2.18513746748|-2.18513746748|-2.18513746748|-2.18513746748|-2.18513746748|-2.18513746748|-2.18513746748|-2.18513746748|-2.18513746748|-2.18513746748|-2.18513746748|-2.18513746748|-2.18513746748|-2.07710754122|-2.18513746748|-2.18513746748|-2.18513746748|-2.18513746748|-2.18513746748|-2.18513746748|-2.18513746748|-2.18513746748|-2.18513746748|-2.18513746748|-2.18513746748|-2.18513746748|-2.16880907131|-2.17689653551|-2.18513746748|-2.18513746748|-2.18513746748|-2.18513746748|-2.18513746748|-2.16086946327|-2.18513746748|-2.18513746748|-2.18513746748|-2.16880907131|-2.18513746748|-2.18513746748|-2.18513746748|-2.18513746748| -2.1454128593|-2.18513746748|-2.10568643297|-2.18513746748|-2.18513746748|-2.18513746748|-2.18513746748|-2.18513746748|-2.18513746748|-2.18513746748|-2.18513746748|-2.18513746748|-2.18513746748|\n",
            "|                 16|-2.18938090975|-2.18896631244|-2.18938090975|-2.18938090975|-2.18938090975|-2.13941694098|-2.18938090975|-2.18938090975|-2.18938090975|-2.18938090975|-2.18337737748|-2.18938090975|-2.18938090975|-2.17604987931|-2.18938090975|-2.01818892768|-2.18938090975|-2.18938090975|-2.18938090975|-2.18938090975|-2.18938090975|-2.18938090975|-2.18938090975|-2.18938090975|-2.18938090975|-2.18938090975|-2.18938090975|-2.18938090975|-2.11023240395|-2.18938090975|-2.18938090975|-2.18337737748|-2.18938090975|-2.18938090975|-2.18938090975|-2.18938090975|-1.89154311497|-2.18938090975|-2.18938090975|-2.18337737748|-2.18938090975|-2.18938090975| -1.9968794103|-2.18938090975|-2.18938090975|-2.18938090975|-2.18938090975|-2.18938090975|-2.06623539873|-2.18938090975|-2.18938090975|-2.18938090975|-2.18938090975|-2.18938090975|-2.15454486202|-2.18337737748|-2.18938090975|-2.18938090975|-2.18938090975|-2.18938090975|-2.18938090975|-2.18938090975|-2.18938090975|-2.18938090975|-2.18938090975|-2.18938090975|-2.18938090975|-2.18938090975|-2.18938090975|-2.18938090975|-2.18938090975|-2.18938090975|-2.18337737748|-2.18289112859|-2.18929875537|-2.18938090975|-2.18938090975| -2.1611100878|-2.18938090975|-2.18938090975|-2.18938090975|-2.18938090975|-2.18938090975|-2.18938090975|-2.18938090975|-2.18938090975|-2.18938090975|-2.18938090975|-2.18938090975|-2.18938090975|-2.14520245901|-2.18938090975|-1.91959814657|-2.18101834833|-2.18938090975|-2.18938090975|-2.18938090975|-2.18938090975|-2.18938090975|-2.18938090975|-2.18938090975|-2.18938090975|-2.18938090975|-2.18938090975|-2.18938090975|-2.18938090975|-2.18938090975|-2.02526612524|-2.18938090975|-2.18938090975|-2.18938090975|-2.18938090975|-2.18938090975|-2.18385295897|-2.18938090975|-2.18938090975|-2.18938090975|-2.18938090975|-2.18938090975|-2.18938090975|-2.11631117319|-2.09110110056|-2.18938090975|-2.18938090975|-2.18938090975|-2.18938090975|-2.18938090975|-2.07883900296|-2.18938090975|-2.12553080384|-2.18938090975|-2.16016026205|-2.18938090975|-2.18938090975|-2.18938090975|-2.14018186764|  -2.165849221|-2.18938090975|-2.13746058229|-2.18938090975|-2.18938090975|-2.18938090975|-2.18938090975|-2.18938090975|-2.18938090975|-2.18938090975|-2.18938090975|-2.18938090975|-2.18938090975|\n",
            "|                 17|-2.10966824012|-2.21655500503|-2.18591475048|-2.06394658999|-2.03239581346|-1.86575595205|-2.25710646775|-2.25710646775|-2.07273155675|-2.14132618369|-2.23050323508|-2.25710646775|-2.08117426296|-2.19474834511|-2.25710646775|-2.00334673945|-2.06487290551|-2.24967116017|-2.25710646775|-2.25710646775|-2.02074683011|-2.18591475048|-2.25710646775|-2.25621127456|-2.25710646775|-2.25710646775|-2.21985162142|-2.25710646775|-2.03568641005|-2.13334458773|-2.25710646775|-2.25065623662|-2.25461951707|-2.15125670746|-2.18006722193|-2.25710646775|-1.78255487966|-2.18170126912|-2.18591475048|-2.25461951707|-2.24963934103|-2.25710646775|-1.92906915406|-2.24931766777|-2.15672643449|-2.25710646775|-1.99929642086|-2.25710646775|-1.81922572431|-2.18591475048|-2.21655500503|-2.25710646775|-2.03302369898|-2.25710646775|-2.14024797707|-2.23050323508|-2.22291870835|-1.96859019935|-2.25710646775|-2.25710646775|-2.25461951707|-2.25710646775|-2.25710646775|-2.25710646775|-2.25710646775|-2.22032325726|-2.18591475048|-2.25710646775|-2.08207082101|-2.25710646775|-2.25710646775|-2.25710646775|-2.08210010432|-2.05690227135|-2.18960077362|-2.25710646775|-2.14135409167|-2.14530171639|-2.25710646775| -1.9773335038|-2.25710646775|-2.25710646775| -2.1343730111|-2.18822847215|-2.23597609388|-2.25710646775|-2.18591475048|-2.04522728607|-2.25214672665|-2.25710646775|-2.03636365145|-2.25710646775|-1.83073545951| -2.1493064767|-2.24968793615|-2.17752827405|-2.25710646775|-2.16204929969|-2.25710646775|-2.25710646775|-2.21379412184|-2.25710646775|-2.12258070489|-2.25710646775|-2.25710646775|-2.25461951707|-2.25710646775|-1.90960954518|-2.21655500503|-2.17960975948|-2.25461951707|-2.25710646775|-2.25710646775|-2.15430197176|-2.25214672665|-2.25710646775|-2.18170126912|-2.25710646775|-2.25710646775|-2.25710646775|-2.19208044541|-2.08057840623|-2.25710646775|-2.15449695373|-2.25710646775|-2.25710646775|-2.24968793615|-2.20183040001|-2.25710646775|-2.07296827057|-2.24724298794|-2.04114149495|-2.25710646775|-2.18591475048|-2.25710646775|-2.07859902603|-2.19884330735|-2.25710646775|-2.16079272125|-2.25710646775|-2.25710646775|-2.25710646775|-2.25710646775| -2.1343730111|-2.18170126912|-2.25710646775|-2.25710646775|-2.25710646775|-2.25710646775|\n",
            "|                 18|-2.16271008551|-2.20463123889|-2.24143719536|-2.23478836418|-2.10440897396|-2.05339847518|-2.24143719536|-2.24143719536| -1.6643550888|-2.18715169317|-2.22399986875|-2.24143719536|-2.02976888607|-2.20964272587|-2.19481877333|-2.16679175188|-2.17582348589|-2.24143719536|-2.24007072263|-2.24143719536|-2.24143719536|-2.18191098006|-2.24143719536|-2.24143719536|-2.24143719536|-2.24136953909|-2.24143719536|-2.20915114863|-2.12121255176|-2.24140879822|-2.24143719536|-2.24143719536|-2.24143719536|-2.12276170364|-2.22544952373|-2.24143719536|-1.75077759845|-2.10796746281|-2.09457608341|-2.23735060841|-2.18949219913|-2.24117778253|-2.03345495666|-2.24143719536|-2.24143719536|-2.24142503892|-2.13876448993|-2.22076561479| -1.9175350459|-2.24143719536|-2.24143719536|-2.24143296025|-2.17864876967|-2.24143719536|-2.06741843188|-2.22796217427|-2.16267717762|-2.19583249633|-2.24143719536|-2.24143719536|-2.07785520369|-2.24143719536|-2.24143719536|-2.24143719536|-2.24143719536|-2.17488355113|-2.24143719536|-2.24143719536|-2.22791581897|-2.24143719536|-2.19912624615|-2.24007072263|-2.23870853591|-2.19675798594|-2.18675570135|-2.24007072263|-2.18761579248|-2.24143719536|  -2.130177807|-2.12748152447|-2.24143719536|-2.24143719536|-2.17222855398|-2.08309890111|  -2.230919018|-2.24143719536|-2.24143719536|-2.11998211171|-2.23464742508|-2.24143719536|-2.04222452506|-2.21337245946|-1.77020593754|-2.14632496891|-2.24007072263|-2.08050137536|-2.24007072263|-2.24143719536|-2.23659375882|-2.24143719536|-2.17544191706|-2.19767288615|-1.98201172744|-2.23878410965|-2.21679790564|-2.24143719536|-2.24143719536|-2.18529757939|-2.17313701841|-2.23599691357|-2.16385330273|-2.24143719536|-2.24143719536| -2.2303500532|-2.14100471113|-2.24143719536|-2.24143719536|-2.24143719536|-2.24143719536|-2.24143719536|-2.18059384111|-2.00108526398|-2.24143719536|-2.24143698471|-2.24143719536|-2.11308498714|-2.11986572655|-1.97192084709|-2.24143719536|-2.20463123889|-2.19223568578|-1.93076352551|-2.24143719536|-2.12401037681|-2.24143719536|-2.23988580521|-2.20172406082|-2.24143719536|-2.11318450889|-2.21351695172| -2.2242717863|-2.07683952664|-2.24143719536|-2.24143719536|-2.22531662464|-2.24143719536|-2.24143719536|-2.24143719536|-2.20463123889|\n",
            "|                 19|-2.19573507768|-2.19573507768|-2.19573507768|-2.19573507768|-2.16854359738|-2.00917836366|-2.19573507768|-2.19573507768|-2.00585039842|-2.19573507768|-2.18825493489|-2.17226221156|-2.16151377752| -2.1475301662|-2.19573507768|-1.99275320585|-2.19573507768|-2.19573507768|-2.19573507768|-2.18825493489|-2.16854359738|-2.19573507768|-2.19573507768|-2.19573507768|-2.19573507768|-2.19573507768|-2.19573507768|-2.19573507768|-2.16223468068|-2.18455049027|-2.19573507768|-2.19322735442|-2.19573507768|-2.14645972598|-2.19167711978|-2.19573507768|-1.92562477329|-2.19573507768|-2.19573507768|-2.19573507768| -2.1748207071|-2.19573507768|-2.12377517751|-2.19573507768|-2.19573507768|-2.19573507768|-2.15745078619|-2.19573507768|-1.96030729753|-2.19573507768|-2.19573507768|-2.19573507768|-2.11109554271|-2.19573507768| -2.1665577845|-2.18825493489|-2.19573507768|-2.13977576801|-2.19573507768|-2.19573507768|-2.19573507768|-2.19573507768|-2.19573507768|-2.19573507768|-2.19573507768|-2.19573507768|-2.19573507768|-2.19573507768|-2.19573507768|-2.19573507768|-2.17226221156|-2.19573507768|-2.19073402828|-2.18512763176| -2.1723381217|-2.19573507768|-2.17220973388|-2.16854359738|-2.19573507768|-2.14645972598|-2.19573507768|-2.19573507768|-2.17226221156|-2.18501786226|-2.19322735442|-2.19573507768|-2.19573507768|-2.16854359738|-2.19573507768|-2.19573507768|-2.08639115042|-2.19573507768|-1.95223106039|-2.19573507768|-2.19573507768|-2.19573507768|-2.19573507768|-2.19573507768|-2.19573507768|-2.17226221156|-2.18825493489|-2.18885811242|-2.12752438794|-2.19573507768|-2.19410616783|-2.19573507768|-2.19573507768|-2.13338034056|-2.19573507768|-2.19322735442|-2.19573507768|-2.19573507768|-2.19573507768|-2.18994576903|-2.19573507768|-2.19573507768|-2.19573507768|-2.19573507768|-2.19573507768|-2.19573507768|-2.13447998307|-2.08947716512|-2.19573507768|-2.19573507768|-2.19573507768|-2.19573507768|-2.19322735442|-2.05320535714|-2.19573507768|-2.19573507768|-2.19573507768|-2.12616743556|-2.19573507768|-2.19573507768|-2.19573507768|-2.16536109911|-2.13921791847|-2.19573507768|-2.18335355598|-2.19322735442|-2.19573507768|-2.19573507768|-2.19573507768|-2.19573507768|-2.19573507768|-2.19573507768|-2.19573507768|-2.19573507768|-2.19573507768|\n",
            "|                 20|-2.17368975056|-2.17368975056|-2.17368975056|-2.17368975056|-2.17368975056|-2.15531827652|-2.17368975056|-2.17368975056|-2.15531827652|-2.17368975056|-2.17368975056|-2.17368975056|-2.15531827652|-2.17368975056|-2.17368975056|-2.17368975056|-2.17368975056|-2.17368975056|-2.17368975056|-2.17368975056|-2.17368975056|-2.17368975056|-2.17368975056|-2.17368975056|-2.17368975056|-2.17368975056|-2.17368975056|-2.17368975056|-2.17368975056|-2.17368975056|-2.17368975056|-2.17368975056|-2.17368975056|-2.17368975056|-2.17368975056|-2.17368975056|-2.17368975056|-2.15531827652|-2.17368975056|-2.17368975056|-2.17368975056|-2.17368975056|-2.17368975056|-2.17368975056|-2.17368975056|-2.17368975056|-2.17368975056|-2.17368975056|-2.17368975056|-2.17368975056|-2.17368975056|-2.17368975056|-2.17368975056|-2.17368975056|-2.17368975056|-2.17368975056|-2.17368975056|-2.17368975056|-2.17368975056|-2.17368975056|-2.17368975056|-2.17368975056|-2.17368975056|-2.17368975056|-2.17368975056|-2.17368975056|-2.17368975056|-2.17368975056|-2.17368975056|-2.17368975056|-2.17368975056|-2.17368975056|-2.17368975056|-2.17368975056|-2.17368975056|-2.17368975056|-2.17368975056|-2.17368975056|-2.17368975056|-2.17368975056|-2.17368975056|-2.17368975056|-2.17368975056|-2.17368975056|-2.17368975056|-2.17368975056|-2.17368975056|-2.17368975056|-2.17368975056|-2.17368975056|-2.17368975056|-2.17368975056|-2.17368975056|-2.17368975056|-2.17368975056|-2.17368975056|-2.17368975056|-2.17368975056|-2.17368975056|-2.17368975056|-2.17368975056|-2.17368975056|-2.17368975056|-2.17368975056|-2.17368975056|-2.17368975056|-2.17368975056|-2.17368975056|-2.17368975056|-2.17368975056|-2.17368975056|-2.17368975056|-2.17368975056|-2.17368975056|-2.17368975056|-2.17368975056|-2.17368975056|-2.17368975056|-2.17368975056|-2.17368975056|-2.17368975056|-2.17368975056|-2.17368975056|-2.17368975056|-2.17368975056|-2.17368975056|-2.17368975056|-2.17368975056|-2.17368975056|-2.17368975056|-2.17368975056|-2.17368975056|-2.17368975056|-2.17368975056|-2.17368975056|-2.17368975056|-2.17368975056|-2.17368975056|-2.17368975056|-2.17368975056|-2.17368975056|-2.17368975056|-2.17368975056|-2.17368975056|-2.17368975056|-2.17368975056|-2.17368975056|-2.17368975056|-2.17368975056|\n",
            "+-------------------+--------------+--------------+--------------+--------------+--------------+--------------+--------------+--------------+--------------+--------------+--------------+--------------+--------------+--------------+--------------+--------------+--------------+--------------+--------------+--------------+--------------+--------------+--------------+--------------+--------------+--------------+--------------+--------------+--------------+--------------+--------------+--------------+--------------+--------------+--------------+--------------+--------------+--------------+--------------+--------------+--------------+--------------+--------------+--------------+--------------+--------------+--------------+--------------+--------------+--------------+--------------+--------------+--------------+--------------+--------------+--------------+--------------+--------------+--------------+--------------+--------------+--------------+--------------+--------------+--------------+--------------+--------------+--------------+--------------+--------------+--------------+--------------+--------------+--------------+--------------+--------------+--------------+--------------+--------------+--------------+--------------+--------------+--------------+--------------+--------------+--------------+--------------+--------------+--------------+--------------+--------------+--------------+--------------+--------------+--------------+--------------+--------------+--------------+--------------+--------------+--------------+--------------+--------------+--------------+--------------+--------------+--------------+--------------+--------------+--------------+--------------+--------------+--------------+--------------+--------------+--------------+--------------+--------------+--------------+--------------+--------------+--------------+--------------+--------------+--------------+--------------+--------------+--------------+--------------+--------------+--------------+--------------+--------------+--------------+--------------+--------------+--------------+--------------+--------------+--------------+--------------+--------------+--------------+--------------+--------------+--------------+--------------+--------------+--------------+\n",
            "only showing top 20 rows\n",
            "\n"
          ],
          "name": "stdout"
        }
      ]
    },
    {
      "metadata": {
        "id": "9Ddl5NxSXwJ4",
        "colab_type": "text"
      },
      "cell_type": "markdown",
      "source": [
        "Ici, on change le type des colonnes de la table destination"
      ]
    },
    {
      "metadata": {
        "id": "GzFlYyN86--4",
        "colab_type": "code",
        "colab": {}
      },
      "cell_type": "code",
      "source": [
        "destinations = destinations.withColumn(\"srch_destination_id\", col(\"srch_destination_id\").cast(\"int\"))\n",
        "for a in destinations.columns[1:]:\n",
        "  destinations = destinations.withColumn(a, col(a).cast(\"double\"))"
      ],
      "execution_count": 0,
      "outputs": []
    },
    {
      "metadata": {
        "id": "k9YBXujfZKkJ",
        "colab_type": "text"
      },
      "cell_type": "markdown",
      "source": [
        "## Transformer les 147 colonnes en 3 colonnes à l'aide de PCA\n"
      ]
    },
    {
      "metadata": {
        "id": "ZuyoIvL9YKGA",
        "colab_type": "text"
      },
      "cell_type": "markdown",
      "source": [
        "Avant de réduire le nombre des colonnes, il est important de vectoriser "
      ]
    },
    {
      "metadata": {
        "id": "EXRSrLPg4HYS",
        "colab_type": "code",
        "colab": {
          "base_uri": "https://localhost:8080/",
          "height": 498
        },
        "outputId": "801d9f7a-d1b5-4254-c120-a72b1424e869"
      },
      "cell_type": "code",
      "source": [
        "from pyspark.ml.feature import VectorAssembler\n",
        "from pyspark.ml.feature import PCA\n",
        "\n",
        "assembler = VectorAssembler(inputCols=destinations.columns[1:],outputCol='features')\n",
        "df=assembler.transform(destinations)\n",
        "df.select([\"srch_destination_id\",\"features\"]).show()"
      ],
      "execution_count": 43,
      "outputs": [
        {
          "output_type": "stream",
          "text": [
            "+-------------------+--------------------+\n",
            "|srch_destination_id|            features|\n",
            "+-------------------+--------------------+\n",
            "|                  0|[-2.19865708695,-...|\n",
            "|                  1|[-2.18169033283,-...|\n",
            "|                  2|[-2.18348974514,-...|\n",
            "|                  3|[-2.17740922654,-...|\n",
            "|                  4|[-2.18956170511,-...|\n",
            "|                  5|[-2.17448889231,-...|\n",
            "|                  6|[-2.17461039826,-...|\n",
            "|                  7|[-2.22193170159,-...|\n",
            "|                  8|[-2.20104721119,-...|\n",
            "|                  9|[-2.17597860854,-...|\n",
            "|                 10|[-2.22860590096,-...|\n",
            "|                 11|[-2.16458487988,-...|\n",
            "|                 13|[-2.17411524092,-...|\n",
            "|                 14|[-2.10730356745,-...|\n",
            "|                 15|[-2.18513746748,-...|\n",
            "|                 16|[-2.18938090975,-...|\n",
            "|                 17|[-2.10966824012,-...|\n",
            "|                 18|[-2.16271008551,-...|\n",
            "|                 19|[-2.19573507768,-...|\n",
            "|                 20|[-2.17368975056,-...|\n",
            "+-------------------+--------------------+\n",
            "only showing top 20 rows\n",
            "\n"
          ],
          "name": "stdout"
        }
      ]
    },
    {
      "metadata": {
        "id": "DtRq8rgk2vY2",
        "colab_type": "code",
        "colab": {}
      },
      "cell_type": "code",
      "source": [
        "pca = PCA(k=3, inputCol=\"features\", outputCol=\"pca_features\")\n",
        "model = pca.fit(df)\n",
        "transformed = model.transform(df)"
      ],
      "execution_count": 0,
      "outputs": []
    },
    {
      "metadata": {
        "id": "1Vs3NoxA-j0I",
        "colab_type": "code",
        "colab": {
          "base_uri": "https://localhost:8080/",
          "height": 498
        },
        "outputId": "e33e5737-a842-4d9e-ca1d-2168a818df57"
      },
      "cell_type": "code",
      "source": [
        "transformed.select([\"srch_destination_id\",\"pca_features\"]).show()"
      ],
      "execution_count": 45,
      "outputs": [
        {
          "output_type": "stream",
          "text": [
            "+-------------------+--------------------+\n",
            "|srch_destination_id|        pca_features|\n",
            "+-------------------+--------------------+\n",
            "|                  0|[8.70325491728257...|\n",
            "|                  1|[8.30676154205389...|\n",
            "|                  2|[8.74855519416057...|\n",
            "|                  3|[8.26705550015047...|\n",
            "|                  4|[8.54026970794172...|\n",
            "|                  5|[8.19186260729748...|\n",
            "|                  6|[8.20686369976797...|\n",
            "|                  7|[9.07314040112431...|\n",
            "|                  8|[8.81194164625191...|\n",
            "|                  9|[8.22182613112840...|\n",
            "|                 10|[9.36477789227971...|\n",
            "|                 11|[8.67409585780992...|\n",
            "|                 13|[8.18496518682973...|\n",
            "|                 14|[8.60752803347898...|\n",
            "|                 15|[8.54632384441689...|\n",
            "|                 16|[8.61242087138770...|\n",
            "|                 17|[9.16794511603699...|\n",
            "|                 18|[9.00816871546812...|\n",
            "|                 19|[8.64270807225192...|\n",
            "|                 20|[8.16615418180893...|\n",
            "+-------------------+--------------------+\n",
            "only showing top 20 rows\n",
            "\n"
          ],
          "name": "stdout"
        }
      ]
    },
    {
      "metadata": {
        "id": "aLvltCXvBE1y",
        "colab_type": "text"
      },
      "cell_type": "markdown",
      "source": [
        "Séparer PCA features en trois colonnes"
      ]
    },
    {
      "metadata": {
        "id": "BBXvVcBvIymy",
        "colab_type": "code",
        "colab": {}
      },
      "cell_type": "code",
      "source": [
        "from pyspark.sql.functions import udf, col\n",
        "from pyspark.sql.types import ArrayType, DoubleType\n",
        "\n",
        "def to_array(col):\n",
        "    def to_array_(v):\n",
        "        return v.toArray().tolist()\n",
        "    return udf(to_array_, ArrayType(DoubleType()))(col)\n",
        "df=transformed.select([\"srch_destination_id\",\"pca_features\"])\n",
        "new_detinations=(df\n",
        "    .withColumn(\"pca_features\", to_array(col(\"pca_features\")))\n",
        "    .select([\"srch_destination_id\"] + [col(\"pca_features\")[i] for i in range(3)]))"
      ],
      "execution_count": 0,
      "outputs": []
    },
    {
      "metadata": {
        "id": "Q1TjLJo_LvMU",
        "colab_type": "code",
        "colab": {
          "base_uri": "https://localhost:8080/",
          "height": 498
        },
        "outputId": "2e521e26-817e-4195-8d46-83952cfe1b8a"
      },
      "cell_type": "code",
      "source": [
        "new_detinations.show()"
      ],
      "execution_count": 47,
      "outputs": [
        {
          "output_type": "stream",
          "text": [
            "+-------------------+-----------------+------------------+-------------------+\n",
            "|srch_destination_id|  pca_features[0]|   pca_features[1]|    pca_features[2]|\n",
            "+-------------------+-----------------+------------------+-------------------+\n",
            "|                  0|8.703254917282573| 2.671318791775741| -0.851383727707983|\n",
            "|                  1|8.306761542053893|2.5793042513193782|-0.9754783117298351|\n",
            "|                  2|8.748555194160575| 2.522576327822376|-0.8717974933688295|\n",
            "|                  3|8.267055500150473| 2.461554461742733|-0.9032256995694881|\n",
            "|                  4|8.540269707941723|2.4592054947830504|-0.8956499106622051|\n",
            "|                  5|8.191862607297487|2.4696798312021033|-0.9129925799712985|\n",
            "|                  6|8.206863699767975|  2.46621063827621|-0.9157161483026653|\n",
            "|                  7|9.073140401124318| 2.310702091032391|-0.6111127093755735|\n",
            "|                  8|8.811941646251917| 2.392339976482765|-0.7356222522476542|\n",
            "|                  9|8.221826131128408| 2.472665814196431|-0.9096424985367426|\n",
            "|                 10|9.364777892279719| 2.242652593495367|-0.8055161208674643|\n",
            "|                 11|8.674095857809926|2.3457490422017653| -0.982590789836465|\n",
            "|                 13|8.184965186829736| 2.474833262574732|-0.9131294174334709|\n",
            "|                 14|8.607528033478983| 2.509180906684055| -0.810530582821352|\n",
            "|                 15| 8.54632384441689| 2.431632993858704| -0.814303032501817|\n",
            "|                 16|8.612420871387702|2.4277853767322437|-0.7551141450726584|\n",
            "|                 17|9.167945116036995| 2.419422722697435|-1.1220948273998752|\n",
            "|                 18| 9.00816871546812|3.0188513028106865|-1.0056967957195564|\n",
            "|                 19| 8.64270807225192|2.6074001500040747|-0.8629421267564429|\n",
            "|                 20|8.166154181808936| 2.493885454175172|-0.9278478744561203|\n",
            "+-------------------+-----------------+------------------+-------------------+\n",
            "only showing top 20 rows\n",
            "\n"
          ],
          "name": "stdout"
        }
      ]
    },
    {
      "metadata": {
        "id": "RdqjevMPHDh-",
        "colab_type": "text"
      },
      "cell_type": "markdown",
      "source": [
        "Générer de nouvelle features se basant sur date_time, srch_ci, and srch_co."
      ]
    },
    {
      "metadata": {
        "id": "hkbkICxS_Ule",
        "colab_type": "code",
        "colab": {
          "base_uri": "https://localhost:8080/",
          "height": 498
        },
        "outputId": "9900a9c1-6912-4b4d-f60e-6efa5dd76f2b"
      },
      "cell_type": "code",
      "source": [
        "from datetime import datetime\n",
        "from pyspark.sql.functions import col, udf\n",
        "from pyspark.sql.types import DateType\n",
        "# Setting an user define function:\n",
        "# This function converts the string cell into a date:\n",
        "func1 =  udf (lambda x: datetime.strptime(x, \"%Y-%m-%d %H:%M:%S\").timestamp(), DoubleType())\n",
        "func2 =  udf (lambda x: datetime.strptime(x, \"%Y-%m-%d\").timestamp(), DoubleType())\n",
        "new_train_nonan= train_nonan.withColumn('date', func1(col('date_time')))\n",
        "new_train_nonan= new_train_nonan.withColumn('srch_co_new', func2(col(\"srch_co\")))\n",
        "new_train_nonan= new_train_nonan.withColumn('srch_ci_new', func2(col(\"srch_ci\")))\n",
        "new_train_nonan.select([\"date\",'srch_ci_new','srch_co_new']).show()\n"
      ],
      "execution_count": 48,
      "outputs": [
        {
          "output_type": "stream",
          "text": [
            "+-------------+-----------+-----------+\n",
            "|         date|srch_ci_new|srch_co_new|\n",
            "+-------------+-----------+-----------+\n",
            "|1.407743219E9|1.4090976E9|1.4094432E9|\n",
            "|1.407745332E9|1.4092704E9| 1.409616E9|\n",
            "|1.407745473E9|1.4092704E9| 1.409616E9|\n",
            "|1.407607516E9|1.4167008E9|1.4171328E9|\n",
            "|1.407607698E9|1.4167008E9|1.4171328E9|\n",
            "|1.407607992E9|1.4167008E9|1.4171328E9|\n",
            "|1.389939896E9|1.3976928E9| 1.397952E9|\n",
            "|1.390286348E9|1.3976928E9| 1.397952E9|\n",
            "|1.390286418E9|1.3977792E9| 1.397952E9|\n",
            "|1.390371002E9|1.3977792E9| 1.397952E9|\n",
            "|1.390564324E9|1.3976928E9|1.3978656E9|\n",
            "|1.413980456E9|1.4141952E9|1.4142816E9|\n",
            "|1.415623082E9|1.4218848E9|1.4220576E9|\n",
            "|1.360934323E9| 1.361664E9| 1.362096E9|\n",
            "| 1.36101587E9| 1.361664E9| 1.362096E9|\n",
            "|1.361016225E9| 1.361664E9| 1.362096E9|\n",
            "|1.361017437E9| 1.362096E9| 1.362528E9|\n",
            "|1.388765955E9|1.3929408E9|1.3933728E9|\n",
            "|1.388766617E9|1.3930272E9|1.3934592E9|\n",
            "|1.388766866E9|1.3929408E9|1.3933728E9|\n",
            "+-------------+-----------+-----------+\n",
            "only showing top 20 rows\n",
            "\n"
          ],
          "name": "stdout"
        }
      ]
    },
    {
      "metadata": {
        "id": "sIPUFpokHVNc",
        "colab_type": "text"
      },
      "cell_type": "markdown",
      "source": [
        "Supprimer les colonnes non numériques comme date_time"
      ]
    },
    {
      "metadata": {
        "id": "L9V9toQLJJm2",
        "colab_type": "code",
        "colab": {}
      },
      "cell_type": "code",
      "source": [
        "new_train_nonan=new_train_nonan.drop('date_time')\n",
        "new_train_nonan=new_train_nonan.drop(\"srch_ci\")\n",
        "new_train_nonan=new_train_nonan.drop(\"srch_co\")"
      ],
      "execution_count": 0,
      "outputs": []
    },
    {
      "metadata": {
        "id": "at_wMwf7Jvq8",
        "colab_type": "text"
      },
      "cell_type": "markdown",
      "source": [
        "Jointure table train et destination"
      ]
    },
    {
      "metadata": {
        "id": "ihhmIsrDJuBu",
        "colab_type": "code",
        "colab": {}
      },
      "cell_type": "code",
      "source": [
        "train_join = new_train_nonan.join(new_detinations, new_train_nonan.srch_destination_id == new_detinations.srch_destination_id)"
      ],
      "execution_count": 0,
      "outputs": []
    },
    {
      "metadata": {
        "id": "VAx8d5O7Kuhm",
        "colab_type": "code",
        "colab": {
          "base_uri": "https://localhost:8080/",
          "height": 535
        },
        "outputId": "a6219dcc-a545-4fd4-d148-d909f501d632"
      },
      "cell_type": "code",
      "source": [
        "train_join.columns"
      ],
      "execution_count": 51,
      "outputs": [
        {
          "output_type": "execute_result",
          "data": {
            "text/plain": [
              "['site_name',\n",
              " 'posa_continent',\n",
              " 'user_location_country',\n",
              " 'user_location_region',\n",
              " 'user_location_city',\n",
              " 'orig_destination_distance',\n",
              " 'user_id',\n",
              " 'is_mobile',\n",
              " 'is_package',\n",
              " 'channel',\n",
              " 'srch_adults_cnt',\n",
              " 'srch_children_cnt',\n",
              " 'srch_rm_cnt',\n",
              " 'srch_destination_id',\n",
              " 'srch_destination_type_id',\n",
              " 'is_booking',\n",
              " 'cnt',\n",
              " 'hotel_continent',\n",
              " 'hotel_country',\n",
              " 'hotel_market',\n",
              " 'hotel_cluster',\n",
              " 'date',\n",
              " 'srch_co_new',\n",
              " 'srch_ci_new',\n",
              " 'srch_destination_id',\n",
              " 'pca_features[0]',\n",
              " 'pca_features[1]',\n",
              " 'pca_features[2]']"
            ]
          },
          "metadata": {
            "tags": []
          },
          "execution_count": 51
        }
      ]
    },
    {
      "metadata": {
        "id": "rd7DYLLrNl1S",
        "colab_type": "text"
      },
      "cell_type": "markdown",
      "source": [
        "Supprimer les id des destinations"
      ]
    },
    {
      "metadata": {
        "id": "svvCq0oQNqld",
        "colab_type": "code",
        "colab": {}
      },
      "cell_type": "code",
      "source": [
        "train_join=train_join.drop(\"srch_destination_id\")"
      ],
      "execution_count": 0,
      "outputs": []
    },
    {
      "metadata": {
        "id": "fMzu9Bq1OG7R",
        "colab_type": "code",
        "colab": {
          "base_uri": "https://localhost:8080/",
          "height": 55
        },
        "outputId": "1deddcee-ed0c-4db2-d55f-044eb6845997"
      },
      "cell_type": "code",
      "source": [
        "train_join.schema"
      ],
      "execution_count": 53,
      "outputs": [
        {
          "output_type": "execute_result",
          "data": {
            "text/plain": [
              "StructType(List(StructField(site_name,IntegerType,true),StructField(posa_continent,IntegerType,true),StructField(user_location_country,IntegerType,true),StructField(user_location_region,IntegerType,true),StructField(user_location_city,IntegerType,true),StructField(orig_destination_distance,DoubleType,true),StructField(user_id,IntegerType,true),StructField(is_mobile,ByteType,true),StructField(is_package,IntegerType,true),StructField(channel,IntegerType,true),StructField(srch_adults_cnt,IntegerType,true),StructField(srch_children_cnt,IntegerType,true),StructField(srch_rm_cnt,IntegerType,true),StructField(srch_destination_type_id,IntegerType,true),StructField(is_booking,ByteType,true),StructField(cnt,LongType,true),StructField(hotel_continent,IntegerType,true),StructField(hotel_country,IntegerType,true),StructField(hotel_market,IntegerType,true),StructField(hotel_cluster,IntegerType,true),StructField(date,DoubleType,true),StructField(srch_co_new,DoubleType,true),StructField(srch_ci_new,DoubleType,true),StructField(pca_features[0],DoubleType,true),StructField(pca_features[1],DoubleType,true),StructField(pca_features[2],DoubleType,true)))"
            ]
          },
          "metadata": {
            "tags": []
          },
          "execution_count": 53
        }
      ]
    },
    {
      "metadata": {
        "id": "47r6i8Pjihx7",
        "colab_type": "text"
      },
      "cell_type": "markdown",
      "source": [
        "## Preparing data for machine learning\n",
        "\n",
        "Ici, on prépare les données pour l'étape de l'apprentissage. Ceci en transformant toutes les colonnes en une colonne de vecteurs.  \n"
      ]
    },
    {
      "metadata": {
        "id": "b0iMICFlMGZU",
        "colab_type": "text"
      },
      "cell_type": "markdown",
      "source": [
        "https://runawayhorse001.github.io/LearningApacheSpark/classification.html"
      ]
    },
    {
      "metadata": {
        "id": "PZT0liRsKgoB",
        "colab_type": "code",
        "colab": {}
      },
      "cell_type": "code",
      "source": [
        "def get_dummy(df,categoricalCols,continuousCols,labelCol):\n",
        "\n",
        "    from pyspark.ml import Pipeline\n",
        "    from pyspark.ml.feature import StringIndexer, OneHotEncoder, VectorAssembler\n",
        "    from pyspark.sql.functions import col\n",
        "\n",
        "    indexers = [ StringIndexer(inputCol=c, outputCol=\"{0}_indexed\".format(c))\n",
        "                 for c in categoricalCols ]\n",
        "\n",
        "    # default setting: dropLast=True\n",
        "    encoders = [ OneHotEncoder(inputCol=indexer.getOutputCol(),\n",
        "                 outputCol=\"{0}_encoded\".format(indexer.getOutputCol()))\n",
        "                 for indexer in indexers ]\n",
        "\n",
        "    assembler = VectorAssembler(inputCols=[encoder.getOutputCol() for encoder in encoders]\n",
        "                                + continuousCols, outputCol=\"features\")\n",
        "\n",
        "    pipeline = Pipeline(stages=indexers + encoders + [assembler])\n",
        "\n",
        "    model=pipeline.fit(df)\n",
        "    data = model.transform(df)\n",
        "\n",
        "    data = data.withColumn('label',col(labelCol))\n",
        "\n",
        "    return data.select('features','label')"
      ],
      "execution_count": 0,
      "outputs": []
    },
    {
      "metadata": {
        "id": "AUBXYL2YKikQ",
        "colab_type": "code",
        "colab": {
          "base_uri": "https://localhost:8080/",
          "height": 220
        },
        "outputId": "66e8ef68-613f-4da0-e4b3-321af375c264"
      },
      "cell_type": "code",
      "source": [
        "catcols = []\n",
        "\n",
        "num_cols = [train_join.columns[i] for i in range(len(train_join.columns)) if train_join.columns[i]!=\"hotel_cluster\"]\n",
        "\n",
        "labelCol = \"hotel_cluster\"\n",
        "\n",
        "data = get_dummy(train_join,catcols,num_cols,labelCol)\n",
        "data.show(5)"
      ],
      "execution_count": 58,
      "outputs": [
        {
          "output_type": "stream",
          "text": [
            "+--------------------+-----+\n",
            "|            features|label|\n",
            "+--------------------+-----+\n",
            "|[2.0,3.0,66.0,348...|    1|\n",
            "|[2.0,3.0,66.0,348...|    1|\n",
            "|[2.0,3.0,66.0,348...|    1|\n",
            "|[2.0,3.0,66.0,442...|   80|\n",
            "|[2.0,3.0,66.0,442...|   21|\n",
            "+--------------------+-----+\n",
            "only showing top 5 rows\n",
            "\n"
          ],
          "name": "stdout"
        }
      ]
    },
    {
      "metadata": {
        "id": "eGZptFRMipTx",
        "colab_type": "text"
      },
      "cell_type": "markdown",
      "source": [
        "## Réduction de la taille des données et apprentissage\n"
      ]
    },
    {
      "metadata": {
        "id": "CXDUxsZfjXQk",
        "colab_type": "text"
      },
      "cell_type": "markdown",
      "source": [
        "Nous avons essayé dans un premier temps de faire l'apprentissage sur toutes les données. Or, l'étape d'apprentissage avait pris plus que 1h30 mins, et avons décidé de réduire la taille des données pour avoir une simple démonstration de l'apprentissage avec Spark."
      ]
    },
    {
      "metadata": {
        "id": "yrmpP6SMinoM",
        "colab_type": "code",
        "colab": {}
      },
      "cell_type": "code",
      "source": [
        "data_r=spark.createDataFrame(data.take(3000))"
      ],
      "execution_count": 0,
      "outputs": []
    },
    {
      "metadata": {
        "id": "bGhrnl-nLLk6",
        "colab_type": "code",
        "colab": {
          "base_uri": "https://localhost:8080/",
          "height": 220
        },
        "outputId": "4ebcba12-16c7-4831-dab9-8a82cb7c5f1d"
      },
      "cell_type": "code",
      "source": [
        "from pyspark.ml.feature import StringIndexer\n",
        "# Index labels, adding metadata to the label column\n",
        "labelIndexer = StringIndexer(inputCol='label',\n",
        "                             outputCol='indexedLabel').fit(data_r)\n",
        "labelIndexer.transform(data_r).show(5, True)"
      ],
      "execution_count": 61,
      "outputs": [
        {
          "output_type": "stream",
          "text": [
            "+--------------------+-----+------------+\n",
            "|            features|label|indexedLabel|\n",
            "+--------------------+-----+------------+\n",
            "|[2.0,3.0,66.0,348...|    1|        78.0|\n",
            "|[2.0,3.0,66.0,348...|    1|        78.0|\n",
            "|[2.0,3.0,66.0,348...|    1|        78.0|\n",
            "|[2.0,3.0,66.0,442...|   80|        27.0|\n",
            "|[2.0,3.0,66.0,442...|   21|         6.0|\n",
            "+--------------------+-----+------------+\n",
            "only showing top 5 rows\n",
            "\n"
          ],
          "name": "stdout"
        }
      ]
    },
    {
      "metadata": {
        "id": "X2Y_6amfLRgx",
        "colab_type": "code",
        "colab": {
          "base_uri": "https://localhost:8080/",
          "height": 220
        },
        "outputId": "21ce1b43-0fd7-40b5-d004-06ba48ab7e8f"
      },
      "cell_type": "code",
      "source": [
        "from pyspark.ml.feature import VectorIndexer\n",
        "# Automatically identify categorical features, and index them.\n",
        "# Set maxCategories so features with > 4 distinct values are treated as continuous.\n",
        "featureIndexer =VectorIndexer(inputCol=\"features\", \\\n",
        "                                  outputCol=\"indexedFeatures\", \\\n",
        "                                  maxCategories=4).fit(data_r)\n",
        "featureIndexer.transform(data_r).show(5, True)"
      ],
      "execution_count": 63,
      "outputs": [
        {
          "output_type": "stream",
          "text": [
            "+--------------------+-----+--------------------+\n",
            "|            features|label|     indexedFeatures|\n",
            "+--------------------+-----+--------------------+\n",
            "|[2.0,3.0,66.0,348...|    1|[2.0,2.0,66.0,348...|\n",
            "|[2.0,3.0,66.0,348...|    1|[2.0,2.0,66.0,348...|\n",
            "|[2.0,3.0,66.0,348...|    1|[2.0,2.0,66.0,348...|\n",
            "|[2.0,3.0,66.0,442...|   80|[2.0,2.0,66.0,442...|\n",
            "|[2.0,3.0,66.0,442...|   21|[2.0,2.0,66.0,442...|\n",
            "+--------------------+-----+--------------------+\n",
            "only showing top 5 rows\n",
            "\n"
          ],
          "name": "stdout"
        }
      ]
    },
    {
      "metadata": {
        "id": "Q9KM55OtLbpq",
        "colab_type": "code",
        "colab": {}
      },
      "cell_type": "code",
      "source": [
        "(trainingData, testData) = data_r.randomSplit([0.7, 0.3])"
      ],
      "execution_count": 0,
      "outputs": []
    },
    {
      "metadata": {
        "id": "8M7ay2N4LgE4",
        "colab_type": "code",
        "colab": {}
      },
      "cell_type": "code",
      "source": [
        "from pyspark.ml.classification import LogisticRegression\n",
        "logr = LogisticRegression(featuresCol='indexedFeatures', labelCol='indexedLabel')"
      ],
      "execution_count": 0,
      "outputs": []
    },
    {
      "metadata": {
        "id": "otBSm3E6LkZw",
        "colab_type": "code",
        "colab": {}
      },
      "cell_type": "code",
      "source": [
        "from pyspark.ml.feature import IndexToString, StringIndexer\n",
        "# Convert indexed labels back to original labels.\n",
        "labelConverter = IndexToString(inputCol=\"prediction\", outputCol=\"predictedLabel\",\n",
        "                               labels=labelIndexer.labels)"
      ],
      "execution_count": 0,
      "outputs": []
    },
    {
      "metadata": {
        "id": "hbLYHcUULo6d",
        "colab_type": "code",
        "colab": {}
      },
      "cell_type": "code",
      "source": [
        "# Chain indexers and tree in a Pipeline\n",
        "pipeline = Pipeline(stages=[labelIndexer, featureIndexer, logr,labelConverter])"
      ],
      "execution_count": 0,
      "outputs": []
    },
    {
      "metadata": {
        "id": "F21rTrOLprf_",
        "colab_type": "code",
        "colab": {
          "base_uri": "https://localhost:8080/",
          "height": 35
        },
        "outputId": "ba02ce7c-e1eb-4f95-f3f0-e0aec7ebab6c"
      },
      "cell_type": "code",
      "source": [
        "trainingData.count()"
      ],
      "execution_count": 71,
      "outputs": [
        {
          "output_type": "execute_result",
          "data": {
            "text/plain": [
              "2108"
            ]
          },
          "metadata": {
            "tags": []
          },
          "execution_count": 71
        }
      ]
    },
    {
      "metadata": {
        "id": "N4yVzzP6LtL0",
        "colab_type": "code",
        "colab": {}
      },
      "cell_type": "code",
      "source": [
        "# Train model.  This also runs the indexers.\n",
        "model = pipeline.fit(trainingData)"
      ],
      "execution_count": 0,
      "outputs": []
    },
    {
      "metadata": {
        "id": "fRkkxeWSLxwl",
        "colab_type": "code",
        "colab": {
          "base_uri": "https://localhost:8080/",
          "height": 220
        },
        "outputId": "0683126e-2a1c-4a33-ec66-47b0b7e9250f"
      },
      "cell_type": "code",
      "source": [
        "# Make predictions.\n",
        "predictions = model.transform(testData)\n",
        "# Select example rows to display.\n",
        "predictions.select(\"features\",\"label\",\"predictedLabel\").show(5)"
      ],
      "execution_count": 73,
      "outputs": [
        {
          "output_type": "stream",
          "text": [
            "+--------------------+-----+--------------+\n",
            "|            features|label|predictedLabel|\n",
            "+--------------------+-----+--------------+\n",
            "|[2.0,3.0,66.0,143...|   44|            91|\n",
            "|[2.0,3.0,66.0,143...|   98|            91|\n",
            "|[2.0,3.0,66.0,143...|   97|            95|\n",
            "|[2.0,3.0,66.0,143...|   99|            34|\n",
            "|[2.0,3.0,66.0,143...|   30|            20|\n",
            "+--------------------+-----+--------------+\n",
            "only showing top 5 rows\n",
            "\n"
          ],
          "name": "stdout"
        }
      ]
    },
    {
      "metadata": {
        "id": "e6V4B8uGL3uY",
        "colab_type": "code",
        "colab": {
          "base_uri": "https://localhost:8080/",
          "height": 35
        },
        "outputId": "21283360-7fc7-48de-e898-461a7ff6a11a"
      },
      "cell_type": "code",
      "source": [
        "from pyspark.ml.evaluation import MulticlassClassificationEvaluator\n",
        "\n",
        "# Select (prediction, true label) and compute test error\n",
        "evaluator = MulticlassClassificationEvaluator(\n",
        "    labelCol=\"indexedLabel\", predictionCol=\"prediction\", metricName=\"accuracy\")\n",
        "accuracy = evaluator.evaluate(predictions)\n",
        "print(\"Test Error = %g\" % (1.0 - accuracy))"
      ],
      "execution_count": 74,
      "outputs": [
        {
          "output_type": "stream",
          "text": [
            "Test Error = 0.848655\n"
          ],
          "name": "stdout"
        }
      ]
    }
  ]
}