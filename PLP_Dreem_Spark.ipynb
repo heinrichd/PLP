{
  "nbformat": 4,
  "nbformat_minor": 0,
  "metadata": {
    "colab": {
      "name": "PLP Dreem Spark",
      "version": "0.3.2",
      "provenance": [],
      "collapsed_sections": []
    },
    "kernelspec": {
      "name": "python3",
      "display_name": "Python 3"
    }
  },
  "cells": [
    {
      "metadata": {
        "id": "5PusRD5VBhrg",
        "colab_type": "text"
      },
      "cell_type": "markdown",
      "source": [
        "# Initialisation et importation des données\n"
      ]
    },
    {
      "metadata": {
        "id": "1DezM3cdB7kT",
        "colab_type": "text"
      },
      "cell_type": "markdown",
      "source": [
        "On commence par initialiser les environnements d'exécution et importer les modules nécessaires de Pyspark.\n",
        "\n",
        "> Bloc en retrait\n",
        "\n"
      ]
    },
    {
      "metadata": {
        "id": "XLW-LzbmDE3n",
        "colab_type": "code",
        "outputId": "c605739f-ea97-4946-f828-ef26c60be222",
        "colab": {
          "base_uri": "https://localhost:8080/",
          "height": 173
        }
      },
      "cell_type": "code",
      "source": [
        "import tensorflow as tf\n",
        "\n",
        "\n",
        "from google.colab import drive\n",
        "drive.mount(\"/content/drive\", force_remount=True)\n",
        "\n",
        "!apt-get install openjdk-8-jdk-headless -qq > /dev/null\n",
        "!wget -q http://www-us.apache.org/dist/spark/spark-2.3.2/spark-2.3.2-bin-hadoop2.7.tgz\n",
        "!tar xf spark-2.3.2-bin-hadoop2.7.tgz\n",
        "!pip install -q findspark\n",
        "!pip install h5py\n",
        "import os\n",
        "os.environ[\"JAVA_HOME\"] = \"/usr/lib/jvm/java-8-openjdk-amd64\"\n",
        "os.environ[\"SPARK_HOME\"] = \"/content/spark-2.3.2-bin-hadoop2.7\"\n",
        "import findspark\n",
        "findspark.init()\n",
        "from pyspark.sql import SparkSession\n",
        "import pyspark\n",
        "##Liste\n",
        "from numpy import array\n",
        "##Temps\n",
        "import time\n",
        "##Row and Vector\n",
        "from pyspark.sql import Row\n",
        "from pyspark.ml.linalg import Vectors\n",
        "##Hachage et vectorisation\n",
        "from pyspark.ml.feature import HashingTF\n",
        "from pyspark.ml.feature import IDF\n",
        "##Regression logistique\n",
        "from pyspark.ml.classification import LogisticRegression\n",
        "##Decision Tree\n",
        "from pyspark.ml.classification import DecisionTreeClassifier\n",
        "##Random Forest\n",
        "from pyspark.ml.classification import RandomForestClassifier \n",
        "##Pour la création des DataFrames\n",
        "from pyspark.sql import SQLContext\n",
        "from pyspark.sql.types import *"
      ],
      "execution_count": 0,
      "outputs": [
        {
          "output_type": "stream",
          "text": [
            "Go to this URL in a browser: https://accounts.google.com/o/oauth2/auth?client_id=947318989803-6bn6qk8qdgf4n4g3pfee6491hc0brc4i.apps.googleusercontent.com&redirect_uri=urn%3Aietf%3Awg%3Aoauth%3A2.0%3Aoob&scope=email%20https%3A%2F%2Fwww.googleapis.com%2Fauth%2Fdocs.test%20https%3A%2F%2Fwww.googleapis.com%2Fauth%2Fdrive%20https%3A%2F%2Fwww.googleapis.com%2Fauth%2Fdrive.photos.readonly%20https%3A%2F%2Fwww.googleapis.com%2Fauth%2Fpeopleapi.readonly&response_type=code\n",
            "\n",
            "Enter your authorization code:\n",
            "··········\n",
            "Mounted at /content/drive\n",
            "Requirement already satisfied: h5py in /usr/local/lib/python3.6/dist-packages (2.8.0)\n",
            "Requirement already satisfied: numpy>=1.7 in /usr/local/lib/python3.6/dist-packages (from h5py) (1.14.6)\n",
            "Requirement already satisfied: six in /usr/local/lib/python3.6/dist-packages (from h5py) (1.11.0)\n"
          ],
          "name": "stdout"
        }
      ]
    },
    {
      "metadata": {
        "id": "C92qKmhdCc8J",
        "colab_type": "text"
      },
      "cell_type": "markdown",
      "source": [
        "On définit à présent notre environnement Spark. Nous avons essayé de modifier le nombre d'exécuteurs et la mémoire alloué, mais il semble que ces tentatives aient échoué.\n",
        "On importe également notre fichier train et on vérifie que les données sont bien lisibles."
      ]
    },
    {
      "metadata": {
        "id": "11ukl1FwDrAJ",
        "colab_type": "code",
        "outputId": "9f02704a-690f-4632-8f6c-500e9c11b94c",
        "colab": {
          "base_uri": "https://localhost:8080/",
          "height": 357
        }
      },
      "cell_type": "code",
      "source": [
        "from pyspark.sql import SparkSession\n",
        "from pyspark import SparkContext\n",
        "\n",
        "\n",
        "import h5py \n",
        "\n",
        "\n",
        "conf1 = pyspark.SparkConf().setAll([('spark.executor.cores', '3'), ('spark.cores.max', '6'),('spark.driver.memory','1g')])\n",
        "spark = SparkSession.builder.config(conf=conf1).config('yarn-client','pyspark').getOrCreate()\n",
        "\n",
        "path='drive/My Drive/PLP project/Dreem/train.h5'\n",
        "\n",
        "\n",
        "def readchunk(v):\n",
        "    empty = h5py.File(path)\n",
        "    return empty['eeg_2'][v,:]\n",
        "\n",
        "sc=spark.sparkContext\n",
        "foo = sc.parallelize(range(0,38000)).map(lambda v: (v,readchunk(v)))\n",
        "foo.take(10)"
      ],
      "execution_count": 0,
      "outputs": [
        {
          "output_type": "execute_result",
          "data": {
            "text/plain": [
              "[(0, array([12.81139748, 10.23868508,  9.25786068, ...,  2.35681373,\n",
              "          4.81336897,  7.11477912])),\n",
              " (1, array([-20.99636609, -18.84257191, -19.55878205, ...,  26.2932541 ,\n",
              "          32.63625664,  10.05042665])),\n",
              " (2, array([11.57101396,  9.46511331, 12.60972313, ...,  3.73292468,\n",
              "          0.01623215, 11.22593731])),\n",
              " (3, array([-20.99755238, -19.37701693, -17.63103769, ...,   0.65508617,\n",
              "          -0.2470895 ,  -1.94179311])),\n",
              " (4, array([14.19204831,  6.74260088,  8.38859394, ..., -0.12136205,\n",
              "          0.89630593, -1.85563248])),\n",
              " (5, array([ 64.30887226,  39.26232181,  25.416105  , ..., -13.30692909,\n",
              "           2.52159587,  11.34789506])),\n",
              " (6, array([ 9.28125009,  9.00848932, 11.51309241, ..., -1.16279021,\n",
              "          4.69858697, -1.42872467])),\n",
              " (7, array([-9.35299895, -3.08224844,  5.30605955, ..., 10.53458358,\n",
              "          2.09383253, -3.39830825])),\n",
              " (8, array([-11.17110442,  -6.05354225,  -4.43402715, ...,   2.2582559 ,\n",
              "           3.50654023,   4.1204217 ])),\n",
              " (9, array([14.30372328,  0.51734565,  1.70703303, ..., -7.96974747,\n",
              "         -9.91709833, -7.0772713 ]))]"
            ]
          },
          "metadata": {
            "tags": []
          },
          "execution_count": 6
        }
      ]
    },
    {
      "metadata": {
        "id": "elKLCI35f8A_",
        "colab_type": "text"
      },
      "cell_type": "markdown",
      "source": [
        "# Filtrage et Calcul des features\n"
      ]
    },
    {
      "metadata": {
        "id": "ZFOPt-msE924",
        "colab_type": "text"
      },
      "cell_type": "markdown",
      "source": [
        "On commence par créer une fonction qui va permettre de filtrer chacun des signaux selon des bandes de fréquences pertinentes selon les études scientifiques déjà menées sur les ondes EEG de notre cerveau."
      ]
    },
    {
      "metadata": {
        "id": "b5yK8QlsE9sR",
        "colab_type": "text"
      },
      "cell_type": "markdown",
      "source": [
        ""
      ]
    },
    {
      "metadata": {
        "id": "-3ISWzYCffGh",
        "colab_type": "code",
        "colab": {}
      },
      "cell_type": "code",
      "source": [
        "\n",
        "#b, a = butter_bandpass(lowcut, highcut, fs, order=order)\n",
        "from scipy.signal import butter, lfilter\n",
        "sqlContext=SQLContext(spark)\n",
        "\n",
        "def butter_bandpass(lowcut, highcut, fs, order=5):\n",
        "    nyq = 0.5 * fs\n",
        "    low = lowcut / nyq\n",
        "    high = highcut / nyq\n",
        "    b, a = butter(order, [low, high], btype='band')\n",
        "    return b, a\n",
        "  \n",
        "BDelta=butter_bandpass(0.01,4,50,order=3)\n",
        "BTheta=butter_bandpass(4,6.5,50,order=3)\n",
        "BAlpha=butter_bandpass(6.5,11,50,order=3)\n",
        "BBeta=butter_bandpass(11,20,50,order=3)\n",
        "BGamma=butter_bandpass(20,24,50,order=3)\n",
        "\n",
        "test=foo.filter(lambda x : x[0]==12).map(lambda x : x[1])"
      ],
      "execution_count": 0,
      "outputs": []
    },
    {
      "metadata": {
        "id": "uVL7PXNuiXQZ",
        "colab_type": "text"
      },
      "cell_type": "markdown",
      "source": [
        "**Calcul des features**\n",
        "\n",
        "Afin de limiter les temps de calcul, on va ici s'intéresser à 3 features simples pour chacun des signaux filtrés. Pour les données issues des accéléromètres, on calculera la moyenne et l'écart-type."
      ]
    },
    {
      "metadata": {
        "id": "3bCugmo8jEDT",
        "colab_type": "code",
        "colab": {}
      },
      "cell_type": "code",
      "source": [
        "def Entropy(x):\n",
        "  return(np.sum(x*x*np.log(abs(x))).astype(type('float', (float,), {})))\n",
        "def Energy(x):\n",
        "  return(np.sum(np.sqrt(x*x)).astype(type('float', (float,), {})))\n",
        "def Ecart_type(x):\n",
        "  return(np.mean((x-np.mean(x)*(x-np.mean(x)))).astype(type('float', (float,), {})))\n"
      ],
      "execution_count": 0,
      "outputs": []
    },
    {
      "metadata": {
        "id": "lUcqz92vGOQJ",
        "colab_type": "text"
      },
      "cell_type": "markdown",
      "source": [
        "Ici on crée nos RDD à partir des données extraites."
      ]
    },
    {
      "metadata": {
        "id": "QjYdBNemH-Lo",
        "colab_type": "code",
        "colab": {}
      },
      "cell_type": "code",
      "source": [
        "import numpy as np\n",
        "path='drive/My Drive/PLP project/Dreem/train.h5'\n",
        "def readchunk1(v):\n",
        "    empty = h5py.File(path)\n",
        "    return empty['eeg_1'][v,:]\n",
        "def readchunk2(v):\n",
        "    empty = h5py.File(path)\n",
        "    return empty['eeg_2'][v,:]\n",
        "\n",
        "def readchunkx(v):\n",
        "    empty = h5py.File(path)\n",
        "    return empty['accelerometer_x'][v,:]\n",
        "\n",
        "def readchunky(v):\n",
        "    empty = h5py.File(path)\n",
        "    return empty['accelerometer_y'][v,:]\n",
        "\n",
        "def readchunkz(v):\n",
        "    empty = h5py.File(path)\n",
        "    return empty['accelerometer_z'][v,:]\n",
        "  \n",
        "EEG1 = sc.parallelize(range(0,100)).map(lambda v: (v,readchunk1(v)))\n",
        "ACCX=sc.parallelize(range(0,100)).map(lambda v: (v,readchunkx(v)))\n",
        "ACCY=sc.parallelize(range(0,100)).map(lambda v: (v,readchunky(v)))\n",
        "ACCZ=sc.parallelize(range(0,100)).map(lambda v: (v,readchunkz(v)))\n",
        "\n",
        "\n"
      ],
      "execution_count": 0,
      "outputs": []
    },
    {
      "metadata": {
        "id": "wI7D3MaBGfVC",
        "colab_type": "text"
      },
      "cell_type": "markdown",
      "source": [
        "Sur chacun des RDD, on va pouvoir appliquer nos filtres et nos fonctions, nous permettant ainsi d'obtenir des features pertinents."
      ]
    },
    {
      "metadata": {
        "id": "eGJsVU10HMBA",
        "colab_type": "code",
        "colab": {}
      },
      "cell_type": "code",
      "source": [
        "D1=EEG1.map(lambda v : lfilter(BDelta[0], BDelta[1],v[1].reshape(1500,)))\n",
        "EntropyD1=D1.map(lambda x : Entropy(x.reshape(1500,)))\n",
        "EnergyD1=D1.map(lambda x : Energy(x.reshape(1500,)))\n",
        "ECD1=D1.map(lambda x : Ecart_type(x.reshape(1500,)))\n",
        "\n",
        "T1=EEG1.map(lambda v : lfilter(BTheta[0], BTheta[1],v[1].reshape(1500,)))\n",
        "EntropyT1=T1.map(lambda x : Entropy(x.reshape(1500,)))\n",
        "EnergyT1=T1.map(lambda x : Energy(x.reshape(1500,)))\n",
        "ECT1=T1.map(lambda x : Ecart_type(x.reshape(1500,)))\n",
        "\n",
        "A1=EEG1.map(lambda v : lfilter(BAlpha[0], BAlpha[1],v[1].reshape(1500,)))\n",
        "EntropyA1=A1.map(lambda x : Entropy(x.reshape(1500,)))\n",
        "EnergyA1=A1.map(lambda x : Energy(x.reshape(1500,)))\n",
        "ECA1=A1.map(lambda x : Ecart_type(x.reshape(1500,)))\n",
        "\n",
        "G1=EEG1.map(lambda v : lfilter(BGamma[0], BGamma[1],v[1].reshape(1500,)))\n",
        "EntropyG1=G1.map(lambda x : Entropy(x.reshape(1500,)))\n",
        "EnergyG1=G1.map(lambda x : Energy(x.reshape(1500,)))\n",
        "ECG1=G1.map(lambda x : Ecart_type(x.reshape(1500,)))\n",
        "\n",
        "Mx=ACCX.map(lambda v : np.mean(v[1].reshape(300,)))\n",
        "My=ACCY.map(lambda v : np.mean(v[1].reshape(300,)))\n",
        "Mz=ACCZ.map(lambda v : np.mean(v[1].reshape(300,)))\n",
        "Sx=ACCX.map(lambda v : Ecart_type(v[1].reshape(300,)))\n",
        "Sy=ACCY.map(lambda v : Ecart_type(v[1].reshape(300,)))\n",
        "Sz=ACCZ.map(lambda v : Ecart_type(v[1].reshape(300,)))\n"
      ],
      "execution_count": 0,
      "outputs": []
    },
    {
      "metadata": {
        "id": "wpyfU_unGsXE",
        "colab_type": "text"
      },
      "cell_type": "markdown",
      "source": [
        "Ici on importe la colonne des labels, qui est déjà sous forme de Dataframe."
      ]
    },
    {
      "metadata": {
        "id": "PK9u2svQcGAv",
        "colab_type": "code",
        "colab": {}
      },
      "cell_type": "code",
      "source": [
        "import numpy as np \n",
        "file='drive/My Drive/PLP project/Dreem/train_y.csv'\n",
        "lab=sqlContext.read.format('com.databricks.spark.csv').options(delimiter=\",\").load(file, header = True)\n",
        "\n",
        "from pyspark.sql.functions import col\n",
        "\n",
        "Sleep_stage=lab.select('sleep_stage')"
      ],
      "execution_count": 0,
      "outputs": []
    },
    {
      "metadata": {
        "id": "pN7ogHbkG6Aw",
        "colab_type": "text"
      },
      "cell_type": "markdown",
      "source": [
        "L'idée ici est de transformer toutes nos features (sous forme de RDDs) en un seul DataFrame. Pour cela on indexe chacun des features (avec un numéro de ligne) afin de pouvoir réaliser des jointures simples.\n",
        "Hélas cette méthode échoue en raison d'un manque de ressources..."
      ]
    },
    {
      "metadata": {
        "id": "Rogs-mBvHxyB",
        "colab_type": "code",
        "colab": {}
      },
      "cell_type": "code",
      "source": [
        "import pandas as pd\n",
        "from pyspark.sql.functions import lit\n",
        "from pyspark.sql.functions import monotonically_increasing_id\n",
        "from pyspark.sql.types import FloatType\n",
        "liste=[Sleep_stage,EntropyD1, EntropyT1,EntropyA1,EntropyG1,EnergyD1,EnergyT1,EnergyA1,EnergyG1,ECD1,ECT1,ECA1,ECG1,Mx,My,Mz,Sx,Sy,Sz]\n",
        "features=['sleep_stage','EntropyD1', 'EntropyT1','EntropyA1','EntropyG1','EnergyD1','EnergyT1','EnergyA1','EnergyG1','ECD1','ECT1','ECA1','ECG1','Mx','My','Mz','Sx','Sy','Sz']\n",
        "\n",
        "\n",
        "\n",
        "dataframes=[Sleep_stage]\n",
        "k=1\n",
        "\n",
        "for x in liste[1:]:\n",
        "  dataframes.append(sqlContext.createDataFrame(x,FloatType()).toDF(features[k]))\n",
        "  k+=1\n",
        "  \n",
        "F=[]\n",
        "for d in dataframes:\n",
        "  e=d.withColumn(\"id\", monotonically_increasing_id()) \n",
        "  F.append(e)\n",
        "\n",
        "df=F[0]\n",
        "\n",
        "df=df.withColumn(\"Sleep_stage\",df[\"sleep_stage\"].cast(FloatType()))\n",
        "F.pop(0)\n",
        "for d in F:\n",
        "  newd=df\n",
        "  df=newd.join(d,'id')\n",
        "  \n",
        "df=df.drop(\"id\")\n",
        "\n",
        "#df.show()\n",
        "\n"
      ],
      "execution_count": 0,
      "outputs": []
    },
    {
      "metadata": {
        "id": "Ke3xsi9WHlZC",
        "colab_type": "text"
      },
      "cell_type": "markdown",
      "source": [
        "On doit ainsi changer notre fusil d'épaule, et pour cela on choisit une méthode plus \"artisanale\", qui consiste à calculer les features sur chacune des lignes une par une.\n",
        "On réalise à chaque fois une union entre la ligne calculée et les précédentes. Cette méthode s'avère très lente."
      ]
    },
    {
      "metadata": {
        "id": "IMxHfEenG2CM",
        "colab_type": "code",
        "outputId": "1b6c7543-c3f4-45b6-c897-18845ab7c81f",
        "colab": {
          "base_uri": "https://localhost:8080/",
          "height": 72
        }
      },
      "cell_type": "code",
      "source": [
        "import numpy as np \n",
        "import time\n",
        "tmps1=time.clock()\n",
        "\n",
        "EntropyD1=[]\n",
        "EntropyT1=[]\n",
        "EntropyA1=[]\n",
        "EntropyG1=[]\n",
        "EnergyD1=[]\n",
        "EnergyT1=[]\n",
        "EnergyA1=[]\n",
        "EnergyG1=[]\n",
        "ECD1=[]\n",
        "ECT1=[]\n",
        "ECA1=[]\n",
        "ECG1=[]\n",
        "Mx=[]\n",
        "My=[]\n",
        "Mz=[]\n",
        "Sx=[]\n",
        "Sy=[]\n",
        "Sz=[]\n",
        "\n",
        "\n",
        "for i in range(200):\n",
        "  if i%10==0:\n",
        "    print(i)\n",
        "  v1=EEG1.filter(lambda x : x[0]==i).map(lambda x : x[1]).take(1)\n",
        "  \n",
        "  vx=ACCX.filter(lambda x : x[0]==i).map(lambda x : x[1]).take(1)\n",
        "  vy=ACCY.filter(lambda x : x[0]==i).map(lambda x : x[1]).take(1)\n",
        "  vz=ACCZ.filter(lambda x : x[0]==i).map(lambda x : x[1]).take(1)\n",
        "  \n",
        "  d1 = lfilter(BDelta[0], BDelta[1],v1)\n",
        "  t1=  lfilter(BTheta[0], BTheta[1],v1)\n",
        "  a1 = lfilter(BAlpha[0], BAlpha[1],v1)\n",
        "  g1 = lfilter(BGamma[0], BGamma[1],v1)\n",
        "  \n",
        "  \n",
        "  labv=lab.select('sleep_stage').where(col(\"id\").isin({i}))\n",
        "  label=int(np.array(labv.take(1))[0,0])\n",
        "\n",
        "  \n",
        "  from pyspark.sql.types import *\n",
        "  \n",
        "  \n",
        "  #\n",
        "  liste=[(label,Entropy(d1), Entropy(t1), Entropy(a1), Entropy(g1), Energy(d1),Energy(t1) , Energy(a1),Energy(g1), Ecart_type(d1),Ecart_type(t1),Ecart_type(a1),Ecart_type(g1),np.mean(vx),np.mean(vy),np.mean(vz),Ecart_type(vx),Ecart_type(vy),Ecart_type(vz))]\n",
        "  #rdd.take(10)\n",
        "  from pyspark.sql.types import FloatType\n",
        "  liste=np.asarray(liste)\n",
        "  liste=liste.tolist()\n",
        "  #rdd = sc.parallelize(liste)\n",
        "  \n",
        "  #dfu=sqlContext.createDataFrame(rdd, [\"EntropyD1\", \"EntropyT1\",\"EntropyA1\",\"EntropyG1\",\"EnergyD1\",\"EnergyT1\",\"EnergyA1\",\"EnergyG1\",\"ECD1\",\"ECT1\",\"ECA1\",\"ECG1\",\"Mx\",\"My\",\"Mz\",\"Sx\",\"Sy\",\"Sz\"])\n",
        "  features=['Sleep_stage','EntropyD1', 'EntropyT1','EntropyA1','EntropyG1','EnergyD1','EnergyT1','EnergyA1','EnergyG1','ECD1','ECT1','ECA1','ECG1','Mx','My','Mz','Sx','Sy','Sz']\n",
        " \n",
        "  #dfu=sqlContext.createDataFrame(liste,schema)\n",
        "  \n",
        "  dfu=sqlContext.createDataFrame(liste,features, FloatType())\n",
        "  if i!=0:\n",
        "    df=df.union(dfu)\n",
        "  else :\n",
        "    df=dfu\n",
        "  \n",
        "tmps2=time.clock()\n",
        "print(tmps2-tmps1)\n",
        "  "
      ],
      "execution_count": 0,
      "outputs": [
        {
          "output_type": "stream",
          "text": [
            "0\n",
            "10\n",
            "20\n"
          ],
          "name": "stdout"
        }
      ]
    },
    {
      "metadata": {
        "id": "mg2V1PxcEKgU",
        "colab_type": "text"
      },
      "cell_type": "markdown",
      "source": [
        "**Matrice de corrélation**\n",
        "\n",
        "L'idée ici est de réduire le nombre de features pour accélérer le temps de calcul. Pour cela on affiche les couples de features ayant un score supérieur à 0.95"
      ]
    },
    {
      "metadata": {
        "id": "8yddwa7C6Hk4",
        "colab_type": "code",
        "colab": {}
      },
      "cell_type": "code",
      "source": [
        "from pyspark.ml.stat import Correlation\n",
        "features=[\"Sleep_stage\",\"EntropyD1\", \"EntropyT1\",\"EntropyA1\",\"EntropyG1\",\"EnergyD1\",\"EnergyT1\",\"EnergyA1\",\"EnergyG1\",\"ECD1\",\"ECT1\",\"ECA1\",\"ECG1\",\"Mx\",\"My\",\"Mz\",\"Sx\",\"Sy\",\"Sz\"]\n",
        "feat = df.rdd.map(lambda row: row[0:])\n",
        "\n",
        "corr_mat=Statistics.corr(feat, method=\"pearson\")\n",
        "\n",
        "M=[]\n",
        "for i in range(19):\n",
        "  for j in range(i+1,19):\n",
        "    if corr_mat[i,j]>0.95 and i!=j:\n",
        "      M.append((features[i],features[j]))\n",
        "\n",
        "print(M)"
      ],
      "execution_count": 0,
      "outputs": []
    },
    {
      "metadata": {
        "id": "3RMSbAEbIhad",
        "colab_type": "text"
      },
      "cell_type": "markdown",
      "source": [
        "**Fichier issu du calcul Python**\n",
        "Pour comparer les performances de l'apprentissage, on va prendre le dataframe calculé par Python comportant toutes les lignes (environ 38000). Il serait en effet peu intéressant de lancer des algorithmes de Machine Learning sur un nombre faible de données."
      ]
    },
    {
      "metadata": {
        "id": "3QR2u4a8dk4z",
        "colab_type": "code",
        "colab": {}
      },
      "cell_type": "code",
      "source": [
        "import numpy as np \n",
        "file='drive/My Drive/PLP project/Dreem/data_dreem.csv'\n",
        "df=sqlContext.read.format('com.databricks.spark.csv').options(delimiter=\",\").load(file, header = True)\n",
        "for col in df.columns:\n",
        "  df=df.withColumn(str(col),df[col].cast(FloatType()))\n",
        "df.schema"
      ],
      "execution_count": 0,
      "outputs": []
    },
    {
      "metadata": {
        "id": "OIZFN9alJXv4",
        "colab_type": "text"
      },
      "cell_type": "markdown",
      "source": [
        "# Construction du modèle et Apprentissage"
      ]
    },
    {
      "metadata": {
        "id": "1RNLoZfHwdyE",
        "colab_type": "text"
      },
      "cell_type": "markdown",
      "source": [
        "On commence par utiliser des fonctions d'indexation, d'encodage et d'assemblage sur notre DataFrame afin de pouvoir tester des classifiers."
      ]
    },
    {
      "metadata": {
        "id": "t8UtlAHvx1Lm",
        "colab_type": "code",
        "colab": {}
      },
      "cell_type": "code",
      "source": [
        "def get_dummy(df,categoricalCols,continuousCols,labelCol):\n",
        "\n",
        "    from pyspark.ml import Pipeline\n",
        "    from pyspark.ml.feature import StringIndexer, OneHotEncoder, VectorAssembler\n",
        "    from pyspark.sql.functions import col\n",
        "\n",
        "    indexers = [ StringIndexer(inputCol=c, outputCol=\"{0}_indexed\".format(c))\n",
        "                 for c in categoricalCols ]\n",
        "\n",
        "    # default setting: dropLast=True\n",
        "    encoders = [ OneHotEncoder(inputCol=indexer.getOutputCol(),\n",
        "                 outputCol=\"{0}_encoded\".format(indexer.getOutputCol()))\n",
        "                 for indexer in indexers ]\n",
        "\n",
        "    assembler = VectorAssembler(inputCols=[encoder.getOutputCol() for encoder in encoders]\n",
        "                                + continuousCols, outputCol=\"features\")\n",
        "\n",
        "    pipeline = Pipeline(stages=indexers + encoders + [assembler])\n",
        "\n",
        "    model=pipeline.fit(df)\n",
        "    data = model.transform(df)\n",
        "\n",
        "    data = data.withColumn('label',col(labelCol))\n",
        "\n",
        "    return data.select('features','label')\n",
        "  \n",
        "tmps1=time.clock()  \n",
        "catcols = []\n",
        "\n",
        "num_cols = [df.columns[i] for i in range(len(df.columns)) if df.columns[i]!=\"labels\"]\n",
        "\n",
        "labelCol = \"labels\"\n",
        "\n",
        "data = get_dummy(df,catcols,num_cols,labelCol)\n",
        "c=data.count()"
      ],
      "execution_count": 0,
      "outputs": []
    },
    {
      "metadata": {
        "id": "767xrEoZxcED",
        "colab_type": "code",
        "colab": {}
      },
      "cell_type": "code",
      "source": [
        "from pyspark.ml.feature import VectorIndexer\n",
        "# Automatically identify categorical features, and index them.\n",
        "# Set maxCategories so features with > 4 distinct values are treated as continuous.\n",
        "\n",
        "featureIndexer =VectorIndexer(inputCol=\"features\", \\\n",
        "                                  outputCol=\"indexedFeatures\", \\\n",
        "                                  maxCategories=4).fit(data)\n",
        "featureIndexer.transform(data).show(5, True)"
      ],
      "execution_count": 0,
      "outputs": []
    },
    {
      "metadata": {
        "id": "PRSmyDBppWNZ",
        "colab_type": "code",
        "colab": {}
      },
      "cell_type": "code",
      "source": [
        "from pyspark.ml.feature import StringIndexer\n",
        "# Index labels, adding metadata to the label column\n",
        "labelIndexer = StringIndexer(inputCol='label',\n",
        "                             outputCol='indexedLabel').fit(data)\n",
        "labelIndexer.transform(data).show(5, True)"
      ],
      "execution_count": 0,
      "outputs": []
    },
    {
      "metadata": {
        "id": "RGRQ02yrKAM4",
        "colab_type": "text"
      },
      "cell_type": "markdown",
      "source": [
        "Pour finir, on lance le modèle sur un RandomForestClassifier qui s'est avéré le plus efficace pour nos données. On divise le trainingSet par tranches de 10% afin de pouvoir mesurer l'évolution de l'erreur et du temps de calcul en fonction de la taille de la base d'entraînement. "
      ]
    },
    {
      "metadata": {
        "id": "Nvm5ZWv8v_mC",
        "colab_type": "code",
        "colab": {}
      },
      "cell_type": "code",
      "source": [
        "from pyspark.ml.feature import IndexToString, StringIndexer\n",
        "from pyspark.ml.classification import RandomForestClassifier\n",
        "from pyspark.ml import Pipeline\n",
        "from pyspark.ml.evaluation import MulticlassClassificationEvaluator\n",
        "\n",
        "temps=[]\n",
        "test_err=[]\n",
        "taille=[]\n",
        "(data_bis,testData)=data.randomSplit([0.8,0.2])\n",
        "for i in range(1,9):\n",
        "  print(i)\n",
        "  \n",
        "  (trainingData_bis, testData_bis) =data_bis.randomSplit([i*0.1,1-i*0.1])\n",
        "\n",
        "  \n",
        "  \n",
        "  rf = RandomForestClassifier(labelCol=\"indexedLabel\", featuresCol=\"indexedFeatures\", numTrees=50,maxDepth=20)\n",
        "  # Convert indexed labels back to original labels.\n",
        "  labelConverter = IndexToString(inputCol=\"prediction\", outputCol=\"predictedLabel\",\n",
        "                                 labels=labelIndexer.labels)\n",
        "  # Chain indexers and tree in a Pipeline\n",
        "  pipeline = Pipeline(stages=[labelIndexer, featureIndexer, rf,labelConverter])\n",
        "  # Train model.  This also runs the indexers.\n",
        "  tmps1=time.time()\n",
        "  model = pipeline.fit(trainingData_bis)\n",
        "  tmps2=time.time()\n",
        "  # Make predictions.\n",
        "  predictions = model.transform(testData)\n",
        "  # Select (prediction, true label) and compute test error\n",
        "  evaluator = MulticlassClassificationEvaluator(\n",
        "      labelCol=\"indexedLabel\", predictionCol=\"prediction\", metricName=\"accuracy\")\n",
        "  test_err.append(evaluator.evaluate(predictions))\n",
        "  taille.append(trainingData_bis.count())\n",
        "  \n",
        "  \n",
        "  temps.append(tmps2-tmps1)"
      ],
      "execution_count": 0,
      "outputs": []
    },
    {
      "metadata": {
        "id": "M84NnqkLkMA0",
        "colab_type": "code",
        "colab": {}
      },
      "cell_type": "code",
      "source": [
        "\n",
        "import matplotlib.pyplot as plt\n",
        "plt.plot(taille,temps)\n",
        "plt.title(\"Le temps d'apprentissage en fonction de la taille d'échantillon\")\n",
        "plt.ylabel('Les temps')\n",
        "plt.xlabel(\"La taille de l'échantillon\")\n"
      ],
      "execution_count": 0,
      "outputs": []
    },
    {
      "metadata": {
        "id": "6V_7iFMmkYTB",
        "colab_type": "code",
        "outputId": "fec7d479-9e9e-4fea-8a78-2e98264874ee",
        "colab": {
          "base_uri": "https://localhost:8080/",
          "height": 392
        }
      },
      "cell_type": "code",
      "source": [
        "import matplotlib.pyplot as plt\n",
        "plt.plot(taille,test_err)\n",
        "plt.title(\"La précision en fonction de la taille d'échantillon\")\n",
        "plt.ylabel('La précision')\n",
        "plt.xlabel(\"La taille de l'échantillon\")"
      ],
      "execution_count": 0,
      "outputs": [
        {
          "output_type": "execute_result",
          "data": {
            "text/plain": [
              "Text(0.5, 0, \"La taille de l'échantillon\")"
            ]
          },
          "metadata": {
            "tags": []
          },
          "execution_count": 25
        },
        {
          "output_type": "display_data",
          "data": {
            "image/png": "[encoded data removed]",
            "text/plain": [
              "<Figure size 576x396 with 1 Axes>"
            ]
          },
          "metadata": {
            "tags": []
          }
        }
      ]
    },
    {
      "metadata": {
        "id": "844e6ARLBdXM",
        "colab_type": "text"
      },
      "cell_type": "markdown",
      "source": [
        "On obtient une précision équivalente à celle obtenue sur Python. Les temps de calcul sont par contre au moins doublés."
      ]
    }
  ]
}